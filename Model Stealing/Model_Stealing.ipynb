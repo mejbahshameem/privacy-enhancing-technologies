{
  "nbformat": 4,
  "nbformat_minor": 0,
  "metadata": {
    "colab": {
      "name": "Model Stealing",
      "provenance": [],
      "collapsed_sections": [
        "7LrNaQZiw-pv",
        "-mfAmVSY1BsX",
        "NdOG3PUYDFy6",
        "AE4iNCDKR0F4",
        "Mi3ipluRbabX"
      ]
    },
    "kernelspec": {
      "display_name": "Python 3",
      "name": "python3"
    },
    "widgets": {
      "application/vnd.jupyter.widget-state+json": {
        "2a3738bc02614757bac73a38d167b130": {
          "model_module": "@jupyter-widgets/controls",
          "model_name": "HBoxModel",
          "state": {
            "_view_name": "HBoxView",
            "_dom_classes": [],
            "_model_name": "HBoxModel",
            "_view_module": "@jupyter-widgets/controls",
            "_model_module_version": "1.5.0",
            "_view_count": null,
            "_view_module_version": "1.5.0",
            "box_style": "",
            "layout": "IPY_MODEL_fa3ebb43b3d944449b273c456ff6cb55",
            "_model_module": "@jupyter-widgets/controls",
            "children": [
              "IPY_MODEL_8c0d393b6b1546a3b15d0c5ff1ed1b52",
              "IPY_MODEL_602492774bf44cc6a240b392b6ad1fac"
            ]
          }
        },
        "fa3ebb43b3d944449b273c456ff6cb55": {
          "model_module": "@jupyter-widgets/base",
          "model_name": "LayoutModel",
          "state": {
            "_view_name": "LayoutView",
            "grid_template_rows": null,
            "right": null,
            "justify_content": null,
            "_view_module": "@jupyter-widgets/base",
            "overflow": null,
            "_model_module_version": "1.2.0",
            "_view_count": null,
            "flex_flow": null,
            "width": null,
            "min_width": null,
            "border": null,
            "align_items": null,
            "bottom": null,
            "_model_module": "@jupyter-widgets/base",
            "top": null,
            "grid_column": null,
            "overflow_y": null,
            "overflow_x": null,
            "grid_auto_flow": null,
            "grid_area": null,
            "grid_template_columns": null,
            "flex": null,
            "_model_name": "LayoutModel",
            "justify_items": null,
            "grid_row": null,
            "max_height": null,
            "align_content": null,
            "visibility": null,
            "align_self": null,
            "height": null,
            "min_height": null,
            "padding": null,
            "grid_auto_rows": null,
            "grid_gap": null,
            "max_width": null,
            "order": null,
            "_view_module_version": "1.2.0",
            "grid_template_areas": null,
            "object_position": null,
            "object_fit": null,
            "grid_auto_columns": null,
            "margin": null,
            "display": null,
            "left": null
          }
        },
        "8c0d393b6b1546a3b15d0c5ff1ed1b52": {
          "model_module": "@jupyter-widgets/controls",
          "model_name": "FloatProgressModel",
          "state": {
            "_view_name": "ProgressView",
            "style": "IPY_MODEL_6856bd4818434faab27c8417c984b19b",
            "_dom_classes": [],
            "description": "",
            "_model_name": "FloatProgressModel",
            "bar_style": "info",
            "max": 1,
            "_view_module": "@jupyter-widgets/controls",
            "_model_module_version": "1.5.0",
            "value": 1,
            "_view_count": null,
            "_view_module_version": "1.5.0",
            "orientation": "horizontal",
            "min": 0,
            "description_tooltip": null,
            "_model_module": "@jupyter-widgets/controls",
            "layout": "IPY_MODEL_d4329992b9594c3fa774488180d9604d"
          }
        },
        "602492774bf44cc6a240b392b6ad1fac": {
          "model_module": "@jupyter-widgets/controls",
          "model_name": "HTMLModel",
          "state": {
            "_view_name": "HTMLView",
            "style": "IPY_MODEL_ffdeb44964614600a45e1e1773ea38d8",
            "_dom_classes": [],
            "description": "",
            "_model_name": "HTMLModel",
            "placeholder": "​",
            "_view_module": "@jupyter-widgets/controls",
            "_model_module_version": "1.5.0",
            "value": " 26427392/? [00:15&lt;00:00, 3221199.11it/s]",
            "_view_count": null,
            "_view_module_version": "1.5.0",
            "description_tooltip": null,
            "_model_module": "@jupyter-widgets/controls",
            "layout": "IPY_MODEL_9577383eff80461e8597a6858c78dcc1"
          }
        },
        "6856bd4818434faab27c8417c984b19b": {
          "model_module": "@jupyter-widgets/controls",
          "model_name": "ProgressStyleModel",
          "state": {
            "_view_name": "StyleView",
            "_model_name": "ProgressStyleModel",
            "description_width": "initial",
            "_view_module": "@jupyter-widgets/base",
            "_model_module_version": "1.5.0",
            "_view_count": null,
            "_view_module_version": "1.2.0",
            "bar_color": null,
            "_model_module": "@jupyter-widgets/controls"
          }
        },
        "d4329992b9594c3fa774488180d9604d": {
          "model_module": "@jupyter-widgets/base",
          "model_name": "LayoutModel",
          "state": {
            "_view_name": "LayoutView",
            "grid_template_rows": null,
            "right": null,
            "justify_content": null,
            "_view_module": "@jupyter-widgets/base",
            "overflow": null,
            "_model_module_version": "1.2.0",
            "_view_count": null,
            "flex_flow": null,
            "width": null,
            "min_width": null,
            "border": null,
            "align_items": null,
            "bottom": null,
            "_model_module": "@jupyter-widgets/base",
            "top": null,
            "grid_column": null,
            "overflow_y": null,
            "overflow_x": null,
            "grid_auto_flow": null,
            "grid_area": null,
            "grid_template_columns": null,
            "flex": null,
            "_model_name": "LayoutModel",
            "justify_items": null,
            "grid_row": null,
            "max_height": null,
            "align_content": null,
            "visibility": null,
            "align_self": null,
            "height": null,
            "min_height": null,
            "padding": null,
            "grid_auto_rows": null,
            "grid_gap": null,
            "max_width": null,
            "order": null,
            "_view_module_version": "1.2.0",
            "grid_template_areas": null,
            "object_position": null,
            "object_fit": null,
            "grid_auto_columns": null,
            "margin": null,
            "display": null,
            "left": null
          }
        },
        "ffdeb44964614600a45e1e1773ea38d8": {
          "model_module": "@jupyter-widgets/controls",
          "model_name": "DescriptionStyleModel",
          "state": {
            "_view_name": "StyleView",
            "_model_name": "DescriptionStyleModel",
            "description_width": "",
            "_view_module": "@jupyter-widgets/base",
            "_model_module_version": "1.5.0",
            "_view_count": null,
            "_view_module_version": "1.2.0",
            "_model_module": "@jupyter-widgets/controls"
          }
        },
        "9577383eff80461e8597a6858c78dcc1": {
          "model_module": "@jupyter-widgets/base",
          "model_name": "LayoutModel",
          "state": {
            "_view_name": "LayoutView",
            "grid_template_rows": null,
            "right": null,
            "justify_content": null,
            "_view_module": "@jupyter-widgets/base",
            "overflow": null,
            "_model_module_version": "1.2.0",
            "_view_count": null,
            "flex_flow": null,
            "width": null,
            "min_width": null,
            "border": null,
            "align_items": null,
            "bottom": null,
            "_model_module": "@jupyter-widgets/base",
            "top": null,
            "grid_column": null,
            "overflow_y": null,
            "overflow_x": null,
            "grid_auto_flow": null,
            "grid_area": null,
            "grid_template_columns": null,
            "flex": null,
            "_model_name": "LayoutModel",
            "justify_items": null,
            "grid_row": null,
            "max_height": null,
            "align_content": null,
            "visibility": null,
            "align_self": null,
            "height": null,
            "min_height": null,
            "padding": null,
            "grid_auto_rows": null,
            "grid_gap": null,
            "max_width": null,
            "order": null,
            "_view_module_version": "1.2.0",
            "grid_template_areas": null,
            "object_position": null,
            "object_fit": null,
            "grid_auto_columns": null,
            "margin": null,
            "display": null,
            "left": null
          }
        },
        "0be6c6e2afea4e16aa1a024aa70b2917": {
          "model_module": "@jupyter-widgets/controls",
          "model_name": "HBoxModel",
          "state": {
            "_view_name": "HBoxView",
            "_dom_classes": [],
            "_model_name": "HBoxModel",
            "_view_module": "@jupyter-widgets/controls",
            "_model_module_version": "1.5.0",
            "_view_count": null,
            "_view_module_version": "1.5.0",
            "box_style": "",
            "layout": "IPY_MODEL_e2cc59b2859745b99ef88760e4036298",
            "_model_module": "@jupyter-widgets/controls",
            "children": [
              "IPY_MODEL_f0b3f10e11d943b79f2abb8b544d8311",
              "IPY_MODEL_2ce9fe8f03c54cb4a5f0c31fce14ee4b"
            ]
          }
        },
        "e2cc59b2859745b99ef88760e4036298": {
          "model_module": "@jupyter-widgets/base",
          "model_name": "LayoutModel",
          "state": {
            "_view_name": "LayoutView",
            "grid_template_rows": null,
            "right": null,
            "justify_content": null,
            "_view_module": "@jupyter-widgets/base",
            "overflow": null,
            "_model_module_version": "1.2.0",
            "_view_count": null,
            "flex_flow": null,
            "width": null,
            "min_width": null,
            "border": null,
            "align_items": null,
            "bottom": null,
            "_model_module": "@jupyter-widgets/base",
            "top": null,
            "grid_column": null,
            "overflow_y": null,
            "overflow_x": null,
            "grid_auto_flow": null,
            "grid_area": null,
            "grid_template_columns": null,
            "flex": null,
            "_model_name": "LayoutModel",
            "justify_items": null,
            "grid_row": null,
            "max_height": null,
            "align_content": null,
            "visibility": null,
            "align_self": null,
            "height": null,
            "min_height": null,
            "padding": null,
            "grid_auto_rows": null,
            "grid_gap": null,
            "max_width": null,
            "order": null,
            "_view_module_version": "1.2.0",
            "grid_template_areas": null,
            "object_position": null,
            "object_fit": null,
            "grid_auto_columns": null,
            "margin": null,
            "display": null,
            "left": null
          }
        },
        "f0b3f10e11d943b79f2abb8b544d8311": {
          "model_module": "@jupyter-widgets/controls",
          "model_name": "FloatProgressModel",
          "state": {
            "_view_name": "ProgressView",
            "style": "IPY_MODEL_68bc6437bbea47a6ba1ecc0293cea059",
            "_dom_classes": [],
            "description": "",
            "_model_name": "FloatProgressModel",
            "bar_style": "info",
            "max": 1,
            "_view_module": "@jupyter-widgets/controls",
            "_model_module_version": "1.5.0",
            "value": 1,
            "_view_count": null,
            "_view_module_version": "1.5.0",
            "orientation": "horizontal",
            "min": 0,
            "description_tooltip": null,
            "_model_module": "@jupyter-widgets/controls",
            "layout": "IPY_MODEL_176000f882144b6f991618ab23c05963"
          }
        },
        "2ce9fe8f03c54cb4a5f0c31fce14ee4b": {
          "model_module": "@jupyter-widgets/controls",
          "model_name": "HTMLModel",
          "state": {
            "_view_name": "HTMLView",
            "style": "IPY_MODEL_0791205baab343c481fae1d56faa84a6",
            "_dom_classes": [],
            "description": "",
            "_model_name": "HTMLModel",
            "placeholder": "​",
            "_view_module": "@jupyter-widgets/controls",
            "_model_module_version": "1.5.0",
            "value": " 32768/? [00:19&lt;00:00, 56169.47it/s]",
            "_view_count": null,
            "_view_module_version": "1.5.0",
            "description_tooltip": null,
            "_model_module": "@jupyter-widgets/controls",
            "layout": "IPY_MODEL_0c9a0f8c39f147c28b595b71add56009"
          }
        },
        "68bc6437bbea47a6ba1ecc0293cea059": {
          "model_module": "@jupyter-widgets/controls",
          "model_name": "ProgressStyleModel",
          "state": {
            "_view_name": "StyleView",
            "_model_name": "ProgressStyleModel",
            "description_width": "initial",
            "_view_module": "@jupyter-widgets/base",
            "_model_module_version": "1.5.0",
            "_view_count": null,
            "_view_module_version": "1.2.0",
            "bar_color": null,
            "_model_module": "@jupyter-widgets/controls"
          }
        },
        "176000f882144b6f991618ab23c05963": {
          "model_module": "@jupyter-widgets/base",
          "model_name": "LayoutModel",
          "state": {
            "_view_name": "LayoutView",
            "grid_template_rows": null,
            "right": null,
            "justify_content": null,
            "_view_module": "@jupyter-widgets/base",
            "overflow": null,
            "_model_module_version": "1.2.0",
            "_view_count": null,
            "flex_flow": null,
            "width": null,
            "min_width": null,
            "border": null,
            "align_items": null,
            "bottom": null,
            "_model_module": "@jupyter-widgets/base",
            "top": null,
            "grid_column": null,
            "overflow_y": null,
            "overflow_x": null,
            "grid_auto_flow": null,
            "grid_area": null,
            "grid_template_columns": null,
            "flex": null,
            "_model_name": "LayoutModel",
            "justify_items": null,
            "grid_row": null,
            "max_height": null,
            "align_content": null,
            "visibility": null,
            "align_self": null,
            "height": null,
            "min_height": null,
            "padding": null,
            "grid_auto_rows": null,
            "grid_gap": null,
            "max_width": null,
            "order": null,
            "_view_module_version": "1.2.0",
            "grid_template_areas": null,
            "object_position": null,
            "object_fit": null,
            "grid_auto_columns": null,
            "margin": null,
            "display": null,
            "left": null
          }
        },
        "0791205baab343c481fae1d56faa84a6": {
          "model_module": "@jupyter-widgets/controls",
          "model_name": "DescriptionStyleModel",
          "state": {
            "_view_name": "StyleView",
            "_model_name": "DescriptionStyleModel",
            "description_width": "",
            "_view_module": "@jupyter-widgets/base",
            "_model_module_version": "1.5.0",
            "_view_count": null,
            "_view_module_version": "1.2.0",
            "_model_module": "@jupyter-widgets/controls"
          }
        },
        "0c9a0f8c39f147c28b595b71add56009": {
          "model_module": "@jupyter-widgets/base",
          "model_name": "LayoutModel",
          "state": {
            "_view_name": "LayoutView",
            "grid_template_rows": null,
            "right": null,
            "justify_content": null,
            "_view_module": "@jupyter-widgets/base",
            "overflow": null,
            "_model_module_version": "1.2.0",
            "_view_count": null,
            "flex_flow": null,
            "width": null,
            "min_width": null,
            "border": null,
            "align_items": null,
            "bottom": null,
            "_model_module": "@jupyter-widgets/base",
            "top": null,
            "grid_column": null,
            "overflow_y": null,
            "overflow_x": null,
            "grid_auto_flow": null,
            "grid_area": null,
            "grid_template_columns": null,
            "flex": null,
            "_model_name": "LayoutModel",
            "justify_items": null,
            "grid_row": null,
            "max_height": null,
            "align_content": null,
            "visibility": null,
            "align_self": null,
            "height": null,
            "min_height": null,
            "padding": null,
            "grid_auto_rows": null,
            "grid_gap": null,
            "max_width": null,
            "order": null,
            "_view_module_version": "1.2.0",
            "grid_template_areas": null,
            "object_position": null,
            "object_fit": null,
            "grid_auto_columns": null,
            "margin": null,
            "display": null,
            "left": null
          }
        },
        "57bd9d98a3da45f5bdc6c00515d5ba90": {
          "model_module": "@jupyter-widgets/controls",
          "model_name": "HBoxModel",
          "state": {
            "_view_name": "HBoxView",
            "_dom_classes": [],
            "_model_name": "HBoxModel",
            "_view_module": "@jupyter-widgets/controls",
            "_model_module_version": "1.5.0",
            "_view_count": null,
            "_view_module_version": "1.5.0",
            "box_style": "",
            "layout": "IPY_MODEL_3660297bfa3d4658b0ee40fc0de1c014",
            "_model_module": "@jupyter-widgets/controls",
            "children": [
              "IPY_MODEL_14ce42976fb749fc9f42626598560059",
              "IPY_MODEL_dbe74956fbaf4d1cba5c6409fdd41f15"
            ]
          }
        },
        "3660297bfa3d4658b0ee40fc0de1c014": {
          "model_module": "@jupyter-widgets/base",
          "model_name": "LayoutModel",
          "state": {
            "_view_name": "LayoutView",
            "grid_template_rows": null,
            "right": null,
            "justify_content": null,
            "_view_module": "@jupyter-widgets/base",
            "overflow": null,
            "_model_module_version": "1.2.0",
            "_view_count": null,
            "flex_flow": null,
            "width": null,
            "min_width": null,
            "border": null,
            "align_items": null,
            "bottom": null,
            "_model_module": "@jupyter-widgets/base",
            "top": null,
            "grid_column": null,
            "overflow_y": null,
            "overflow_x": null,
            "grid_auto_flow": null,
            "grid_area": null,
            "grid_template_columns": null,
            "flex": null,
            "_model_name": "LayoutModel",
            "justify_items": null,
            "grid_row": null,
            "max_height": null,
            "align_content": null,
            "visibility": null,
            "align_self": null,
            "height": null,
            "min_height": null,
            "padding": null,
            "grid_auto_rows": null,
            "grid_gap": null,
            "max_width": null,
            "order": null,
            "_view_module_version": "1.2.0",
            "grid_template_areas": null,
            "object_position": null,
            "object_fit": null,
            "grid_auto_columns": null,
            "margin": null,
            "display": null,
            "left": null
          }
        },
        "14ce42976fb749fc9f42626598560059": {
          "model_module": "@jupyter-widgets/controls",
          "model_name": "FloatProgressModel",
          "state": {
            "_view_name": "ProgressView",
            "style": "IPY_MODEL_0d52578312d041bba746042d61ae7fd8",
            "_dom_classes": [],
            "description": "",
            "_model_name": "FloatProgressModel",
            "bar_style": "info",
            "max": 1,
            "_view_module": "@jupyter-widgets/controls",
            "_model_module_version": "1.5.0",
            "value": 1,
            "_view_count": null,
            "_view_module_version": "1.5.0",
            "orientation": "horizontal",
            "min": 0,
            "description_tooltip": null,
            "_model_module": "@jupyter-widgets/controls",
            "layout": "IPY_MODEL_e9c41f55dd9348baa129f32f247e8fff"
          }
        },
        "dbe74956fbaf4d1cba5c6409fdd41f15": {
          "model_module": "@jupyter-widgets/controls",
          "model_name": "HTMLModel",
          "state": {
            "_view_name": "HTMLView",
            "style": "IPY_MODEL_a53ac94194294fa194358d696841642c",
            "_dom_classes": [],
            "description": "",
            "_model_name": "HTMLModel",
            "placeholder": "​",
            "_view_module": "@jupyter-widgets/controls",
            "_model_module_version": "1.5.0",
            "value": " 4423680/? [00:18&lt;00:00, 369257.09it/s]",
            "_view_count": null,
            "_view_module_version": "1.5.0",
            "description_tooltip": null,
            "_model_module": "@jupyter-widgets/controls",
            "layout": "IPY_MODEL_c1d1fe7e98764b28a0b7bbe42f96e374"
          }
        },
        "0d52578312d041bba746042d61ae7fd8": {
          "model_module": "@jupyter-widgets/controls",
          "model_name": "ProgressStyleModel",
          "state": {
            "_view_name": "StyleView",
            "_model_name": "ProgressStyleModel",
            "description_width": "initial",
            "_view_module": "@jupyter-widgets/base",
            "_model_module_version": "1.5.0",
            "_view_count": null,
            "_view_module_version": "1.2.0",
            "bar_color": null,
            "_model_module": "@jupyter-widgets/controls"
          }
        },
        "e9c41f55dd9348baa129f32f247e8fff": {
          "model_module": "@jupyter-widgets/base",
          "model_name": "LayoutModel",
          "state": {
            "_view_name": "LayoutView",
            "grid_template_rows": null,
            "right": null,
            "justify_content": null,
            "_view_module": "@jupyter-widgets/base",
            "overflow": null,
            "_model_module_version": "1.2.0",
            "_view_count": null,
            "flex_flow": null,
            "width": null,
            "min_width": null,
            "border": null,
            "align_items": null,
            "bottom": null,
            "_model_module": "@jupyter-widgets/base",
            "top": null,
            "grid_column": null,
            "overflow_y": null,
            "overflow_x": null,
            "grid_auto_flow": null,
            "grid_area": null,
            "grid_template_columns": null,
            "flex": null,
            "_model_name": "LayoutModel",
            "justify_items": null,
            "grid_row": null,
            "max_height": null,
            "align_content": null,
            "visibility": null,
            "align_self": null,
            "height": null,
            "min_height": null,
            "padding": null,
            "grid_auto_rows": null,
            "grid_gap": null,
            "max_width": null,
            "order": null,
            "_view_module_version": "1.2.0",
            "grid_template_areas": null,
            "object_position": null,
            "object_fit": null,
            "grid_auto_columns": null,
            "margin": null,
            "display": null,
            "left": null
          }
        },
        "a53ac94194294fa194358d696841642c": {
          "model_module": "@jupyter-widgets/controls",
          "model_name": "DescriptionStyleModel",
          "state": {
            "_view_name": "StyleView",
            "_model_name": "DescriptionStyleModel",
            "description_width": "",
            "_view_module": "@jupyter-widgets/base",
            "_model_module_version": "1.5.0",
            "_view_count": null,
            "_view_module_version": "1.2.0",
            "_model_module": "@jupyter-widgets/controls"
          }
        },
        "c1d1fe7e98764b28a0b7bbe42f96e374": {
          "model_module": "@jupyter-widgets/base",
          "model_name": "LayoutModel",
          "state": {
            "_view_name": "LayoutView",
            "grid_template_rows": null,
            "right": null,
            "justify_content": null,
            "_view_module": "@jupyter-widgets/base",
            "overflow": null,
            "_model_module_version": "1.2.0",
            "_view_count": null,
            "flex_flow": null,
            "width": null,
            "min_width": null,
            "border": null,
            "align_items": null,
            "bottom": null,
            "_model_module": "@jupyter-widgets/base",
            "top": null,
            "grid_column": null,
            "overflow_y": null,
            "overflow_x": null,
            "grid_auto_flow": null,
            "grid_area": null,
            "grid_template_columns": null,
            "flex": null,
            "_model_name": "LayoutModel",
            "justify_items": null,
            "grid_row": null,
            "max_height": null,
            "align_content": null,
            "visibility": null,
            "align_self": null,
            "height": null,
            "min_height": null,
            "padding": null,
            "grid_auto_rows": null,
            "grid_gap": null,
            "max_width": null,
            "order": null,
            "_view_module_version": "1.2.0",
            "grid_template_areas": null,
            "object_position": null,
            "object_fit": null,
            "grid_auto_columns": null,
            "margin": null,
            "display": null,
            "left": null
          }
        },
        "d5a98520584446b4a2a6146045bbecce": {
          "model_module": "@jupyter-widgets/controls",
          "model_name": "HBoxModel",
          "state": {
            "_view_name": "HBoxView",
            "_dom_classes": [],
            "_model_name": "HBoxModel",
            "_view_module": "@jupyter-widgets/controls",
            "_model_module_version": "1.5.0",
            "_view_count": null,
            "_view_module_version": "1.5.0",
            "box_style": "",
            "layout": "IPY_MODEL_5517e951cf5145c3b76450d52350b756",
            "_model_module": "@jupyter-widgets/controls",
            "children": [
              "IPY_MODEL_e75e83c721624241bae35b17dac4832c",
              "IPY_MODEL_913a7562f47d4a91ba3f72ae3a5b1f17"
            ]
          }
        },
        "5517e951cf5145c3b76450d52350b756": {
          "model_module": "@jupyter-widgets/base",
          "model_name": "LayoutModel",
          "state": {
            "_view_name": "LayoutView",
            "grid_template_rows": null,
            "right": null,
            "justify_content": null,
            "_view_module": "@jupyter-widgets/base",
            "overflow": null,
            "_model_module_version": "1.2.0",
            "_view_count": null,
            "flex_flow": null,
            "width": null,
            "min_width": null,
            "border": null,
            "align_items": null,
            "bottom": null,
            "_model_module": "@jupyter-widgets/base",
            "top": null,
            "grid_column": null,
            "overflow_y": null,
            "overflow_x": null,
            "grid_auto_flow": null,
            "grid_area": null,
            "grid_template_columns": null,
            "flex": null,
            "_model_name": "LayoutModel",
            "justify_items": null,
            "grid_row": null,
            "max_height": null,
            "align_content": null,
            "visibility": null,
            "align_self": null,
            "height": null,
            "min_height": null,
            "padding": null,
            "grid_auto_rows": null,
            "grid_gap": null,
            "max_width": null,
            "order": null,
            "_view_module_version": "1.2.0",
            "grid_template_areas": null,
            "object_position": null,
            "object_fit": null,
            "grid_auto_columns": null,
            "margin": null,
            "display": null,
            "left": null
          }
        },
        "e75e83c721624241bae35b17dac4832c": {
          "model_module": "@jupyter-widgets/controls",
          "model_name": "FloatProgressModel",
          "state": {
            "_view_name": "ProgressView",
            "style": "IPY_MODEL_5e765764ecf74830867d23faf00041ad",
            "_dom_classes": [],
            "description": "  0%",
            "_model_name": "FloatProgressModel",
            "bar_style": "info",
            "max": 1,
            "_view_module": "@jupyter-widgets/controls",
            "_model_module_version": "1.5.0",
            "value": 0,
            "_view_count": null,
            "_view_module_version": "1.5.0",
            "orientation": "horizontal",
            "min": 0,
            "description_tooltip": null,
            "_model_module": "@jupyter-widgets/controls",
            "layout": "IPY_MODEL_c8e4c3e9b5de44d1927b9e408d8c052a"
          }
        },
        "913a7562f47d4a91ba3f72ae3a5b1f17": {
          "model_module": "@jupyter-widgets/controls",
          "model_name": "HTMLModel",
          "state": {
            "_view_name": "HTMLView",
            "style": "IPY_MODEL_5fd93aeb46a54bc58ca2bcd586299fe8",
            "_dom_classes": [],
            "description": "",
            "_model_name": "HTMLModel",
            "placeholder": "​",
            "_view_module": "@jupyter-widgets/controls",
            "_model_module_version": "1.5.0",
            "value": " 0/5148 [00:00&lt;?, ?it/s]",
            "_view_count": null,
            "_view_module_version": "1.5.0",
            "description_tooltip": null,
            "_model_module": "@jupyter-widgets/controls",
            "layout": "IPY_MODEL_557a923ffea6407c81bdc9fd9891f751"
          }
        },
        "5e765764ecf74830867d23faf00041ad": {
          "model_module": "@jupyter-widgets/controls",
          "model_name": "ProgressStyleModel",
          "state": {
            "_view_name": "StyleView",
            "_model_name": "ProgressStyleModel",
            "description_width": "initial",
            "_view_module": "@jupyter-widgets/base",
            "_model_module_version": "1.5.0",
            "_view_count": null,
            "_view_module_version": "1.2.0",
            "bar_color": null,
            "_model_module": "@jupyter-widgets/controls"
          }
        },
        "c8e4c3e9b5de44d1927b9e408d8c052a": {
          "model_module": "@jupyter-widgets/base",
          "model_name": "LayoutModel",
          "state": {
            "_view_name": "LayoutView",
            "grid_template_rows": null,
            "right": null,
            "justify_content": null,
            "_view_module": "@jupyter-widgets/base",
            "overflow": null,
            "_model_module_version": "1.2.0",
            "_view_count": null,
            "flex_flow": null,
            "width": null,
            "min_width": null,
            "border": null,
            "align_items": null,
            "bottom": null,
            "_model_module": "@jupyter-widgets/base",
            "top": null,
            "grid_column": null,
            "overflow_y": null,
            "overflow_x": null,
            "grid_auto_flow": null,
            "grid_area": null,
            "grid_template_columns": null,
            "flex": null,
            "_model_name": "LayoutModel",
            "justify_items": null,
            "grid_row": null,
            "max_height": null,
            "align_content": null,
            "visibility": null,
            "align_self": null,
            "height": null,
            "min_height": null,
            "padding": null,
            "grid_auto_rows": null,
            "grid_gap": null,
            "max_width": null,
            "order": null,
            "_view_module_version": "1.2.0",
            "grid_template_areas": null,
            "object_position": null,
            "object_fit": null,
            "grid_auto_columns": null,
            "margin": null,
            "display": null,
            "left": null
          }
        },
        "5fd93aeb46a54bc58ca2bcd586299fe8": {
          "model_module": "@jupyter-widgets/controls",
          "model_name": "DescriptionStyleModel",
          "state": {
            "_view_name": "StyleView",
            "_model_name": "DescriptionStyleModel",
            "description_width": "",
            "_view_module": "@jupyter-widgets/base",
            "_model_module_version": "1.5.0",
            "_view_count": null,
            "_view_module_version": "1.2.0",
            "_model_module": "@jupyter-widgets/controls"
          }
        },
        "557a923ffea6407c81bdc9fd9891f751": {
          "model_module": "@jupyter-widgets/base",
          "model_name": "LayoutModel",
          "state": {
            "_view_name": "LayoutView",
            "grid_template_rows": null,
            "right": null,
            "justify_content": null,
            "_view_module": "@jupyter-widgets/base",
            "overflow": null,
            "_model_module_version": "1.2.0",
            "_view_count": null,
            "flex_flow": null,
            "width": null,
            "min_width": null,
            "border": null,
            "align_items": null,
            "bottom": null,
            "_model_module": "@jupyter-widgets/base",
            "top": null,
            "grid_column": null,
            "overflow_y": null,
            "overflow_x": null,
            "grid_auto_flow": null,
            "grid_area": null,
            "grid_template_columns": null,
            "flex": null,
            "_model_name": "LayoutModel",
            "justify_items": null,
            "grid_row": null,
            "max_height": null,
            "align_content": null,
            "visibility": null,
            "align_self": null,
            "height": null,
            "min_height": null,
            "padding": null,
            "grid_auto_rows": null,
            "grid_gap": null,
            "max_width": null,
            "order": null,
            "_view_module_version": "1.2.0",
            "grid_template_areas": null,
            "object_position": null,
            "object_fit": null,
            "grid_auto_columns": null,
            "margin": null,
            "display": null,
            "left": null
          }
        }
      }
    },
    "accelerator": "GPU"
  },
  "cells": [
    {
      "cell_type": "markdown",
      "metadata": {
        "id": "PeXOGeEImlP9",
        "colab_type": "text"
      },
      "source": [
        "# Stealing Machine Learning Models\n",
        "\n",
        "This notebook is a demonstration of stealing CNN Deep Neural Network (DNN) models throught API calls. Put simply, given a black box access to a DNN, can we retrain a 'knock-off'`*` DNN which mimics the orignal DNN model. The general theory has been laid out in the paper [Stealing Machine Learning Models vi Prediction API](https://www.usenix.org/conference/usenixsecurity16/technical-sessions/presentation/tramer). Even though the paper provides techniques to steal various ML models, it doesn't go beyond MLP classifiers. In this notebook, we use the same techniques used with MLP classifiers and extend them to run on CNNs.\n",
        "\n",
        "## What's the big deal?\n",
        "Whereas stealing a Logistic Regresssion models would be finding the unknowns and solving for them. Since the LR models are essentially linear systems, given $n+1$ equations, $n$ variables can be solved for; thus, essentially 'reverse-engineering' the entire LR model. The internals of an MLP, however, can't be expressed as a linear system; in other words, the MLPs are not strongly convex and hence we may not always be able to steal the MLP models entirely. The sitatution is made even worse for CNNs, which are sparsefly connected and often comparatively larger networks; this notebook is all about CNNs.\n",
        "\n",
        "## Constraints:\n",
        "* The attacker has full knowledge of CNN architecture.\n",
        "* The attacker has access to the model to be stolen such that the attacker can send an instance to the victim model and get a prediction back.\n",
        "* The attacker doesn't have access to the actual training set.\n",
        "\n",
        "> NOTE: Below we have three sections- each per different dataset (and potentially a differnt CNN model architecture or hyperparameters). They are completely independent of each other, and may be run independently.\n",
        "\n",
        "\n",
        "## Results:\n",
        "| Dataset  | Model Acc | Stolen Model Acc.  | Stolen Model Relative Acc. |  \n",
        "|:--|---|---|---|\n",
        "| MNIST  | 99% | 79% | 79.7%  | \n",
        "|  FashionMNIST | 87%  | 38% | 43%  | \n",
        "|  CIFAR10 | 61% | 31%  | 50.8%  |  \n",
        "\n",
        "\n",
        "\n",
        "`*` For another publication on stealing DNNs with a similar nomenclature, see [this](https://arxiv.org/abs/1812.02766)."
      ]
    },
    {
      "cell_type": "markdown",
      "metadata": {
        "id": "Fp271jeur-aJ",
        "colab_type": "text"
      },
      "source": [
        "# MNIST"
      ]
    },
    {
      "cell_type": "markdown",
      "metadata": {
        "id": "7LrNaQZiw-pv",
        "colab_type": "text"
      },
      "source": [
        "## MNIST Training the model to be stolen"
      ]
    },
    {
      "cell_type": "code",
      "metadata": {
        "colab_type": "code",
        "id": "gJr_9dXGpJ05",
        "colab": {}
      },
      "source": [
        "import torch\n",
        "import torchvision\n",
        "import torchvision.transforms as transforms\n"
      ],
      "execution_count": 32,
      "outputs": []
    },
    {
      "cell_type": "code",
      "metadata": {
        "id": "lXKWvpkNtvis",
        "colab_type": "code",
        "colab": {
          "base_uri": "https://localhost:8080/",
          "height": 35
        },
        "outputId": "d3d9e929-3707-4ee0-a0bf-56cd02af0988"
      },
      "source": [
        "FORCE_CPU = False\n",
        "if torch.cuda.is_available() and not FORCE_CPU:  \n",
        "  dev = \"cuda:0\" \n",
        "  torch.set_default_tensor_type('torch.cuda.FloatTensor')\n",
        "else:  \n",
        "  dev = \"cpu\"  \n",
        "\n",
        "device = torch.device(dev) \n",
        "print(device)"
      ],
      "execution_count": 33,
      "outputs": [
        {
          "output_type": "stream",
          "text": [
            "cuda:0\n"
          ],
          "name": "stdout"
        }
      ]
    },
    {
      "cell_type": "code",
      "metadata": {
        "colab_type": "code",
        "id": "-gE-Ez1qtyIA",
        "colab": {}
      },
      "source": [
        "transform = transforms.Compose(\n",
        "    [transforms.ToTensor(),\n",
        "     transforms.Normalize((0.5), (0.5))])\n",
        "\n",
        "trainset = torchvision.datasets.MNIST(root='./data', train=True,\n",
        "                                        download=True, transform=transform)\n",
        "trainloader = torch.utils.data.DataLoader(trainset, batch_size=4,\n",
        "                                          shuffle=True)\n",
        "\n",
        "testset = torchvision.datasets.MNIST(root='./data', train=False,\n",
        "                                       download=True, transform=transform)\n",
        "testloader = torch.utils.data.DataLoader(testset, batch_size=4,\n",
        "                                         shuffle=False)"
      ],
      "execution_count": 26,
      "outputs": []
    },
    {
      "cell_type": "code",
      "metadata": {
        "colab_type": "code",
        "id": "C4HZx7Gndbrh",
        "colab": {
          "base_uri": "https://localhost:8080/",
          "height": 156
        },
        "outputId": "1c35937a-9091-4f57-fad5-762bbcf10f52"
      },
      "source": [
        "import matplotlib.pyplot as plt\n",
        "import numpy as np\n",
        "\n",
        "label_tags = [str(i) for i in range(10)]\n",
        "\n",
        "\n",
        "def imshow(img):\n",
        "    img = img / 2 + 0.5     # unnormalize\n",
        "    npimg = img.numpy()\n",
        "    plt.imshow(np.transpose(npimg, (1, 2, 0)))\n",
        "    plt.show()\n",
        "\n",
        "\n",
        "# get some random training images\n",
        "dataiter = iter(trainloader)\n",
        "images, labels = dataiter.next()\n",
        "\n",
        "# show images\n",
        "imshow(torchvision.utils.make_grid(images))\n",
        "# print labels\n",
        "print('GroundTruth: ', [label_tags[j] for j in labels])"
      ],
      "execution_count": 27,
      "outputs": [
        {
          "output_type": "display_data",
          "data": {
            "image/png": "[encoded data removed]",
            "text/plain": [
              "<Figure size 432x288 with 1 Axes>"
            ]
          },
          "metadata": {
            "tags": [],
            "needs_background": "light"
          }
        },
        {
          "output_type": "stream",
          "text": [
            "GroundTruth:  ['5', '9', '7', '0']\n"
          ],
          "name": "stdout"
        }
      ]
    },
    {
      "cell_type": "code",
      "metadata": {
        "id": "zx9uuBHe8eBt",
        "colab_type": "code",
        "colab": {
          "base_uri": "https://localhost:8080/",
          "height": 550
        },
        "outputId": "99b98fd4-d931-4ae6-a2e4-4faf620818f2"
      },
      "source": [
        "import torch.nn as nn\n",
        "import torch.nn.functional as F\n",
        "import torch.optim as optim\n",
        "\n",
        "class Net(nn.Module):\n",
        "    def __init__(self):\n",
        "        super(Net, self).__init__()\n",
        "        self.conv1 = nn.Conv2d(1, 6, 5)\n",
        "        self.conv2 = nn.Conv2d(6, 16, 5)\n",
        "        self.fc1 = nn.Linear(16*4*4, 120)\n",
        "        self.fc2 = nn.Linear(120, 84)\n",
        "        self.fc3 = nn.Linear(84, 10)\n",
        "\n",
        "    def forward(self, x):\n",
        "        # Max pooling over a (2, 2) window\n",
        "        x = F.max_pool2d(F.relu(self.conv1(x)), (2, 2))\n",
        "        # If the size is a square you can only specify a single number\n",
        "        x = F.max_pool2d(F.relu(self.conv2(x)), 2)\n",
        "        x = x.view(-1, self.num_flat_features(x))\n",
        "        x = F.relu(self.fc1(x))\n",
        "        x = F.relu(self.fc2(x))\n",
        "        x = self.fc3(x)\n",
        "        return x\n",
        "\n",
        "    def num_flat_features(self, x):\n",
        "        size = x.size()[1:]  # all dimensions except the batch dimension\n",
        "        num_features = 1\n",
        "        for s in size:\n",
        "            num_features *= s\n",
        "        return num_features\n",
        "\n",
        "net = Net()\n",
        "net = net.cuda()\n",
        "\n",
        "criterion = nn.CrossEntropyLoss()\n",
        "optimizer = optim.SGD(net.parameters(), lr=0.001, momentum=0.9)\n",
        "\n",
        "for epoch in range(4): \n",
        "    running_loss = 0.0\n",
        "    for i, data in enumerate(trainloader, 0):\n",
        "        # get the inputs; data is a list of [inputs, labels]\n",
        "        inputs, labels = data\n",
        "        inputs, labels = inputs.to(device), labels.to(device)\n",
        "\n",
        "        # zero the parameter gradients\n",
        "        optimizer.zero_grad()\n",
        "\n",
        "        # forward + backward + optimize\n",
        "        outputs = net(inputs)\n",
        "        loss = criterion(outputs, labels)\n",
        "        loss.backward()\n",
        "        optimizer.step()\n",
        "        \n",
        "        # print statistics\n",
        "        running_loss += loss.item()\n",
        "        if i % 2000 == 1999:    # print every 2000 mini-batches\n",
        "            print('[%d, %5d] loss: %.3f' %\n",
        "                  (epoch + 1, i + 1, running_loss / 2000))\n",
        "            running_loss = 0.0\n",
        "\n",
        "print('Finished Training')"
      ],
      "execution_count": 43,
      "outputs": [
        {
          "output_type": "stream",
          "text": [
            "[1,  2000] loss: 1.154\n",
            "[1,  4000] loss: 0.188\n",
            "[1,  6000] loss: 0.130\n",
            "[1,  8000] loss: 0.110\n",
            "[1, 10000] loss: 0.096\n",
            "[1, 12000] loss: 0.080\n",
            "[1, 14000] loss: 0.085\n",
            "[2,  2000] loss: 0.066\n",
            "[2,  4000] loss: 0.067\n",
            "[2,  6000] loss: 0.058\n",
            "[2,  8000] loss: 0.054\n",
            "[2, 10000] loss: 0.060\n",
            "[2, 12000] loss: 0.050\n",
            "[2, 14000] loss: 0.055\n",
            "[3,  2000] loss: 0.037\n",
            "[3,  4000] loss: 0.039\n",
            "[3,  6000] loss: 0.038\n",
            "[3,  8000] loss: 0.043\n",
            "[3, 10000] loss: 0.042\n",
            "[3, 12000] loss: 0.046\n",
            "[3, 14000] loss: 0.040\n",
            "[4,  2000] loss: 0.031\n",
            "[4,  4000] loss: 0.028\n",
            "[4,  6000] loss: 0.035\n",
            "[4,  8000] loss: 0.030\n",
            "[4, 10000] loss: 0.026\n",
            "[4, 12000] loss: 0.035\n",
            "[4, 14000] loss: 0.033\n",
            "Finished Training\n"
          ],
          "name": "stdout"
        }
      ]
    },
    {
      "cell_type": "code",
      "metadata": {
        "id": "0dTO2XMq8o6i",
        "colab_type": "code",
        "colab": {
          "base_uri": "https://localhost:8080/",
          "height": 35
        },
        "outputId": "dccb1b68-6130-4334-e2e0-895f8b2693f1"
      },
      "source": [
        "correct = 0\n",
        "total = 0\n",
        "with torch.no_grad():\n",
        "    for data in testloader:\n",
        "        images, labels = data\n",
        "        outputs = net(images.to(device))\n",
        "        _, predicted = torch.max(outputs.data, 1)\n",
        "        total += labels.size(0)\n",
        "        correct += (predicted == labels).sum().item()\n",
        "\n",
        "print('Accuracy of the network on the 10000 test images: %d %%' % (\n",
        "    100 * correct / total))"
      ],
      "execution_count": 76,
      "outputs": [
        {
          "output_type": "stream",
          "text": [
            "Accuracy of the network on the 10000 test images: 99 %\n"
          ],
          "name": "stdout"
        }
      ]
    },
    {
      "cell_type": "code",
      "metadata": {
        "id": "ugdfgWQI8sFt",
        "colab_type": "code",
        "colab": {
          "base_uri": "https://localhost:8080/",
          "height": 156
        },
        "outputId": "8657b6c1-a275-4c7e-d1bb-e03b186157bf"
      },
      "source": [
        "dataiter = iter(testloader)\n",
        "images, labels = dataiter.next()\n",
        "outputs = torch.max(net(images.to(device)).data, 1)[1]\n",
        "imshow(torchvision.utils.make_grid(images))\n",
        "print('Predictions: ', [label_tags[j] for j in list(outputs)])"
      ],
      "execution_count": 45,
      "outputs": [
        {
          "output_type": "display_data",
          "data": {
            "image/png": "[encoded data removed]",
            "text/plain": [
              "<Figure size 432x288 with 1 Axes>"
            ]
          },
          "metadata": {
            "tags": [],
            "needs_background": "light"
          }
        },
        {
          "output_type": "stream",
          "text": [
            "Predictions:  ['7', '2', '1', '0']\n"
          ],
          "name": "stdout"
        }
      ]
    },
    {
      "cell_type": "code",
      "metadata": {
        "id": "pP1JP02_2NTj",
        "colab_type": "code",
        "colab": {}
      },
      "source": [
        "net.requires_grad_ = False"
      ],
      "execution_count": 46,
      "outputs": []
    },
    {
      "cell_type": "markdown",
      "metadata": {
        "id": "-mfAmVSY1BsX",
        "colab_type": "text"
      },
      "source": [
        "# MNIST Stealing Models"
      ]
    },
    {
      "cell_type": "code",
      "metadata": {
        "id": "DqsEUEp28xVD",
        "colab_type": "code",
        "colab": {}
      },
      "source": [
        "NUM_RANDOM_POINTS = 80_000\n",
        "BATCH_SIZE = 4"
      ],
      "execution_count": 75,
      "outputs": []
    },
    {
      "cell_type": "code",
      "metadata": {
        "id": "gmlJlyZf1NHI",
        "colab_type": "code",
        "colab": {}
      },
      "source": [
        "X, Y = [], []\n",
        "for _ in range(int(NUM_RANDOM_POINTS/BATCH_SIZE)):\n",
        "  X.append(torch.rand((BATCH_SIZE,1,28,28))*2 -1)\n",
        "  Y.append(net(X[-1]).data)"
      ],
      "execution_count": 77,
      "outputs": []
    },
    {
      "cell_type": "code",
      "metadata": {
        "colab_type": "code",
        "id": "F1Ki07ax68LQ",
        "colab": {
          "base_uri": "https://localhost:8080/",
          "height": 1000
        },
        "outputId": "f1762d11-e5bc-4655-c706-61b063d43acd"
      },
      "source": [
        "stolen_net = Net()\n",
        "stolen_net = stolen_net.cuda()\n",
        "\n",
        "#criterion = nn.CrossEntropyLoss()\n",
        "criterion = nn.MSELoss()\n",
        "\n",
        "optimizer = optim.SGD(stolen_net.parameters(), lr=0.001, momentum=0.9)\n",
        "\n",
        "for epoch in range(25): \n",
        "\n",
        "    running_loss = 0.0\n",
        "    for i, data in enumerate(zip(X,Y), 0):\n",
        "        inputs, labels = data\n",
        "        inputs, labels = inputs.to(device), labels.to(device)\n",
        "\n",
        "        # zero the parameter gradients\n",
        "        optimizer.zero_grad()\n",
        "\n",
        "        # forward + backward + optimize\n",
        "        outputs = stolen_net(inputs)\n",
        "        #loss = criterion(outputs, torch.argmax(labels, dim=1))\n",
        "        loss = criterion(outputs, labels.data)\n",
        "        loss.backward()\n",
        "        optimizer.step()\n",
        "\n",
        "        # print statistics\n",
        "        running_loss += loss.item()\n",
        "        if i % 4000 == 3999:    # print every 4000 mini-batches\n",
        "            print('[%d, %5d] loss: %.3f' %\n",
        "                  (epoch + 1, i + 1, running_loss / 2000))\n",
        "            running_loss = 0.0\n",
        "\n",
        "print('Finished Training')\n"
      ],
      "execution_count": 78,
      "outputs": [
        {
          "output_type": "stream",
          "text": [
            "[1,  4000] loss: 0.750\n",
            "[1,  8000] loss: 0.714\n",
            "[1, 12000] loss: 0.625\n",
            "[1, 16000] loss: 0.553\n",
            "[1, 20000] loss: 0.447\n",
            "[2,  4000] loss: 0.380\n",
            "[2,  8000] loss: 0.331\n",
            "[2, 12000] loss: 0.295\n",
            "[2, 16000] loss: 0.264\n",
            "[2, 20000] loss: 0.243\n",
            "[3,  4000] loss: 0.225\n",
            "[3,  8000] loss: 0.209\n",
            "[3, 12000] loss: 0.199\n",
            "[3, 16000] loss: 0.189\n",
            "[3, 20000] loss: 0.182\n",
            "[4,  4000] loss: 0.171\n",
            "[4,  8000] loss: 0.160\n",
            "[4, 12000] loss: 0.152\n",
            "[4, 16000] loss: 0.143\n",
            "[4, 20000] loss: 0.137\n",
            "[5,  4000] loss: 0.124\n",
            "[5,  8000] loss: 0.114\n",
            "[5, 12000] loss: 0.106\n",
            "[5, 16000] loss: 0.100\n",
            "[5, 20000] loss: 0.097\n",
            "[6,  4000] loss: 0.092\n",
            "[6,  8000] loss: 0.088\n",
            "[6, 12000] loss: 0.085\n",
            "[6, 16000] loss: 0.083\n",
            "[6, 20000] loss: 0.082\n",
            "[7,  4000] loss: 0.079\n",
            "[7,  8000] loss: 0.076\n",
            "[7, 12000] loss: 0.074\n",
            "[7, 16000] loss: 0.072\n",
            "[7, 20000] loss: 0.070\n",
            "[8,  4000] loss: 0.067\n",
            "[8,  8000] loss: 0.065\n",
            "[8, 12000] loss: 0.063\n",
            "[8, 16000] loss: 0.061\n",
            "[8, 20000] loss: 0.060\n",
            "[9,  4000] loss: 0.058\n",
            "[9,  8000] loss: 0.056\n",
            "[9, 12000] loss: 0.055\n",
            "[9, 16000] loss: 0.054\n",
            "[9, 20000] loss: 0.053\n",
            "[10,  4000] loss: 0.052\n",
            "[10,  8000] loss: 0.051\n",
            "[10, 12000] loss: 0.051\n",
            "[10, 16000] loss: 0.050\n",
            "[10, 20000] loss: 0.051\n",
            "[11,  4000] loss: 0.050\n",
            "[11,  8000] loss: 0.049\n",
            "[11, 12000] loss: 0.049\n",
            "[11, 16000] loss: 0.048\n",
            "[11, 20000] loss: 0.049\n",
            "[12,  4000] loss: 0.048\n",
            "[12,  8000] loss: 0.047\n",
            "[12, 12000] loss: 0.048\n",
            "[12, 16000] loss: 0.047\n",
            "[12, 20000] loss: 0.047\n",
            "[13,  4000] loss: 0.047\n",
            "[13,  8000] loss: 0.046\n",
            "[13, 12000] loss: 0.046\n",
            "[13, 16000] loss: 0.046\n",
            "[13, 20000] loss: 0.046\n",
            "[14,  4000] loss: 0.046\n",
            "[14,  8000] loss: 0.045\n",
            "[14, 12000] loss: 0.046\n",
            "[14, 16000] loss: 0.045\n",
            "[14, 20000] loss: 0.045\n",
            "[15,  4000] loss: 0.045\n",
            "[15,  8000] loss: 0.044\n",
            "[15, 12000] loss: 0.045\n",
            "[15, 16000] loss: 0.044\n",
            "[15, 20000] loss: 0.045\n",
            "[16,  4000] loss: 0.044\n",
            "[16,  8000] loss: 0.044\n",
            "[16, 12000] loss: 0.044\n",
            "[16, 16000] loss: 0.044\n",
            "[16, 20000] loss: 0.044\n",
            "[17,  4000] loss: 0.044\n",
            "[17,  8000] loss: 0.043\n",
            "[17, 12000] loss: 0.044\n",
            "[17, 16000] loss: 0.043\n",
            "[17, 20000] loss: 0.043\n",
            "[18,  4000] loss: 0.043\n",
            "[18,  8000] loss: 0.043\n",
            "[18, 12000] loss: 0.043\n",
            "[18, 16000] loss: 0.043\n",
            "[18, 20000] loss: 0.043\n",
            "[19,  4000] loss: 0.043\n",
            "[19,  8000] loss: 0.042\n",
            "[19, 12000] loss: 0.043\n",
            "[19, 16000] loss: 0.042\n",
            "[19, 20000] loss: 0.042\n",
            "[20,  4000] loss: 0.042\n",
            "[20,  8000] loss: 0.042\n",
            "[20, 12000] loss: 0.042\n",
            "[20, 16000] loss: 0.042\n",
            "[20, 20000] loss: 0.042\n",
            "[21,  4000] loss: 0.042\n",
            "[21,  8000] loss: 0.041\n",
            "[21, 12000] loss: 0.042\n",
            "[21, 16000] loss: 0.041\n",
            "[21, 20000] loss: 0.042\n",
            "[22,  4000] loss: 0.041\n",
            "[22,  8000] loss: 0.041\n",
            "[22, 12000] loss: 0.041\n",
            "[22, 16000] loss: 0.041\n",
            "[22, 20000] loss: 0.041\n",
            "[23,  4000] loss: 0.041\n",
            "[23,  8000] loss: 0.040\n",
            "[23, 12000] loss: 0.041\n",
            "[23, 16000] loss: 0.041\n",
            "[23, 20000] loss: 0.041\n",
            "[24,  4000] loss: 0.041\n",
            "[24,  8000] loss: 0.040\n",
            "[24, 12000] loss: 0.041\n",
            "[24, 16000] loss: 0.040\n",
            "[24, 20000] loss: 0.041\n",
            "[25,  4000] loss: 0.040\n",
            "[25,  8000] loss: 0.040\n",
            "[25, 12000] loss: 0.040\n",
            "[25, 16000] loss: 0.040\n",
            "[25, 20000] loss: 0.040\n",
            "Finished Training\n"
          ],
          "name": "stdout"
        }
      ]
    },
    {
      "cell_type": "code",
      "metadata": {
        "colab_type": "code",
        "id": "C-ZV8cF--Ckv",
        "colab": {
          "base_uri": "https://localhost:8080/",
          "height": 35
        },
        "outputId": "0bbf95cf-fcb3-4df3-c982-11b8b8025285"
      },
      "source": [
        "correct = 0\n",
        "total = 0\n",
        "with torch.no_grad():\n",
        "    for data in testloader:\n",
        "        images, labels = data\n",
        "        images, labels = images.to(device), labels.to(device)\n",
        "        outputs = stolen_net(images)\n",
        "        _, predicted = torch.max(outputs.data, 1)\n",
        "        total += labels.size(0)\n",
        "        correct += (predicted == labels).sum().item()\n",
        "\n",
        "print('Accuracy of the stolen network on the 10000 test images: %d %%' % (\n",
        "    100 * correct / total))"
      ],
      "execution_count": 80,
      "outputs": [
        {
          "output_type": "stream",
          "text": [
            "Accuracy of the stolen network on the 10000 test images: 79 %\n"
          ],
          "name": "stdout"
        }
      ]
    },
    {
      "cell_type": "code",
      "metadata": {
        "id": "E44o5c-I6Qy4",
        "colab_type": "code",
        "colab": {}
      },
      "source": [
        "\"\"\"\n",
        "WARN: Run this cell only if you're sure that you don't \n",
        "need any of the results in the previous sections.\n",
        "\"\"\"\n",
        "import gc\n",
        "import time\n",
        "del net\n",
        "del stolen_net\n",
        "del X\n",
        "del Y\n",
        "gc.collect();time.sleep(1);gc.collect()"
      ],
      "execution_count": null,
      "outputs": []
    },
    {
      "cell_type": "markdown",
      "metadata": {
        "id": "IMJc7YmE1uaL",
        "colab_type": "text"
      },
      "source": [
        "## Conclusion and Summary\n",
        "\n",
        "We are able to steal the model to a great extent using random inputs only! Our final stolen model has an accuracy of 79% and the model had only API access to an original CNN model trained on MNIST dataset."
      ]
    },
    {
      "cell_type": "markdown",
      "metadata": {
        "id": "DObvvX0hCkfD",
        "colab_type": "text"
      },
      "source": [
        "# Fashion MNIST"
      ]
    },
    {
      "cell_type": "markdown",
      "metadata": {
        "id": "NdOG3PUYDFy6",
        "colab_type": "text"
      },
      "source": [
        "## Fashion-MNIST Training the model"
      ]
    },
    {
      "cell_type": "code",
      "metadata": {
        "id": "khG3f0i0Cq56",
        "colab_type": "code",
        "colab": {}
      },
      "source": [
        "import torch\n",
        "import torchvision\n",
        "import torchvision.transforms as transforms"
      ],
      "execution_count": 83,
      "outputs": []
    },
    {
      "cell_type": "code",
      "metadata": {
        "colab_type": "code",
        "id": "DrF361zoC-Th",
        "colab": {
          "base_uri": "https://localhost:8080/",
          "height": 35
        },
        "outputId": "2b417866-0d60-4083-db7a-639575eefe46"
      },
      "source": [
        "FORCE_CPU = False\n",
        "if torch.cuda.is_available() and not FORCE_CPU:  \n",
        "  dev = \"cuda:0\" \n",
        "  torch.set_default_tensor_type('torch.cuda.FloatTensor')\n",
        "else:  \n",
        "  dev = \"cpu\"  \n",
        "\n",
        "device = torch.device(dev) \n",
        "print(device)"
      ],
      "execution_count": 84,
      "outputs": [
        {
          "output_type": "stream",
          "text": [
            "cuda:0\n"
          ],
          "name": "stdout"
        }
      ]
    },
    {
      "cell_type": "code",
      "metadata": {
        "colab_type": "code",
        "id": "zUZYqVaFDKgr",
        "colab": {
          "base_uri": "https://localhost:8080/",
          "height": 329,
          "referenced_widgets": [
            "2a3738bc02614757bac73a38d167b130",
            "fa3ebb43b3d944449b273c456ff6cb55",
            "8c0d393b6b1546a3b15d0c5ff1ed1b52",
            "602492774bf44cc6a240b392b6ad1fac",
            "6856bd4818434faab27c8417c984b19b",
            "d4329992b9594c3fa774488180d9604d",
            "ffdeb44964614600a45e1e1773ea38d8",
            "9577383eff80461e8597a6858c78dcc1",
            "0be6c6e2afea4e16aa1a024aa70b2917",
            "e2cc59b2859745b99ef88760e4036298",
            "f0b3f10e11d943b79f2abb8b544d8311",
            "2ce9fe8f03c54cb4a5f0c31fce14ee4b",
            "68bc6437bbea47a6ba1ecc0293cea059",
            "176000f882144b6f991618ab23c05963",
            "0791205baab343c481fae1d56faa84a6",
            "0c9a0f8c39f147c28b595b71add56009",
            "57bd9d98a3da45f5bdc6c00515d5ba90",
            "3660297bfa3d4658b0ee40fc0de1c014",
            "14ce42976fb749fc9f42626598560059",
            "dbe74956fbaf4d1cba5c6409fdd41f15",
            "0d52578312d041bba746042d61ae7fd8",
            "e9c41f55dd9348baa129f32f247e8fff",
            "a53ac94194294fa194358d696841642c",
            "c1d1fe7e98764b28a0b7bbe42f96e374",
            "d5a98520584446b4a2a6146045bbecce",
            "5517e951cf5145c3b76450d52350b756",
            "e75e83c721624241bae35b17dac4832c",
            "913a7562f47d4a91ba3f72ae3a5b1f17",
            "5e765764ecf74830867d23faf00041ad",
            "c8e4c3e9b5de44d1927b9e408d8c052a",
            "5fd93aeb46a54bc58ca2bcd586299fe8",
            "557a923ffea6407c81bdc9fd9891f751"
          ]
        },
        "outputId": "0c8f629e-64f3-4ccf-c373-c847b1aa77e0"
      },
      "source": [
        "transform = transforms.Compose(\n",
        "    [transforms.ToTensor(),\n",
        "     transforms.Normalize((0.5), (0.5))])\n",
        "\n",
        "trainset = torchvision.datasets.FashionMNIST(root='./data', train=True,\n",
        "                                        download=True, transform=transform)\n",
        "trainloader = torch.utils.data.DataLoader(trainset, batch_size=4,\n",
        "                                          shuffle=True)\n",
        "\n",
        "testset = torchvision.datasets.FashionMNIST(root='./data', train=False,\n",
        "                                       download=True, transform=transform)\n",
        "testloader = torch.utils.data.DataLoader(testset, batch_size=4,\n",
        "                                         shuffle=False)"
      ],
      "execution_count": 85,
      "outputs": [
        {
          "output_type": "stream",
          "text": [
            "Downloading http://fashion-mnist.s3-website.eu-central-1.amazonaws.com/train-images-idx3-ubyte.gz to ./data/FashionMNIST/raw/train-images-idx3-ubyte.gz\n"
          ],
          "name": "stdout"
        },
        {
          "output_type": "display_data",
          "data": {
            "application/vnd.jupyter.widget-view+json": {
              "model_id": "2a3738bc02614757bac73a38d167b130",
              "version_minor": 0,
              "version_major": 2
            },
            "text/plain": [
              "HBox(children=(FloatProgress(value=1.0, bar_style='info', max=1.0), HTML(value='')))"
            ]
          },
          "metadata": {
            "tags": []
          }
        },
        {
          "output_type": "stream",
          "text": [
            "Extracting ./data/FashionMNIST/raw/train-images-idx3-ubyte.gz to ./data/FashionMNIST/raw\n",
            "Downloading http://fashion-mnist.s3-website.eu-central-1.amazonaws.com/train-labels-idx1-ubyte.gz to ./data/FashionMNIST/raw/train-labels-idx1-ubyte.gz\n"
          ],
          "name": "stdout"
        },
        {
          "output_type": "display_data",
          "data": {
            "application/vnd.jupyter.widget-view+json": {
              "model_id": "0be6c6e2afea4e16aa1a024aa70b2917",
              "version_minor": 0,
              "version_major": 2
            },
            "text/plain": [
              "HBox(children=(FloatProgress(value=1.0, bar_style='info', max=1.0), HTML(value='')))"
            ]
          },
          "metadata": {
            "tags": []
          }
        },
        {
          "output_type": "stream",
          "text": [
            "Extracting ./data/FashionMNIST/raw/train-labels-idx1-ubyte.gz to ./data/FashionMNIST/raw\n",
            "Downloading http://fashion-mnist.s3-website.eu-central-1.amazonaws.com/t10k-images-idx3-ubyte.gz to ./data/FashionMNIST/raw/t10k-images-idx3-ubyte.gz\n"
          ],
          "name": "stdout"
        },
        {
          "output_type": "display_data",
          "data": {
            "application/vnd.jupyter.widget-view+json": {
              "model_id": "57bd9d98a3da45f5bdc6c00515d5ba90",
              "version_minor": 0,
              "version_major": 2
            },
            "text/plain": [
              "HBox(children=(FloatProgress(value=1.0, bar_style='info', max=1.0), HTML(value='')))"
            ]
          },
          "metadata": {
            "tags": []
          }
        },
        {
          "output_type": "stream",
          "text": [
            "Extracting ./data/FashionMNIST/raw/t10k-images-idx3-ubyte.gz to ./data/FashionMNIST/raw\n",
            "Downloading http://fashion-mnist.s3-website.eu-central-1.amazonaws.com/t10k-labels-idx1-ubyte.gz to ./data/FashionMNIST/raw/t10k-labels-idx1-ubyte.gz\n"
          ],
          "name": "stdout"
        },
        {
          "output_type": "display_data",
          "data": {
            "application/vnd.jupyter.widget-view+json": {
              "model_id": "d5a98520584446b4a2a6146045bbecce",
              "version_minor": 0,
              "version_major": 2
            },
            "text/plain": [
              "HBox(children=(FloatProgress(value=1.0, bar_style='info', max=1.0), HTML(value='')))"
            ]
          },
          "metadata": {
            "tags": []
          }
        },
        {
          "output_type": "stream",
          "text": [
            "Extracting ./data/FashionMNIST/raw/t10k-labels-idx1-ubyte.gz to ./data/FashionMNIST/raw\n",
            "Processing...\n",
            "Done!\n"
          ],
          "name": "stdout"
        }
      ]
    },
    {
      "cell_type": "code",
      "metadata": {
        "colab_type": "code",
        "id": "nslVVRebJXiq",
        "colab": {
          "base_uri": "https://localhost:8080/",
          "height": 156
        },
        "outputId": "103f3b47-0811-4b23-887b-7d2ba7d274d1"
      },
      "source": [
        "import matplotlib.pyplot as plt\n",
        "import numpy as np\n",
        "\n",
        "label_tags = [\"T-shirt/top\", \"Trouser\", \"Pullover\", \"Dress\", \n",
        "              \"Coat\", \"Sandal\", \"Shirt\", \"Sneaker\", \"Bag\", \"Ankle boot\"]\n",
        "\n",
        "\n",
        "def imshow(img):\n",
        "    img = img / 2 + 0.5     # unnormalize\n",
        "    npimg = img.numpy()\n",
        "    plt.imshow(np.transpose(npimg, (1, 2, 0)))\n",
        "    plt.show()\n",
        "\n",
        "\n",
        "# get some random training images\n",
        "dataiter = iter(trainloader)\n",
        "images, labels = dataiter.next()\n",
        "\n",
        "# show images\n",
        "imshow(torchvision.utils.make_grid(images))\n",
        "# print labels\n",
        "print('GroundTruth: ', [label_tags[j] for j in labels])\n"
      ],
      "execution_count": 86,
      "outputs": [
        {
          "output_type": "display_data",
          "data": {
            "image/png": "[encoded data removed]",
            "text/plain": [
              "<Figure size 432x288 with 1 Axes>"
            ]
          },
          "metadata": {
            "tags": [],
            "needs_background": "light"
          }
        },
        {
          "output_type": "stream",
          "text": [
            "GroundTruth:  ['Coat', 'Shirt', 'Pullover', 'Pullover']\n"
          ],
          "name": "stdout"
        }
      ]
    },
    {
      "cell_type": "code",
      "metadata": {
        "colab_type": "code",
        "id": "x0HKdZ4nQsco",
        "colab": {
          "base_uri": "https://localhost:8080/",
          "height": 550
        },
        "outputId": "db118caa-9338-4bf4-b2d3-79c8dc084b45"
      },
      "source": [
        "import torch.nn as nn\n",
        "import torch.nn.functional as F\n",
        "import torch.optim as optim\n",
        "\n",
        "class Net(nn.Module):\n",
        "    def __init__(self):\n",
        "        super(Net, self).__init__()\n",
        "        self.conv1 = nn.Conv2d(1, 6, 5)\n",
        "        self.conv2 = nn.Conv2d(6, 16, 5)\n",
        "        self.fc1 = nn.Linear(16*4*4, 120)\n",
        "        self.fc2 = nn.Linear(120, 84)\n",
        "        self.fc3 = nn.Linear(84, 10)\n",
        "\n",
        "    def forward(self, x):\n",
        "        # Max pooling over a (2, 2) window\n",
        "        x = F.max_pool2d(F.relu(self.conv1(x)), (2, 2))\n",
        "        # If the size is a square you can only specify a single number\n",
        "        x = F.max_pool2d(F.relu(self.conv2(x)), 2)\n",
        "        x = x.view(-1, self.num_flat_features(x))\n",
        "        x = F.relu(self.fc1(x))\n",
        "        x = F.relu(self.fc2(x))\n",
        "        x = self.fc3(x)\n",
        "        return x\n",
        "\n",
        "    def num_flat_features(self, x):\n",
        "        size = x.size()[1:]  # all dimensions except the batch dimension\n",
        "        num_features = 1\n",
        "        for s in size:\n",
        "            num_features *= s\n",
        "        return num_features\n",
        "\n",
        "net = Net()\n",
        "net = net.cuda()\n",
        "\n",
        "criterion = nn.CrossEntropyLoss()\n",
        "optimizer = optim.SGD(net.parameters(), lr=0.001, momentum=0.9)\n",
        "\n",
        "for epoch in range(4): \n",
        "    running_loss = 0.0\n",
        "    for i, data in enumerate(trainloader, 0):\n",
        "        # get the inputs; data is a list of [inputs, labels]\n",
        "        inputs, labels = data\n",
        "        inputs, labels = inputs.to(device), labels.to(device)\n",
        "\n",
        "        # zero the parameter gradients\n",
        "        optimizer.zero_grad()\n",
        "\n",
        "        # forward + backward + optimize\n",
        "        outputs = net(inputs)\n",
        "        loss = criterion(outputs, labels)\n",
        "        loss.backward()\n",
        "        optimizer.step()\n",
        "        \n",
        "        # print statistics\n",
        "        running_loss += loss.item()\n",
        "        if i % 2000 == 1999:    # print every 2000 mini-batches\n",
        "            print('[%d, %5d] loss: %.3f' %\n",
        "                  (epoch + 1, i + 1, running_loss / 2000))\n",
        "            running_loss = 0.0\n",
        "\n",
        "print('Finished Training')"
      ],
      "execution_count": 87,
      "outputs": [
        {
          "output_type": "stream",
          "text": [
            "[1,  2000] loss: 1.454\n",
            "[1,  4000] loss: 0.688\n",
            "[1,  6000] loss: 0.577\n",
            "[1,  8000] loss: 0.546\n",
            "[1, 10000] loss: 0.492\n",
            "[1, 12000] loss: 0.472\n",
            "[1, 14000] loss: 0.449\n",
            "[2,  2000] loss: 0.423\n",
            "[2,  4000] loss: 0.409\n",
            "[2,  6000] loss: 0.409\n",
            "[2,  8000] loss: 0.383\n",
            "[2, 10000] loss: 0.386\n",
            "[2, 12000] loss: 0.361\n",
            "[2, 14000] loss: 0.377\n",
            "[3,  2000] loss: 0.353\n",
            "[3,  4000] loss: 0.336\n",
            "[3,  6000] loss: 0.344\n",
            "[3,  8000] loss: 0.354\n",
            "[3, 10000] loss: 0.347\n",
            "[3, 12000] loss: 0.341\n",
            "[3, 14000] loss: 0.330\n",
            "[4,  2000] loss: 0.317\n",
            "[4,  4000] loss: 0.310\n",
            "[4,  6000] loss: 0.316\n",
            "[4,  8000] loss: 0.329\n",
            "[4, 10000] loss: 0.297\n",
            "[4, 12000] loss: 0.314\n",
            "[4, 14000] loss: 0.316\n",
            "Finished Training\n"
          ],
          "name": "stdout"
        }
      ]
    },
    {
      "cell_type": "code",
      "metadata": {
        "colab_type": "code",
        "id": "FdtlE875Q4Pi",
        "colab": {
          "base_uri": "https://localhost:8080/",
          "height": 35
        },
        "outputId": "8e9ba80a-d759-42e2-b440-cf3e25579ccf"
      },
      "source": [
        "correct = 0\n",
        "total = 0\n",
        "with torch.no_grad():\n",
        "    for data in testloader:\n",
        "        images, labels = data\n",
        "        outputs = net(images.to(device))\n",
        "        _, predicted = torch.max(outputs.data, 1)\n",
        "        total += labels.size(0)\n",
        "        correct += (predicted == labels).sum().item()\n",
        "\n",
        "print('Accuracy of the network on the 10000 test images: %d %%' % (\n",
        "    100 * correct / total))"
      ],
      "execution_count": 88,
      "outputs": [
        {
          "output_type": "stream",
          "text": [
            "Accuracy of the network on the 10000 test images: 87 %\n"
          ],
          "name": "stdout"
        }
      ]
    },
    {
      "cell_type": "code",
      "metadata": {
        "colab_type": "code",
        "id": "xLDwdMJARGWP",
        "colab": {
          "base_uri": "https://localhost:8080/",
          "height": 156
        },
        "outputId": "a613543c-7256-48ad-c53f-556a104be981"
      },
      "source": [
        "dataiter = iter(testloader)\n",
        "images, labels = dataiter.next()\n",
        "outputs = torch.max(net(images.to(device)).data, 1)[1]\n",
        "imshow(torchvision.utils.make_grid(images))\n",
        "print('Predictions: ', [label_tags[j] for j in list(outputs)])"
      ],
      "execution_count": 89,
      "outputs": [
        {
          "output_type": "display_data",
          "data": {
            "image/png": "[encoded data removed]",
            "text/plain": [
              "<Figure size 432x288 with 1 Axes>"
            ]
          },
          "metadata": {
            "tags": [],
            "needs_background": "light"
          }
        },
        {
          "output_type": "stream",
          "text": [
            "Predictions:  ['Ankle boot', 'Pullover', 'Trouser', 'Trouser']\n"
          ],
          "name": "stdout"
        }
      ]
    },
    {
      "cell_type": "code",
      "metadata": {
        "colab_type": "code",
        "id": "CWh95mEvRSip",
        "colab": {}
      },
      "source": [
        "net.requires_grad_ = False"
      ],
      "execution_count": 90,
      "outputs": []
    },
    {
      "cell_type": "markdown",
      "metadata": {
        "colab_type": "text",
        "id": "AE4iNCDKR0F4"
      },
      "source": [
        "# Fashion-MNIST Stealing Models"
      ]
    },
    {
      "cell_type": "code",
      "metadata": {
        "colab_type": "code",
        "id": "478bYsMrR_Iy",
        "colab": {}
      },
      "source": [
        "NUM_RANDOM_POINTS = 60_000\n",
        "BATCH_SIZE = 8"
      ],
      "execution_count": 103,
      "outputs": []
    },
    {
      "cell_type": "code",
      "metadata": {
        "colab_type": "code",
        "id": "KQ9Ekxj0SBWa",
        "colab": {}
      },
      "source": [
        "X, Y = [], []\n",
        "for _ in range(int(NUM_RANDOM_POINTS/BATCH_SIZE)):\n",
        "  X.append(torch.rand((BATCH_SIZE,1,28,28))*2 -1)\n",
        "  Y.append(net(X[-1]).data)"
      ],
      "execution_count": 104,
      "outputs": []
    },
    {
      "cell_type": "code",
      "metadata": {
        "colab_type": "code",
        "id": "v_T_95p6SKc-",
        "colab": {
          "base_uri": "https://localhost:8080/",
          "height": 403
        },
        "outputId": "480c2c53-d160-4457-b0f6-d2551a6b77d6"
      },
      "source": [
        "stolen_net = Net()\n",
        "stolen_net = stolen_net.cuda()\n",
        "\n",
        "#criterion = nn.CrossEntropyLoss()\n",
        "criterion = nn.MSELoss()\n",
        "\n",
        "optimizer = optim.SGD(stolen_net.parameters(), lr=0.005, momentum=0.9)\n",
        "\n",
        "for epoch in range(20): \n",
        "\n",
        "    running_loss = 0.0\n",
        "    for i, data in enumerate(zip(X,Y), 0):\n",
        "        inputs, labels = data\n",
        "        inputs, labels = inputs.to(device), labels.to(device)\n",
        "\n",
        "        # zero the parameter gradients\n",
        "        optimizer.zero_grad()\n",
        "\n",
        "        # forward + backward + optimize\n",
        "        outputs = stolen_net(inputs)\n",
        "        #loss = criterion(outputs, torch.argmax(labels, dim=1))\n",
        "        loss = criterion(outputs, labels.data)\n",
        "        loss.backward()\n",
        "        optimizer.step()\n",
        "\n",
        "        # print statistics\n",
        "        running_loss += loss.item()\n",
        "        if i % 4000 == 3999:    # print every 4000 mini-batches\n",
        "            print('[%d, %5d] loss: %.3f' %\n",
        "                  (epoch + 1, i + 1, running_loss / 2000))\n",
        "            running_loss = 0.0\n",
        "\n",
        "print('Finished Training')\n"
      ],
      "execution_count": 105,
      "outputs": [
        {
          "output_type": "stream",
          "text": [
            "[1,  4000] loss: 0.723\n",
            "[2,  4000] loss: 0.164\n",
            "[3,  4000] loss: 0.085\n",
            "[4,  4000] loss: 0.066\n",
            "[5,  4000] loss: 0.057\n",
            "[6,  4000] loss: 0.052\n",
            "[7,  4000] loss: 0.049\n",
            "[8,  4000] loss: 0.047\n",
            "[9,  4000] loss: 0.045\n",
            "[10,  4000] loss: 0.043\n",
            "[11,  4000] loss: 0.041\n",
            "[12,  4000] loss: 0.039\n",
            "[13,  4000] loss: 0.038\n",
            "[14,  4000] loss: 0.037\n",
            "[15,  4000] loss: 0.036\n",
            "[16,  4000] loss: 0.035\n",
            "[17,  4000] loss: 0.033\n",
            "[18,  4000] loss: 0.032\n",
            "[19,  4000] loss: 0.031\n",
            "[20,  4000] loss: 0.030\n",
            "Finished Training\n"
          ],
          "name": "stdout"
        }
      ]
    },
    {
      "cell_type": "code",
      "metadata": {
        "colab_type": "code",
        "id": "6tEBIrRySQLX",
        "colab": {
          "base_uri": "https://localhost:8080/",
          "height": 35
        },
        "outputId": "4401f4ab-1c37-4573-93e8-587cd32585b9"
      },
      "source": [
        "correct = 0\n",
        "total = 0\n",
        "with torch.no_grad():\n",
        "    for data in testloader:\n",
        "        images, labels = data\n",
        "        images, labels = images.to(device), labels.to(device)\n",
        "        outputs = stolen_net(images)\n",
        "        _, predicted = torch.max(outputs.data, 1)\n",
        "        total += labels.size(0)\n",
        "        correct += (predicted == labels).sum().item()\n",
        "\n",
        "print('Accuracy of the stolen network on the 10000 test images: %d %%' % (\n",
        "    100 * correct / total))"
      ],
      "execution_count": 106,
      "outputs": [
        {
          "output_type": "stream",
          "text": [
            "Accuracy of the stolen network on the 10000 test images: 38 %\n"
          ],
          "name": "stdout"
        }
      ]
    },
    {
      "cell_type": "markdown",
      "metadata": {
        "id": "HK2e0UddW1Bk",
        "colab_type": "text"
      },
      "source": [
        "## Conclusion and Summary\n",
        "\n",
        "We are able to steal the model to a great extent using random inputs only! Our final stolen model has an accuracy of 38% and the model had only API access to an original CNN model trained on MNIST dataset."
      ]
    },
    {
      "cell_type": "markdown",
      "metadata": {
        "colab_type": "text",
        "id": "V8Ylfdlkar9U"
      },
      "source": [
        "# CIFAR-10 "
      ]
    },
    {
      "cell_type": "markdown",
      "metadata": {
        "colab_type": "text",
        "id": "Mi3ipluRbabX"
      },
      "source": [
        "## CIFAR-10 Training the model to be stolen"
      ]
    },
    {
      "cell_type": "code",
      "metadata": {
        "colab_type": "code",
        "id": "iZWhDeXHbffI",
        "colab": {}
      },
      "source": [
        "import torch\n",
        "import torchvision\n",
        "import torchvision.transforms as transforms"
      ],
      "execution_count": 107,
      "outputs": []
    },
    {
      "cell_type": "code",
      "metadata": {
        "colab_type": "code",
        "id": "zttILDQMbkbS",
        "colab": {
          "base_uri": "https://localhost:8080/",
          "height": 35
        },
        "outputId": "c76a12eb-484d-4b38-981b-ad43d7780d17"
      },
      "source": [
        "FORCE_CPU = False\n",
        "if torch.cuda.is_available() and not FORCE_CPU:  \n",
        "  dev = \"cuda:0\" \n",
        "  torch.set_default_tensor_type('torch.cuda.FloatTensor')\n",
        "else:  \n",
        "  dev = \"cpu\"  \n",
        "\n",
        "device = torch.device(dev) \n",
        "print(device)"
      ],
      "execution_count": 108,
      "outputs": [
        {
          "output_type": "stream",
          "text": [
            "cuda:0\n"
          ],
          "name": "stdout"
        }
      ]
    },
    {
      "cell_type": "code",
      "metadata": {
        "colab_type": "code",
        "id": "i-mvNFJXbpfq",
        "colab": {
          "base_uri": "https://localhost:8080/",
          "height": 54
        },
        "outputId": "15716815-8ef5-4683-fc52-0a6a2545d605"
      },
      "source": [
        "transform = transforms.Compose(\n",
        "    [transforms.ToTensor(),\n",
        "     transforms.Normalize((0.5), (0.5))])\n",
        "\n",
        "trainset = torchvision.datasets.CIFAR10(root='./data', train=True,\n",
        "                                        download=True, transform=transform)\n",
        "trainloader = torch.utils.data.DataLoader(trainset, batch_size=4,\n",
        "                                          shuffle=True)\n",
        "\n",
        "testset = torchvision.datasets.CIFAR10(root='./data', train=False,\n",
        "                                       download=True, transform=transform)\n",
        "testloader = torch.utils.data.DataLoader(testset, batch_size=4,\n",
        "                                         shuffle=False)"
      ],
      "execution_count": 122,
      "outputs": [
        {
          "output_type": "stream",
          "text": [
            "Files already downloaded and verified\n",
            "Files already downloaded and verified\n"
          ],
          "name": "stdout"
        }
      ]
    },
    {
      "cell_type": "code",
      "metadata": {
        "colab_type": "code",
        "id": "JVRREhs4b1lb",
        "colab": {
          "base_uri": "https://localhost:8080/",
          "height": 113
        },
        "outputId": "ba4c8d11-9172-49bc-ce02-a7b086804572"
      },
      "source": [
        "import matplotlib.pyplot as plt\n",
        "import numpy as np\n",
        "\n",
        "label_tags = [\"airplane\",\"automobile\",\"bird\", \n",
        "              \"cat\", \"deer\", \"dog\",\"frog\", \n",
        "              \"horse\", \"ship\", \"truck\"]\n",
        "\n",
        "\n",
        "def imshow(img):\n",
        "    img = img / 2 + 0.5     # unnormalize\n",
        "    npimg = img.numpy()\n",
        "    plt.imshow(np.transpose(npimg, (1, 2, 0)))\n",
        "    plt.show()\n",
        "\n",
        "\n",
        "# get some random training images\n",
        "dataiter = iter(trainloader)\n",
        "images, labels = dataiter.next()\n",
        "\n",
        "# show images\n",
        "imshow(torchvision.utils.make_grid(images))\n",
        "# print labels\n",
        "print('GroundTruth: ', [label_tags[j] for j in labels])"
      ],
      "execution_count": 119,
      "outputs": [
        {
          "output_type": "display_data",
          "data": {
            "image/png": "[encoded data removed]",
            "text/plain": [
              "<Figure size 432x288 with 1 Axes>"
            ]
          },
          "metadata": {
            "tags": [],
            "needs_background": "light"
          }
        },
        {
          "output_type": "stream",
          "text": [
            "GroundTruth:  ['deer', 'deer', 'deer', 'dog', 'automobile', 'bird', 'bird', 'automobile']\n"
          ],
          "name": "stdout"
        }
      ]
    },
    {
      "cell_type": "code",
      "metadata": {
        "colab_type": "code",
        "id": "AjrWt8aOckFP",
        "colab": {
          "base_uri": "https://localhost:8080/",
          "height": 586
        },
        "outputId": "3dedd258-7c39-457a-9a59-46cde82cf655"
      },
      "source": [
        "import torch.nn as nn\n",
        "import torch.nn.functional as F\n",
        "import torch.optim as optim\n",
        "\n",
        "class Net(nn.Module):\n",
        "    def __init__(self):\n",
        "        super(Net, self).__init__()\n",
        "        self.conv1 = nn.Conv2d(3, 6, 5)\n",
        "        self.conv2 = nn.Conv2d(6, 16, 5)\n",
        "        self.fc1 = nn.Linear(16*5*5, 120)\n",
        "        self.fc2 = nn.Linear(120, 84)\n",
        "        self.fc3 = nn.Linear(84, 10)\n",
        "\n",
        "    def forward(self, x):\n",
        "        # Max pooling over a (2, 2) window\n",
        "        x = F.max_pool2d(F.relu(self.conv1(x)), (2, 2))\n",
        "        # If the size is a square you can only specify a single number\n",
        "        x = F.max_pool2d(F.relu(self.conv2(x)), 2)\n",
        "        x = x.view(-1, self.num_flat_features(x))\n",
        "        x = F.relu(self.fc1(x))\n",
        "        x = F.relu(self.fc2(x))\n",
        "        x = self.fc3(x)\n",
        "        return x\n",
        "\n",
        "\n",
        "    def num_flat_features(self, x):\n",
        "        size = x.size()[1:]  # all dimensions except the batch dimension\n",
        "        num_features = 1\n",
        "        for s in size:\n",
        "            num_features *= s\n",
        "        return num_features\n",
        "\n",
        "net = Net()\n",
        "net = net.cuda()\n",
        "\n",
        "criterion = nn.CrossEntropyLoss()\n",
        "optimizer = optim.SGD(net.parameters(), lr=0.001, momentum=0.9)\n",
        "\n",
        "for epoch in range(5): \n",
        "    running_loss = 0.0\n",
        "    for i, data in enumerate(trainloader, 0):\n",
        "        # get the inputs; data is a list of [inputs, labels]\n",
        "        inputs, labels = data\n",
        "        inputs, labels = inputs.to(device), labels.to(device)\n",
        "\n",
        "        # zero the parameter gradients\n",
        "        optimizer.zero_grad()\n",
        "\n",
        "        # forward + backward + optimize\n",
        "        outputs = net(inputs)\n",
        "        loss = criterion(outputs, labels)\n",
        "        loss.backward()\n",
        "        optimizer.step()\n",
        "        \n",
        "        # print statistics\n",
        "        running_loss += loss.item()\n",
        "        if i % 2000 == 1999:    # print every 2000 mini-batches\n",
        "            print('[%d, %5d] loss: %.3f' %\n",
        "                  (epoch + 1, i + 1, running_loss / 2000))\n",
        "            running_loss = 0.0\n",
        "\n",
        "print('Finished Training')"
      ],
      "execution_count": 123,
      "outputs": [
        {
          "output_type": "stream",
          "text": [
            "[1,  2000] loss: 2.232\n",
            "[1,  4000] loss: 1.874\n",
            "[1,  6000] loss: 1.695\n",
            "[1,  8000] loss: 1.583\n",
            "[1, 10000] loss: 1.530\n",
            "[1, 12000] loss: 1.487\n",
            "[2,  2000] loss: 1.417\n",
            "[2,  4000] loss: 1.390\n",
            "[2,  6000] loss: 1.355\n",
            "[2,  8000] loss: 1.342\n",
            "[2, 10000] loss: 1.331\n",
            "[2, 12000] loss: 1.294\n",
            "[3,  2000] loss: 1.218\n",
            "[3,  4000] loss: 1.224\n",
            "[3,  6000] loss: 1.226\n",
            "[3,  8000] loss: 1.205\n",
            "[3, 10000] loss: 1.172\n",
            "[3, 12000] loss: 1.175\n",
            "[4,  2000] loss: 1.094\n",
            "[4,  4000] loss: 1.111\n",
            "[4,  6000] loss: 1.097\n",
            "[4,  8000] loss: 1.134\n",
            "[4, 10000] loss: 1.095\n",
            "[4, 12000] loss: 1.080\n",
            "[5,  2000] loss: 1.013\n",
            "[5,  4000] loss: 1.037\n",
            "[5,  6000] loss: 1.037\n",
            "[5,  8000] loss: 1.032\n",
            "[5, 10000] loss: 1.027\n",
            "[5, 12000] loss: 1.034\n",
            "Finished Training\n"
          ],
          "name": "stdout"
        }
      ]
    },
    {
      "cell_type": "code",
      "metadata": {
        "colab_type": "code",
        "id": "Mv1W6rtWeezS",
        "colab": {
          "base_uri": "https://localhost:8080/",
          "height": 35
        },
        "outputId": "6199f9b7-4fd0-4c06-d505-c32725dd87b7"
      },
      "source": [
        "correct = 0\n",
        "total = 0\n",
        "with torch.no_grad():\n",
        "    for data in testloader:\n",
        "        images, labels = data\n",
        "        outputs = net(images.to(device))\n",
        "        _, predicted = torch.max(outputs.data, 1)\n",
        "        total += labels.size(0)\n",
        "        correct += (predicted == labels).sum().item()\n",
        "\n",
        "print('Accuracy of the network on the 10000 test images: %d %%' % (\n",
        "    100 * correct / total))"
      ],
      "execution_count": 124,
      "outputs": [
        {
          "output_type": "stream",
          "text": [
            "Accuracy of the network on the 10000 test images: 61 %\n"
          ],
          "name": "stdout"
        }
      ]
    },
    {
      "cell_type": "code",
      "metadata": {
        "colab_type": "code",
        "id": "GLAl7DN6eltu",
        "colab": {
          "base_uri": "https://localhost:8080/",
          "height": 156
        },
        "outputId": "e76853fb-3451-4416-da30-507d21261f98"
      },
      "source": [
        "dataiter = iter(testloader)\n",
        "images, labels = dataiter.next()\n",
        "outputs = torch.max(net(images.to(device)).data, 1)[1]\n",
        "imshow(torchvision.utils.make_grid(images))\n",
        "print('Predictions: ', [label_tags[j] for j in list(outputs)])"
      ],
      "execution_count": 125,
      "outputs": [
        {
          "output_type": "display_data",
          "data": {
            "image/png": "[encoded data removed]",
            "text/plain": [
              "<Figure size 432x288 with 1 Axes>"
            ]
          },
          "metadata": {
            "tags": [],
            "needs_background": "light"
          }
        },
        {
          "output_type": "stream",
          "text": [
            "Predictions:  ['cat', 'automobile', 'truck', 'airplane']\n"
          ],
          "name": "stdout"
        }
      ]
    },
    {
      "cell_type": "code",
      "metadata": {
        "colab_type": "code",
        "id": "I3rpgUjhjVgg",
        "colab": {}
      },
      "source": [
        "net.requires_grad_ = False"
      ],
      "execution_count": 126,
      "outputs": []
    },
    {
      "cell_type": "markdown",
      "metadata": {
        "colab_type": "text",
        "id": "-KlyH6JxjjId"
      },
      "source": [
        "# CIFAR-10 Stealing Models"
      ]
    },
    {
      "cell_type": "code",
      "metadata": {
        "colab_type": "code",
        "id": "gLBnVdAgjbfx",
        "colab": {}
      },
      "source": [
        "NUM_RANDOM_POINTS = 60_000\n",
        "BATCH_SIZE = 8"
      ],
      "execution_count": 127,
      "outputs": []
    },
    {
      "cell_type": "code",
      "metadata": {
        "colab_type": "code",
        "id": "qzepXOa_jowf",
        "colab": {}
      },
      "source": [
        "X, Y = [], []\n",
        "for _ in range(int(NUM_RANDOM_POINTS/BATCH_SIZE)):\n",
        "  X.append(torch.rand((BATCH_SIZE,3,32,32))*2 -1)\n",
        "  Y.append(net(X[-1]).data)"
      ],
      "execution_count": 130,
      "outputs": []
    },
    {
      "cell_type": "code",
      "metadata": {
        "colab_type": "code",
        "id": "IAw4SoIGkCTA",
        "colab": {
          "base_uri": "https://localhost:8080/",
          "height": 403
        },
        "outputId": "1a448df0-87c5-4c08-a135-ed9e493581b3"
      },
      "source": [
        "stolen_net = Net()\n",
        "stolen_net = stolen_net.cuda()\n",
        "\n",
        "#criterion = nn.CrossEntropyLoss()\n",
        "criterion = nn.MSELoss()\n",
        "\n",
        "optimizer = optim.SGD(stolen_net.parameters(), lr=0.005, momentum=0.9)\n",
        "\n",
        "for epoch in range(20): \n",
        "\n",
        "    running_loss = 0.0\n",
        "    for i, data in enumerate(zip(X,Y), 0):\n",
        "        inputs, labels = data\n",
        "        inputs, labels = inputs.to(device), labels.to(device)\n",
        "\n",
        "        # zero the parameter gradients\n",
        "        optimizer.zero_grad()\n",
        "\n",
        "        # forward + backward + optimize\n",
        "        outputs = stolen_net(inputs)\n",
        "        #loss = criterion(outputs, torch.argmax(labels, dim=1))\n",
        "        loss = criterion(outputs, labels.data)\n",
        "        loss.backward()\n",
        "        optimizer.step()\n",
        "\n",
        "        # print statistics\n",
        "        running_loss += loss.item()\n",
        "        if i % 4000 == 3999:    # print every 4000 mini-batches\n",
        "            print('[%d, %5d] loss: %.3f' %\n",
        "                  (epoch + 1, i + 1, running_loss / 2000))\n",
        "            running_loss = 0.0\n",
        "\n",
        "print('Finished Training')\n"
      ],
      "execution_count": 131,
      "outputs": [
        {
          "output_type": "stream",
          "text": [
            "[1,  4000] loss: 1.123\n",
            "[2,  4000] loss: 0.849\n",
            "[3,  4000] loss: 0.653\n",
            "[4,  4000] loss: 0.535\n",
            "[5,  4000] loss: 0.433\n",
            "[6,  4000] loss: 0.394\n",
            "[7,  4000] loss: 0.377\n",
            "[8,  4000] loss: 0.364\n",
            "[9,  4000] loss: 0.355\n",
            "[10,  4000] loss: 0.346\n",
            "[11,  4000] loss: 0.339\n",
            "[12,  4000] loss: 0.333\n",
            "[13,  4000] loss: 0.328\n",
            "[14,  4000] loss: 0.324\n",
            "[15,  4000] loss: 0.319\n",
            "[16,  4000] loss: 0.317\n",
            "[17,  4000] loss: 0.312\n",
            "[18,  4000] loss: 0.308\n",
            "[19,  4000] loss: 0.304\n",
            "[20,  4000] loss: 0.301\n",
            "Finished Training\n"
          ],
          "name": "stdout"
        }
      ]
    },
    {
      "cell_type": "code",
      "metadata": {
        "colab_type": "code",
        "id": "Li3XSgFikMLs",
        "colab": {
          "base_uri": "https://localhost:8080/",
          "height": 35
        },
        "outputId": "bbb9e734-aa83-4ced-dfb1-453707ec0022"
      },
      "source": [
        "correct = 0\n",
        "total = 0\n",
        "with torch.no_grad():\n",
        "    for data in testloader:\n",
        "        images, labels = data\n",
        "        images, labels = images.to(device), labels.to(device)\n",
        "        outputs = stolen_net(images)\n",
        "        _, predicted = torch.max(outputs.data, 1)\n",
        "        total += labels.size(0)\n",
        "        correct += (predicted == labels).sum().item()\n",
        "\n",
        "print('Accuracy of the stolen network on the 10000 test images: %d %%' % (\n",
        "    100 * correct / total))"
      ],
      "execution_count": 132,
      "outputs": [
        {
          "output_type": "stream",
          "text": [
            "Accuracy of the stolen network on the 10000 test images: 31 %\n"
          ],
          "name": "stdout"
        }
      ]
    },
    {
      "cell_type": "markdown",
      "metadata": {
        "colab_type": "text",
        "id": "Ct-3wem_kPgq"
      },
      "source": [
        "## CIFAR-10 Conclusion and Summary\n",
        "\n",
        "We are able to steal the model to a great extent using random inputs only! Our final stolen model has an accuracy of 31% and the model had only API access to an original CNN model trained on MNIST dataset."
      ]
    },
    {
      "cell_type": "markdown",
      "metadata": {
        "id": "m14RMesqmBB5",
        "colab_type": "text"
      },
      "source": [
        "# Summary of All Results\n",
        "\n"
      ]
    },
    {
      "cell_type": "markdown",
      "metadata": {
        "colab_type": "text",
        "id": "7yK5kv-smEmA"
      },
      "source": [
        "\n",
        "| Dataset  | Model Acc | Stolen Model Acc.  | Stolen Model Relative Acc. |  \n",
        "|:--|---|---|---|\n",
        "| MNIST  | 99% | 79% | 79.7%  | \n",
        "|  FashionMNIST | 87%  | 38% | 43%  | \n",
        "|  CIFAR10 | 61% | 31%  | 50.8%  |  \n",
        "\n"
      ]
    }
  ]
}