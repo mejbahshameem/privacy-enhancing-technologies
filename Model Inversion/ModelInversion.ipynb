{
  "nbformat": 4,
  "nbformat_minor": 0,
  "metadata": {
    "colab": {
      "name": "ModelInversion.ipynb",
      "provenance": [],
      "collapsed_sections": []
    },
    "kernelspec": {
      "name": "python3",
      "display_name": "Python 3"
    },
    "accelerator": "GPU",
    "widgets": {
      "application/vnd.jupyter.widget-state+json": {
        "fdd4ede286c9452ea9a8588a530e4931": {
          "model_module": "@jupyter-widgets/controls",
          "model_name": "HBoxModel",
          "state": {
            "_view_name": "HBoxView",
            "_dom_classes": [],
            "_model_name": "HBoxModel",
            "_view_module": "@jupyter-widgets/controls",
            "_model_module_version": "1.5.0",
            "_view_count": null,
            "_view_module_version": "1.5.0",
            "box_style": "",
            "layout": "IPY_MODEL_18e450577f9f4b3ab7e87f967a4e68b3",
            "_model_module": "@jupyter-widgets/controls",
            "children": [
              "IPY_MODEL_aa7a024fd94b4bf7b66d6a9d5a032424",
              "IPY_MODEL_e6b4300a23044f85a6590436c1c7c0fd"
            ]
          }
        },
        "18e450577f9f4b3ab7e87f967a4e68b3": {
          "model_module": "@jupyter-widgets/base",
          "model_name": "LayoutModel",
          "state": {
            "_view_name": "LayoutView",
            "grid_template_rows": null,
            "right": null,
            "justify_content": null,
            "_view_module": "@jupyter-widgets/base",
            "overflow": null,
            "_model_module_version": "1.2.0",
            "_view_count": null,
            "flex_flow": null,
            "width": null,
            "min_width": null,
            "border": null,
            "align_items": null,
            "bottom": null,
            "_model_module": "@jupyter-widgets/base",
            "top": null,
            "grid_column": null,
            "overflow_y": null,
            "overflow_x": null,
            "grid_auto_flow": null,
            "grid_area": null,
            "grid_template_columns": null,
            "flex": null,
            "_model_name": "LayoutModel",
            "justify_items": null,
            "grid_row": null,
            "max_height": null,
            "align_content": null,
            "visibility": null,
            "align_self": null,
            "height": null,
            "min_height": null,
            "padding": null,
            "grid_auto_rows": null,
            "grid_gap": null,
            "max_width": null,
            "order": null,
            "_view_module_version": "1.2.0",
            "grid_template_areas": null,
            "object_position": null,
            "object_fit": null,
            "grid_auto_columns": null,
            "margin": null,
            "display": null,
            "left": null
          }
        },
        "aa7a024fd94b4bf7b66d6a9d5a032424": {
          "model_module": "@jupyter-widgets/controls",
          "model_name": "FloatProgressModel",
          "state": {
            "_view_name": "ProgressView",
            "style": "IPY_MODEL_b71de08890a04316935332ddaaf4abbf",
            "_dom_classes": [],
            "description": "",
            "_model_name": "FloatProgressModel",
            "bar_style": "info",
            "max": 1,
            "_view_module": "@jupyter-widgets/controls",
            "_model_module_version": "1.5.0",
            "value": 1,
            "_view_count": null,
            "_view_module_version": "1.5.0",
            "orientation": "horizontal",
            "min": 0,
            "description_tooltip": null,
            "_model_module": "@jupyter-widgets/controls",
            "layout": "IPY_MODEL_be5c5c592c8645a6a0216b7f5a0f6c7e"
          }
        },
        "e6b4300a23044f85a6590436c1c7c0fd": {
          "model_module": "@jupyter-widgets/controls",
          "model_name": "HTMLModel",
          "state": {
            "_view_name": "HTMLView",
            "style": "IPY_MODEL_e885093f3d6f46cd884567178ab99cb0",
            "_dom_classes": [],
            "description": "",
            "_model_name": "HTMLModel",
            "placeholder": "​",
            "_view_module": "@jupyter-widgets/controls",
            "_model_module_version": "1.5.0",
            "value": " 170500096/? [00:20&lt;00:00, 33853657.80it/s]",
            "_view_count": null,
            "_view_module_version": "1.5.0",
            "description_tooltip": null,
            "_model_module": "@jupyter-widgets/controls",
            "layout": "IPY_MODEL_dd2fe63ec7574736b445c4fec64e6501"
          }
        },
        "b71de08890a04316935332ddaaf4abbf": {
          "model_module": "@jupyter-widgets/controls",
          "model_name": "ProgressStyleModel",
          "state": {
            "_view_name": "StyleView",
            "_model_name": "ProgressStyleModel",
            "description_width": "initial",
            "_view_module": "@jupyter-widgets/base",
            "_model_module_version": "1.5.0",
            "_view_count": null,
            "_view_module_version": "1.2.0",
            "bar_color": null,
            "_model_module": "@jupyter-widgets/controls"
          }
        },
        "be5c5c592c8645a6a0216b7f5a0f6c7e": {
          "model_module": "@jupyter-widgets/base",
          "model_name": "LayoutModel",
          "state": {
            "_view_name": "LayoutView",
            "grid_template_rows": null,
            "right": null,
            "justify_content": null,
            "_view_module": "@jupyter-widgets/base",
            "overflow": null,
            "_model_module_version": "1.2.0",
            "_view_count": null,
            "flex_flow": null,
            "width": null,
            "min_width": null,
            "border": null,
            "align_items": null,
            "bottom": null,
            "_model_module": "@jupyter-widgets/base",
            "top": null,
            "grid_column": null,
            "overflow_y": null,
            "overflow_x": null,
            "grid_auto_flow": null,
            "grid_area": null,
            "grid_template_columns": null,
            "flex": null,
            "_model_name": "LayoutModel",
            "justify_items": null,
            "grid_row": null,
            "max_height": null,
            "align_content": null,
            "visibility": null,
            "align_self": null,
            "height": null,
            "min_height": null,
            "padding": null,
            "grid_auto_rows": null,
            "grid_gap": null,
            "max_width": null,
            "order": null,
            "_view_module_version": "1.2.0",
            "grid_template_areas": null,
            "object_position": null,
            "object_fit": null,
            "grid_auto_columns": null,
            "margin": null,
            "display": null,
            "left": null
          }
        },
        "e885093f3d6f46cd884567178ab99cb0": {
          "model_module": "@jupyter-widgets/controls",
          "model_name": "DescriptionStyleModel",
          "state": {
            "_view_name": "StyleView",
            "_model_name": "DescriptionStyleModel",
            "description_width": "",
            "_view_module": "@jupyter-widgets/base",
            "_model_module_version": "1.5.0",
            "_view_count": null,
            "_view_module_version": "1.2.0",
            "_model_module": "@jupyter-widgets/controls"
          }
        },
        "dd2fe63ec7574736b445c4fec64e6501": {
          "model_module": "@jupyter-widgets/base",
          "model_name": "LayoutModel",
          "state": {
            "_view_name": "LayoutView",
            "grid_template_rows": null,
            "right": null,
            "justify_content": null,
            "_view_module": "@jupyter-widgets/base",
            "overflow": null,
            "_model_module_version": "1.2.0",
            "_view_count": null,
            "flex_flow": null,
            "width": null,
            "min_width": null,
            "border": null,
            "align_items": null,
            "bottom": null,
            "_model_module": "@jupyter-widgets/base",
            "top": null,
            "grid_column": null,
            "overflow_y": null,
            "overflow_x": null,
            "grid_auto_flow": null,
            "grid_area": null,
            "grid_template_columns": null,
            "flex": null,
            "_model_name": "LayoutModel",
            "justify_items": null,
            "grid_row": null,
            "max_height": null,
            "align_content": null,
            "visibility": null,
            "align_self": null,
            "height": null,
            "min_height": null,
            "padding": null,
            "grid_auto_rows": null,
            "grid_gap": null,
            "max_width": null,
            "order": null,
            "_view_module_version": "1.2.0",
            "grid_template_areas": null,
            "object_position": null,
            "object_fit": null,
            "grid_auto_columns": null,
            "margin": null,
            "display": null,
            "left": null
          }
        },
        "1289eccc6539407d8dc166d0699e64f2": {
          "model_module": "@jupyter-widgets/controls",
          "model_name": "HBoxModel",
          "state": {
            "_view_name": "HBoxView",
            "_dom_classes": [],
            "_model_name": "HBoxModel",
            "_view_module": "@jupyter-widgets/controls",
            "_model_module_version": "1.5.0",
            "_view_count": null,
            "_view_module_version": "1.5.0",
            "box_style": "",
            "layout": "IPY_MODEL_b72eaa0ebbbf42faa4550ad3571bbfe2",
            "_model_module": "@jupyter-widgets/controls",
            "children": [
              "IPY_MODEL_476d5bec19ca41d792fe4cd629978cce",
              "IPY_MODEL_d2b117a64ec748c9b4dd1f10010d7573"
            ]
          }
        },
        "b72eaa0ebbbf42faa4550ad3571bbfe2": {
          "model_module": "@jupyter-widgets/base",
          "model_name": "LayoutModel",
          "state": {
            "_view_name": "LayoutView",
            "grid_template_rows": null,
            "right": null,
            "justify_content": null,
            "_view_module": "@jupyter-widgets/base",
            "overflow": null,
            "_model_module_version": "1.2.0",
            "_view_count": null,
            "flex_flow": null,
            "width": null,
            "min_width": null,
            "border": null,
            "align_items": null,
            "bottom": null,
            "_model_module": "@jupyter-widgets/base",
            "top": null,
            "grid_column": null,
            "overflow_y": null,
            "overflow_x": null,
            "grid_auto_flow": null,
            "grid_area": null,
            "grid_template_columns": null,
            "flex": null,
            "_model_name": "LayoutModel",
            "justify_items": null,
            "grid_row": null,
            "max_height": null,
            "align_content": null,
            "visibility": null,
            "align_self": null,
            "height": null,
            "min_height": null,
            "padding": null,
            "grid_auto_rows": null,
            "grid_gap": null,
            "max_width": null,
            "order": null,
            "_view_module_version": "1.2.0",
            "grid_template_areas": null,
            "object_position": null,
            "object_fit": null,
            "grid_auto_columns": null,
            "margin": null,
            "display": null,
            "left": null
          }
        },
        "476d5bec19ca41d792fe4cd629978cce": {
          "model_module": "@jupyter-widgets/controls",
          "model_name": "FloatProgressModel",
          "state": {
            "_view_name": "ProgressView",
            "style": "IPY_MODEL_2b8a959e3b8f466d929f617d7c1d1396",
            "_dom_classes": [],
            "description": "",
            "_model_name": "FloatProgressModel",
            "bar_style": "success",
            "max": 1,
            "_view_module": "@jupyter-widgets/controls",
            "_model_module_version": "1.5.0",
            "value": 1,
            "_view_count": null,
            "_view_module_version": "1.5.0",
            "orientation": "horizontal",
            "min": 0,
            "description_tooltip": null,
            "_model_module": "@jupyter-widgets/controls",
            "layout": "IPY_MODEL_a2ef19a481bb4315b47f6ae69d503943"
          }
        },
        "d2b117a64ec748c9b4dd1f10010d7573": {
          "model_module": "@jupyter-widgets/controls",
          "model_name": "HTMLModel",
          "state": {
            "_view_name": "HTMLView",
            "style": "IPY_MODEL_939f80e9c1c84de48996462446122c6e",
            "_dom_classes": [],
            "description": "",
            "_model_name": "HTMLModel",
            "placeholder": "​",
            "_view_module": "@jupyter-widgets/controls",
            "_model_module_version": "1.5.0",
            "value": " 9920512/? [00:01&lt;00:00, 5719460.75it/s]",
            "_view_count": null,
            "_view_module_version": "1.5.0",
            "description_tooltip": null,
            "_model_module": "@jupyter-widgets/controls",
            "layout": "IPY_MODEL_643e8d7dc2274adf9aaf42497863fa48"
          }
        },
        "2b8a959e3b8f466d929f617d7c1d1396": {
          "model_module": "@jupyter-widgets/controls",
          "model_name": "ProgressStyleModel",
          "state": {
            "_view_name": "StyleView",
            "_model_name": "ProgressStyleModel",
            "description_width": "initial",
            "_view_module": "@jupyter-widgets/base",
            "_model_module_version": "1.5.0",
            "_view_count": null,
            "_view_module_version": "1.2.0",
            "bar_color": null,
            "_model_module": "@jupyter-widgets/controls"
          }
        },
        "a2ef19a481bb4315b47f6ae69d503943": {
          "model_module": "@jupyter-widgets/base",
          "model_name": "LayoutModel",
          "state": {
            "_view_name": "LayoutView",
            "grid_template_rows": null,
            "right": null,
            "justify_content": null,
            "_view_module": "@jupyter-widgets/base",
            "overflow": null,
            "_model_module_version": "1.2.0",
            "_view_count": null,
            "flex_flow": null,
            "width": null,
            "min_width": null,
            "border": null,
            "align_items": null,
            "bottom": null,
            "_model_module": "@jupyter-widgets/base",
            "top": null,
            "grid_column": null,
            "overflow_y": null,
            "overflow_x": null,
            "grid_auto_flow": null,
            "grid_area": null,
            "grid_template_columns": null,
            "flex": null,
            "_model_name": "LayoutModel",
            "justify_items": null,
            "grid_row": null,
            "max_height": null,
            "align_content": null,
            "visibility": null,
            "align_self": null,
            "height": null,
            "min_height": null,
            "padding": null,
            "grid_auto_rows": null,
            "grid_gap": null,
            "max_width": null,
            "order": null,
            "_view_module_version": "1.2.0",
            "grid_template_areas": null,
            "object_position": null,
            "object_fit": null,
            "grid_auto_columns": null,
            "margin": null,
            "display": null,
            "left": null
          }
        },
        "939f80e9c1c84de48996462446122c6e": {
          "model_module": "@jupyter-widgets/controls",
          "model_name": "DescriptionStyleModel",
          "state": {
            "_view_name": "StyleView",
            "_model_name": "DescriptionStyleModel",
            "description_width": "",
            "_view_module": "@jupyter-widgets/base",
            "_model_module_version": "1.5.0",
            "_view_count": null,
            "_view_module_version": "1.2.0",
            "_model_module": "@jupyter-widgets/controls"
          }
        },
        "643e8d7dc2274adf9aaf42497863fa48": {
          "model_module": "@jupyter-widgets/base",
          "model_name": "LayoutModel",
          "state": {
            "_view_name": "LayoutView",
            "grid_template_rows": null,
            "right": null,
            "justify_content": null,
            "_view_module": "@jupyter-widgets/base",
            "overflow": null,
            "_model_module_version": "1.2.0",
            "_view_count": null,
            "flex_flow": null,
            "width": null,
            "min_width": null,
            "border": null,
            "align_items": null,
            "bottom": null,
            "_model_module": "@jupyter-widgets/base",
            "top": null,
            "grid_column": null,
            "overflow_y": null,
            "overflow_x": null,
            "grid_auto_flow": null,
            "grid_area": null,
            "grid_template_columns": null,
            "flex": null,
            "_model_name": "LayoutModel",
            "justify_items": null,
            "grid_row": null,
            "max_height": null,
            "align_content": null,
            "visibility": null,
            "align_self": null,
            "height": null,
            "min_height": null,
            "padding": null,
            "grid_auto_rows": null,
            "grid_gap": null,
            "max_width": null,
            "order": null,
            "_view_module_version": "1.2.0",
            "grid_template_areas": null,
            "object_position": null,
            "object_fit": null,
            "grid_auto_columns": null,
            "margin": null,
            "display": null,
            "left": null
          }
        },
        "aa382c26f1e44c3487ac8e77d62af032": {
          "model_module": "@jupyter-widgets/controls",
          "model_name": "HBoxModel",
          "state": {
            "_view_name": "HBoxView",
            "_dom_classes": [],
            "_model_name": "HBoxModel",
            "_view_module": "@jupyter-widgets/controls",
            "_model_module_version": "1.5.0",
            "_view_count": null,
            "_view_module_version": "1.5.0",
            "box_style": "",
            "layout": "IPY_MODEL_ea6cd2973ac0408a931a1e8b6a0145c0",
            "_model_module": "@jupyter-widgets/controls",
            "children": [
              "IPY_MODEL_dd12abb9d21c45e7b5dbefeac5f812fc",
              "IPY_MODEL_ce0e424a9ac94718ad5e2840dee8c12f"
            ]
          }
        },
        "ea6cd2973ac0408a931a1e8b6a0145c0": {
          "model_module": "@jupyter-widgets/base",
          "model_name": "LayoutModel",
          "state": {
            "_view_name": "LayoutView",
            "grid_template_rows": null,
            "right": null,
            "justify_content": null,
            "_view_module": "@jupyter-widgets/base",
            "overflow": null,
            "_model_module_version": "1.2.0",
            "_view_count": null,
            "flex_flow": null,
            "width": null,
            "min_width": null,
            "border": null,
            "align_items": null,
            "bottom": null,
            "_model_module": "@jupyter-widgets/base",
            "top": null,
            "grid_column": null,
            "overflow_y": null,
            "overflow_x": null,
            "grid_auto_flow": null,
            "grid_area": null,
            "grid_template_columns": null,
            "flex": null,
            "_model_name": "LayoutModel",
            "justify_items": null,
            "grid_row": null,
            "max_height": null,
            "align_content": null,
            "visibility": null,
            "align_self": null,
            "height": null,
            "min_height": null,
            "padding": null,
            "grid_auto_rows": null,
            "grid_gap": null,
            "max_width": null,
            "order": null,
            "_view_module_version": "1.2.0",
            "grid_template_areas": null,
            "object_position": null,
            "object_fit": null,
            "grid_auto_columns": null,
            "margin": null,
            "display": null,
            "left": null
          }
        },
        "dd12abb9d21c45e7b5dbefeac5f812fc": {
          "model_module": "@jupyter-widgets/controls",
          "model_name": "FloatProgressModel",
          "state": {
            "_view_name": "ProgressView",
            "style": "IPY_MODEL_dc65455793fb4dd488c7d3bd53ee465d",
            "_dom_classes": [],
            "description": "",
            "_model_name": "FloatProgressModel",
            "bar_style": "success",
            "max": 1,
            "_view_module": "@jupyter-widgets/controls",
            "_model_module_version": "1.5.0",
            "value": 1,
            "_view_count": null,
            "_view_module_version": "1.5.0",
            "orientation": "horizontal",
            "min": 0,
            "description_tooltip": null,
            "_model_module": "@jupyter-widgets/controls",
            "layout": "IPY_MODEL_ea5c046544cb432d9daf7e7f137a2bb2"
          }
        },
        "ce0e424a9ac94718ad5e2840dee8c12f": {
          "model_module": "@jupyter-widgets/controls",
          "model_name": "HTMLModel",
          "state": {
            "_view_name": "HTMLView",
            "style": "IPY_MODEL_3da440b0221c4c7ea39f7b5a1de10344",
            "_dom_classes": [],
            "description": "",
            "_model_name": "HTMLModel",
            "placeholder": "​",
            "_view_module": "@jupyter-widgets/controls",
            "_model_module_version": "1.5.0",
            "value": " 32768/? [00:00&lt;00:00, 114779.62it/s]",
            "_view_count": null,
            "_view_module_version": "1.5.0",
            "description_tooltip": null,
            "_model_module": "@jupyter-widgets/controls",
            "layout": "IPY_MODEL_a5cb1f2d0ae848a3b313712d8c0746f8"
          }
        },
        "dc65455793fb4dd488c7d3bd53ee465d": {
          "model_module": "@jupyter-widgets/controls",
          "model_name": "ProgressStyleModel",
          "state": {
            "_view_name": "StyleView",
            "_model_name": "ProgressStyleModel",
            "description_width": "initial",
            "_view_module": "@jupyter-widgets/base",
            "_model_module_version": "1.5.0",
            "_view_count": null,
            "_view_module_version": "1.2.0",
            "bar_color": null,
            "_model_module": "@jupyter-widgets/controls"
          }
        },
        "ea5c046544cb432d9daf7e7f137a2bb2": {
          "model_module": "@jupyter-widgets/base",
          "model_name": "LayoutModel",
          "state": {
            "_view_name": "LayoutView",
            "grid_template_rows": null,
            "right": null,
            "justify_content": null,
            "_view_module": "@jupyter-widgets/base",
            "overflow": null,
            "_model_module_version": "1.2.0",
            "_view_count": null,
            "flex_flow": null,
            "width": null,
            "min_width": null,
            "border": null,
            "align_items": null,
            "bottom": null,
            "_model_module": "@jupyter-widgets/base",
            "top": null,
            "grid_column": null,
            "overflow_y": null,
            "overflow_x": null,
            "grid_auto_flow": null,
            "grid_area": null,
            "grid_template_columns": null,
            "flex": null,
            "_model_name": "LayoutModel",
            "justify_items": null,
            "grid_row": null,
            "max_height": null,
            "align_content": null,
            "visibility": null,
            "align_self": null,
            "height": null,
            "min_height": null,
            "padding": null,
            "grid_auto_rows": null,
            "grid_gap": null,
            "max_width": null,
            "order": null,
            "_view_module_version": "1.2.0",
            "grid_template_areas": null,
            "object_position": null,
            "object_fit": null,
            "grid_auto_columns": null,
            "margin": null,
            "display": null,
            "left": null
          }
        },
        "3da440b0221c4c7ea39f7b5a1de10344": {
          "model_module": "@jupyter-widgets/controls",
          "model_name": "DescriptionStyleModel",
          "state": {
            "_view_name": "StyleView",
            "_model_name": "DescriptionStyleModel",
            "description_width": "",
            "_view_module": "@jupyter-widgets/base",
            "_model_module_version": "1.5.0",
            "_view_count": null,
            "_view_module_version": "1.2.0",
            "_model_module": "@jupyter-widgets/controls"
          }
        },
        "a5cb1f2d0ae848a3b313712d8c0746f8": {
          "model_module": "@jupyter-widgets/base",
          "model_name": "LayoutModel",
          "state": {
            "_view_name": "LayoutView",
            "grid_template_rows": null,
            "right": null,
            "justify_content": null,
            "_view_module": "@jupyter-widgets/base",
            "overflow": null,
            "_model_module_version": "1.2.0",
            "_view_count": null,
            "flex_flow": null,
            "width": null,
            "min_width": null,
            "border": null,
            "align_items": null,
            "bottom": null,
            "_model_module": "@jupyter-widgets/base",
            "top": null,
            "grid_column": null,
            "overflow_y": null,
            "overflow_x": null,
            "grid_auto_flow": null,
            "grid_area": null,
            "grid_template_columns": null,
            "flex": null,
            "_model_name": "LayoutModel",
            "justify_items": null,
            "grid_row": null,
            "max_height": null,
            "align_content": null,
            "visibility": null,
            "align_self": null,
            "height": null,
            "min_height": null,
            "padding": null,
            "grid_auto_rows": null,
            "grid_gap": null,
            "max_width": null,
            "order": null,
            "_view_module_version": "1.2.0",
            "grid_template_areas": null,
            "object_position": null,
            "object_fit": null,
            "grid_auto_columns": null,
            "margin": null,
            "display": null,
            "left": null
          }
        },
        "1ac01ad8bb6246c8b5f13db4016f0687": {
          "model_module": "@jupyter-widgets/controls",
          "model_name": "HBoxModel",
          "state": {
            "_view_name": "HBoxView",
            "_dom_classes": [],
            "_model_name": "HBoxModel",
            "_view_module": "@jupyter-widgets/controls",
            "_model_module_version": "1.5.0",
            "_view_count": null,
            "_view_module_version": "1.5.0",
            "box_style": "",
            "layout": "IPY_MODEL_4ac8f65480814c19924423b296eed92b",
            "_model_module": "@jupyter-widgets/controls",
            "children": [
              "IPY_MODEL_a67f80d2800d4249a59632ae9f330b00",
              "IPY_MODEL_8d44f1104bbf4f2ba8a10c645bc46bd0"
            ]
          }
        },
        "4ac8f65480814c19924423b296eed92b": {
          "model_module": "@jupyter-widgets/base",
          "model_name": "LayoutModel",
          "state": {
            "_view_name": "LayoutView",
            "grid_template_rows": null,
            "right": null,
            "justify_content": null,
            "_view_module": "@jupyter-widgets/base",
            "overflow": null,
            "_model_module_version": "1.2.0",
            "_view_count": null,
            "flex_flow": null,
            "width": null,
            "min_width": null,
            "border": null,
            "align_items": null,
            "bottom": null,
            "_model_module": "@jupyter-widgets/base",
            "top": null,
            "grid_column": null,
            "overflow_y": null,
            "overflow_x": null,
            "grid_auto_flow": null,
            "grid_area": null,
            "grid_template_columns": null,
            "flex": null,
            "_model_name": "LayoutModel",
            "justify_items": null,
            "grid_row": null,
            "max_height": null,
            "align_content": null,
            "visibility": null,
            "align_self": null,
            "height": null,
            "min_height": null,
            "padding": null,
            "grid_auto_rows": null,
            "grid_gap": null,
            "max_width": null,
            "order": null,
            "_view_module_version": "1.2.0",
            "grid_template_areas": null,
            "object_position": null,
            "object_fit": null,
            "grid_auto_columns": null,
            "margin": null,
            "display": null,
            "left": null
          }
        },
        "a67f80d2800d4249a59632ae9f330b00": {
          "model_module": "@jupyter-widgets/controls",
          "model_name": "FloatProgressModel",
          "state": {
            "_view_name": "ProgressView",
            "style": "IPY_MODEL_30657bfef4574e089608e2680fdc7d29",
            "_dom_classes": [],
            "description": "",
            "_model_name": "FloatProgressModel",
            "bar_style": "info",
            "max": 1,
            "_view_module": "@jupyter-widgets/controls",
            "_model_module_version": "1.5.0",
            "value": 1,
            "_view_count": null,
            "_view_module_version": "1.5.0",
            "orientation": "horizontal",
            "min": 0,
            "description_tooltip": null,
            "_model_module": "@jupyter-widgets/controls",
            "layout": "IPY_MODEL_9038addcdbda469e87863ca18c29b416"
          }
        },
        "8d44f1104bbf4f2ba8a10c645bc46bd0": {
          "model_module": "@jupyter-widgets/controls",
          "model_name": "HTMLModel",
          "state": {
            "_view_name": "HTMLView",
            "style": "IPY_MODEL_bbeafe659e9943df93f2b7da7a7177c4",
            "_dom_classes": [],
            "description": "",
            "_model_name": "HTMLModel",
            "placeholder": "​",
            "_view_module": "@jupyter-widgets/controls",
            "_model_module_version": "1.5.0",
            "value": " 1654784/? [00:12&lt;00:00, 512821.76it/s]",
            "_view_count": null,
            "_view_module_version": "1.5.0",
            "description_tooltip": null,
            "_model_module": "@jupyter-widgets/controls",
            "layout": "IPY_MODEL_d2543d66b92a4b5cbaea17b3b7d5ae4a"
          }
        },
        "30657bfef4574e089608e2680fdc7d29": {
          "model_module": "@jupyter-widgets/controls",
          "model_name": "ProgressStyleModel",
          "state": {
            "_view_name": "StyleView",
            "_model_name": "ProgressStyleModel",
            "description_width": "initial",
            "_view_module": "@jupyter-widgets/base",
            "_model_module_version": "1.5.0",
            "_view_count": null,
            "_view_module_version": "1.2.0",
            "bar_color": null,
            "_model_module": "@jupyter-widgets/controls"
          }
        },
        "9038addcdbda469e87863ca18c29b416": {
          "model_module": "@jupyter-widgets/base",
          "model_name": "LayoutModel",
          "state": {
            "_view_name": "LayoutView",
            "grid_template_rows": null,
            "right": null,
            "justify_content": null,
            "_view_module": "@jupyter-widgets/base",
            "overflow": null,
            "_model_module_version": "1.2.0",
            "_view_count": null,
            "flex_flow": null,
            "width": null,
            "min_width": null,
            "border": null,
            "align_items": null,
            "bottom": null,
            "_model_module": "@jupyter-widgets/base",
            "top": null,
            "grid_column": null,
            "overflow_y": null,
            "overflow_x": null,
            "grid_auto_flow": null,
            "grid_area": null,
            "grid_template_columns": null,
            "flex": null,
            "_model_name": "LayoutModel",
            "justify_items": null,
            "grid_row": null,
            "max_height": null,
            "align_content": null,
            "visibility": null,
            "align_self": null,
            "height": null,
            "min_height": null,
            "padding": null,
            "grid_auto_rows": null,
            "grid_gap": null,
            "max_width": null,
            "order": null,
            "_view_module_version": "1.2.0",
            "grid_template_areas": null,
            "object_position": null,
            "object_fit": null,
            "grid_auto_columns": null,
            "margin": null,
            "display": null,
            "left": null
          }
        },
        "bbeafe659e9943df93f2b7da7a7177c4": {
          "model_module": "@jupyter-widgets/controls",
          "model_name": "DescriptionStyleModel",
          "state": {
            "_view_name": "StyleView",
            "_model_name": "DescriptionStyleModel",
            "description_width": "",
            "_view_module": "@jupyter-widgets/base",
            "_model_module_version": "1.5.0",
            "_view_count": null,
            "_view_module_version": "1.2.0",
            "_model_module": "@jupyter-widgets/controls"
          }
        },
        "d2543d66b92a4b5cbaea17b3b7d5ae4a": {
          "model_module": "@jupyter-widgets/base",
          "model_name": "LayoutModel",
          "state": {
            "_view_name": "LayoutView",
            "grid_template_rows": null,
            "right": null,
            "justify_content": null,
            "_view_module": "@jupyter-widgets/base",
            "overflow": null,
            "_model_module_version": "1.2.0",
            "_view_count": null,
            "flex_flow": null,
            "width": null,
            "min_width": null,
            "border": null,
            "align_items": null,
            "bottom": null,
            "_model_module": "@jupyter-widgets/base",
            "top": null,
            "grid_column": null,
            "overflow_y": null,
            "overflow_x": null,
            "grid_auto_flow": null,
            "grid_area": null,
            "grid_template_columns": null,
            "flex": null,
            "_model_name": "LayoutModel",
            "justify_items": null,
            "grid_row": null,
            "max_height": null,
            "align_content": null,
            "visibility": null,
            "align_self": null,
            "height": null,
            "min_height": null,
            "padding": null,
            "grid_auto_rows": null,
            "grid_gap": null,
            "max_width": null,
            "order": null,
            "_view_module_version": "1.2.0",
            "grid_template_areas": null,
            "object_position": null,
            "object_fit": null,
            "grid_auto_columns": null,
            "margin": null,
            "display": null,
            "left": null
          }
        },
        "246fa5c5e5c149ebb970e3b8f02292e3": {
          "model_module": "@jupyter-widgets/controls",
          "model_name": "HBoxModel",
          "state": {
            "_view_name": "HBoxView",
            "_dom_classes": [],
            "_model_name": "HBoxModel",
            "_view_module": "@jupyter-widgets/controls",
            "_model_module_version": "1.5.0",
            "_view_count": null,
            "_view_module_version": "1.5.0",
            "box_style": "",
            "layout": "IPY_MODEL_9c22b7937cbf451395eeddd28db95fde",
            "_model_module": "@jupyter-widgets/controls",
            "children": [
              "IPY_MODEL_cc21d6a67fb242a8bcdd8c1619db755d",
              "IPY_MODEL_3b9c29b3f7a04e2dac87bdd12ab91bb8"
            ]
          }
        },
        "9c22b7937cbf451395eeddd28db95fde": {
          "model_module": "@jupyter-widgets/base",
          "model_name": "LayoutModel",
          "state": {
            "_view_name": "LayoutView",
            "grid_template_rows": null,
            "right": null,
            "justify_content": null,
            "_view_module": "@jupyter-widgets/base",
            "overflow": null,
            "_model_module_version": "1.2.0",
            "_view_count": null,
            "flex_flow": null,
            "width": null,
            "min_width": null,
            "border": null,
            "align_items": null,
            "bottom": null,
            "_model_module": "@jupyter-widgets/base",
            "top": null,
            "grid_column": null,
            "overflow_y": null,
            "overflow_x": null,
            "grid_auto_flow": null,
            "grid_area": null,
            "grid_template_columns": null,
            "flex": null,
            "_model_name": "LayoutModel",
            "justify_items": null,
            "grid_row": null,
            "max_height": null,
            "align_content": null,
            "visibility": null,
            "align_self": null,
            "height": null,
            "min_height": null,
            "padding": null,
            "grid_auto_rows": null,
            "grid_gap": null,
            "max_width": null,
            "order": null,
            "_view_module_version": "1.2.0",
            "grid_template_areas": null,
            "object_position": null,
            "object_fit": null,
            "grid_auto_columns": null,
            "margin": null,
            "display": null,
            "left": null
          }
        },
        "cc21d6a67fb242a8bcdd8c1619db755d": {
          "model_module": "@jupyter-widgets/controls",
          "model_name": "FloatProgressModel",
          "state": {
            "_view_name": "ProgressView",
            "style": "IPY_MODEL_470c72d9b3624930ae3436cb02169c4f",
            "_dom_classes": [],
            "description": "",
            "_model_name": "FloatProgressModel",
            "bar_style": "success",
            "max": 1,
            "_view_module": "@jupyter-widgets/controls",
            "_model_module_version": "1.5.0",
            "value": 1,
            "_view_count": null,
            "_view_module_version": "1.5.0",
            "orientation": "horizontal",
            "min": 0,
            "description_tooltip": null,
            "_model_module": "@jupyter-widgets/controls",
            "layout": "IPY_MODEL_6d63757280ca47e2acfe057b716410cd"
          }
        },
        "3b9c29b3f7a04e2dac87bdd12ab91bb8": {
          "model_module": "@jupyter-widgets/controls",
          "model_name": "HTMLModel",
          "state": {
            "_view_name": "HTMLView",
            "style": "IPY_MODEL_16e5a7ec708f4fb3b3968588b05ea836",
            "_dom_classes": [],
            "description": "",
            "_model_name": "HTMLModel",
            "placeholder": "​",
            "_view_module": "@jupyter-widgets/controls",
            "_model_module_version": "1.5.0",
            "value": " 8192/? [00:01&lt;00:00, 7798.34it/s]",
            "_view_count": null,
            "_view_module_version": "1.5.0",
            "description_tooltip": null,
            "_model_module": "@jupyter-widgets/controls",
            "layout": "IPY_MODEL_d95fc3c583b540a6ad034769bc069022"
          }
        },
        "470c72d9b3624930ae3436cb02169c4f": {
          "model_module": "@jupyter-widgets/controls",
          "model_name": "ProgressStyleModel",
          "state": {
            "_view_name": "StyleView",
            "_model_name": "ProgressStyleModel",
            "description_width": "initial",
            "_view_module": "@jupyter-widgets/base",
            "_model_module_version": "1.5.0",
            "_view_count": null,
            "_view_module_version": "1.2.0",
            "bar_color": null,
            "_model_module": "@jupyter-widgets/controls"
          }
        },
        "6d63757280ca47e2acfe057b716410cd": {
          "model_module": "@jupyter-widgets/base",
          "model_name": "LayoutModel",
          "state": {
            "_view_name": "LayoutView",
            "grid_template_rows": null,
            "right": null,
            "justify_content": null,
            "_view_module": "@jupyter-widgets/base",
            "overflow": null,
            "_model_module_version": "1.2.0",
            "_view_count": null,
            "flex_flow": null,
            "width": null,
            "min_width": null,
            "border": null,
            "align_items": null,
            "bottom": null,
            "_model_module": "@jupyter-widgets/base",
            "top": null,
            "grid_column": null,
            "overflow_y": null,
            "overflow_x": null,
            "grid_auto_flow": null,
            "grid_area": null,
            "grid_template_columns": null,
            "flex": null,
            "_model_name": "LayoutModel",
            "justify_items": null,
            "grid_row": null,
            "max_height": null,
            "align_content": null,
            "visibility": null,
            "align_self": null,
            "height": null,
            "min_height": null,
            "padding": null,
            "grid_auto_rows": null,
            "grid_gap": null,
            "max_width": null,
            "order": null,
            "_view_module_version": "1.2.0",
            "grid_template_areas": null,
            "object_position": null,
            "object_fit": null,
            "grid_auto_columns": null,
            "margin": null,
            "display": null,
            "left": null
          }
        },
        "16e5a7ec708f4fb3b3968588b05ea836": {
          "model_module": "@jupyter-widgets/controls",
          "model_name": "DescriptionStyleModel",
          "state": {
            "_view_name": "StyleView",
            "_model_name": "DescriptionStyleModel",
            "description_width": "",
            "_view_module": "@jupyter-widgets/base",
            "_model_module_version": "1.5.0",
            "_view_count": null,
            "_view_module_version": "1.2.0",
            "_model_module": "@jupyter-widgets/controls"
          }
        },
        "d95fc3c583b540a6ad034769bc069022": {
          "model_module": "@jupyter-widgets/base",
          "model_name": "LayoutModel",
          "state": {
            "_view_name": "LayoutView",
            "grid_template_rows": null,
            "right": null,
            "justify_content": null,
            "_view_module": "@jupyter-widgets/base",
            "overflow": null,
            "_model_module_version": "1.2.0",
            "_view_count": null,
            "flex_flow": null,
            "width": null,
            "min_width": null,
            "border": null,
            "align_items": null,
            "bottom": null,
            "_model_module": "@jupyter-widgets/base",
            "top": null,
            "grid_column": null,
            "overflow_y": null,
            "overflow_x": null,
            "grid_auto_flow": null,
            "grid_area": null,
            "grid_template_columns": null,
            "flex": null,
            "_model_name": "LayoutModel",
            "justify_items": null,
            "grid_row": null,
            "max_height": null,
            "align_content": null,
            "visibility": null,
            "align_self": null,
            "height": null,
            "min_height": null,
            "padding": null,
            "grid_auto_rows": null,
            "grid_gap": null,
            "max_width": null,
            "order": null,
            "_view_module_version": "1.2.0",
            "grid_template_areas": null,
            "object_position": null,
            "object_fit": null,
            "grid_auto_columns": null,
            "margin": null,
            "display": null,
            "left": null
          }
        },
        "a60f873127bd44c59019e331c149f974": {
          "model_module": "@jupyter-widgets/controls",
          "model_name": "HBoxModel",
          "state": {
            "_view_name": "HBoxView",
            "_dom_classes": [],
            "_model_name": "HBoxModel",
            "_view_module": "@jupyter-widgets/controls",
            "_model_module_version": "1.5.0",
            "_view_count": null,
            "_view_module_version": "1.5.0",
            "box_style": "",
            "layout": "IPY_MODEL_da083d5b7acd49ce8f447ab2b3ebf58b",
            "_model_module": "@jupyter-widgets/controls",
            "children": [
              "IPY_MODEL_21af62e267104fd3bfa24620c0aaa8d6",
              "IPY_MODEL_5b0de5a04c8d45ceabf80e1020d0944f"
            ]
          }
        },
        "da083d5b7acd49ce8f447ab2b3ebf58b": {
          "model_module": "@jupyter-widgets/base",
          "model_name": "LayoutModel",
          "state": {
            "_view_name": "LayoutView",
            "grid_template_rows": null,
            "right": null,
            "justify_content": null,
            "_view_module": "@jupyter-widgets/base",
            "overflow": null,
            "_model_module_version": "1.2.0",
            "_view_count": null,
            "flex_flow": null,
            "width": null,
            "min_width": null,
            "border": null,
            "align_items": null,
            "bottom": null,
            "_model_module": "@jupyter-widgets/base",
            "top": null,
            "grid_column": null,
            "overflow_y": null,
            "overflow_x": null,
            "grid_auto_flow": null,
            "grid_area": null,
            "grid_template_columns": null,
            "flex": null,
            "_model_name": "LayoutModel",
            "justify_items": null,
            "grid_row": null,
            "max_height": null,
            "align_content": null,
            "visibility": null,
            "align_self": null,
            "height": null,
            "min_height": null,
            "padding": null,
            "grid_auto_rows": null,
            "grid_gap": null,
            "max_width": null,
            "order": null,
            "_view_module_version": "1.2.0",
            "grid_template_areas": null,
            "object_position": null,
            "object_fit": null,
            "grid_auto_columns": null,
            "margin": null,
            "display": null,
            "left": null
          }
        },
        "21af62e267104fd3bfa24620c0aaa8d6": {
          "model_module": "@jupyter-widgets/controls",
          "model_name": "FloatProgressModel",
          "state": {
            "_view_name": "ProgressView",
            "style": "IPY_MODEL_110799f64c32407e8d276b1fc9b92ddd",
            "_dom_classes": [],
            "description": "",
            "_model_name": "FloatProgressModel",
            "bar_style": "success",
            "max": 1,
            "_view_module": "@jupyter-widgets/controls",
            "_model_module_version": "1.5.0",
            "value": 1,
            "_view_count": null,
            "_view_module_version": "1.5.0",
            "orientation": "horizontal",
            "min": 0,
            "description_tooltip": null,
            "_model_module": "@jupyter-widgets/controls",
            "layout": "IPY_MODEL_f530691046f34b43adc266fa42b4ff6e"
          }
        },
        "5b0de5a04c8d45ceabf80e1020d0944f": {
          "model_module": "@jupyter-widgets/controls",
          "model_name": "HTMLModel",
          "state": {
            "_view_name": "HTMLView",
            "style": "IPY_MODEL_2561e3bd6bbd4aeca0e0b2945e9e6217",
            "_dom_classes": [],
            "description": "",
            "_model_name": "HTMLModel",
            "placeholder": "​",
            "_view_module": "@jupyter-widgets/controls",
            "_model_module_version": "1.5.0",
            "value": " 26427392/? [00:01&lt;00:00, 21493041.61it/s]",
            "_view_count": null,
            "_view_module_version": "1.5.0",
            "description_tooltip": null,
            "_model_module": "@jupyter-widgets/controls",
            "layout": "IPY_MODEL_4271f8f8aa6f4e71a080f280b03331d1"
          }
        },
        "110799f64c32407e8d276b1fc9b92ddd": {
          "model_module": "@jupyter-widgets/controls",
          "model_name": "ProgressStyleModel",
          "state": {
            "_view_name": "StyleView",
            "_model_name": "ProgressStyleModel",
            "description_width": "initial",
            "_view_module": "@jupyter-widgets/base",
            "_model_module_version": "1.5.0",
            "_view_count": null,
            "_view_module_version": "1.2.0",
            "bar_color": null,
            "_model_module": "@jupyter-widgets/controls"
          }
        },
        "f530691046f34b43adc266fa42b4ff6e": {
          "model_module": "@jupyter-widgets/base",
          "model_name": "LayoutModel",
          "state": {
            "_view_name": "LayoutView",
            "grid_template_rows": null,
            "right": null,
            "justify_content": null,
            "_view_module": "@jupyter-widgets/base",
            "overflow": null,
            "_model_module_version": "1.2.0",
            "_view_count": null,
            "flex_flow": null,
            "width": null,
            "min_width": null,
            "border": null,
            "align_items": null,
            "bottom": null,
            "_model_module": "@jupyter-widgets/base",
            "top": null,
            "grid_column": null,
            "overflow_y": null,
            "overflow_x": null,
            "grid_auto_flow": null,
            "grid_area": null,
            "grid_template_columns": null,
            "flex": null,
            "_model_name": "LayoutModel",
            "justify_items": null,
            "grid_row": null,
            "max_height": null,
            "align_content": null,
            "visibility": null,
            "align_self": null,
            "height": null,
            "min_height": null,
            "padding": null,
            "grid_auto_rows": null,
            "grid_gap": null,
            "max_width": null,
            "order": null,
            "_view_module_version": "1.2.0",
            "grid_template_areas": null,
            "object_position": null,
            "object_fit": null,
            "grid_auto_columns": null,
            "margin": null,
            "display": null,
            "left": null
          }
        },
        "2561e3bd6bbd4aeca0e0b2945e9e6217": {
          "model_module": "@jupyter-widgets/controls",
          "model_name": "DescriptionStyleModel",
          "state": {
            "_view_name": "StyleView",
            "_model_name": "DescriptionStyleModel",
            "description_width": "",
            "_view_module": "@jupyter-widgets/base",
            "_model_module_version": "1.5.0",
            "_view_count": null,
            "_view_module_version": "1.2.0",
            "_model_module": "@jupyter-widgets/controls"
          }
        },
        "4271f8f8aa6f4e71a080f280b03331d1": {
          "model_module": "@jupyter-widgets/base",
          "model_name": "LayoutModel",
          "state": {
            "_view_name": "LayoutView",
            "grid_template_rows": null,
            "right": null,
            "justify_content": null,
            "_view_module": "@jupyter-widgets/base",
            "overflow": null,
            "_model_module_version": "1.2.0",
            "_view_count": null,
            "flex_flow": null,
            "width": null,
            "min_width": null,
            "border": null,
            "align_items": null,
            "bottom": null,
            "_model_module": "@jupyter-widgets/base",
            "top": null,
            "grid_column": null,
            "overflow_y": null,
            "overflow_x": null,
            "grid_auto_flow": null,
            "grid_area": null,
            "grid_template_columns": null,
            "flex": null,
            "_model_name": "LayoutModel",
            "justify_items": null,
            "grid_row": null,
            "max_height": null,
            "align_content": null,
            "visibility": null,
            "align_self": null,
            "height": null,
            "min_height": null,
            "padding": null,
            "grid_auto_rows": null,
            "grid_gap": null,
            "max_width": null,
            "order": null,
            "_view_module_version": "1.2.0",
            "grid_template_areas": null,
            "object_position": null,
            "object_fit": null,
            "grid_auto_columns": null,
            "margin": null,
            "display": null,
            "left": null
          }
        },
        "9b3474d61c454d6dac20ab61ac70e449": {
          "model_module": "@jupyter-widgets/controls",
          "model_name": "HBoxModel",
          "state": {
            "_view_name": "HBoxView",
            "_dom_classes": [],
            "_model_name": "HBoxModel",
            "_view_module": "@jupyter-widgets/controls",
            "_model_module_version": "1.5.0",
            "_view_count": null,
            "_view_module_version": "1.5.0",
            "box_style": "",
            "layout": "IPY_MODEL_1945e00ce4094007893169366a9359be",
            "_model_module": "@jupyter-widgets/controls",
            "children": [
              "IPY_MODEL_c6e374d22d7144c5a3442000029f85f8",
              "IPY_MODEL_07f7ec537d514827b0b78f0901582c12"
            ]
          }
        },
        "1945e00ce4094007893169366a9359be": {
          "model_module": "@jupyter-widgets/base",
          "model_name": "LayoutModel",
          "state": {
            "_view_name": "LayoutView",
            "grid_template_rows": null,
            "right": null,
            "justify_content": null,
            "_view_module": "@jupyter-widgets/base",
            "overflow": null,
            "_model_module_version": "1.2.0",
            "_view_count": null,
            "flex_flow": null,
            "width": null,
            "min_width": null,
            "border": null,
            "align_items": null,
            "bottom": null,
            "_model_module": "@jupyter-widgets/base",
            "top": null,
            "grid_column": null,
            "overflow_y": null,
            "overflow_x": null,
            "grid_auto_flow": null,
            "grid_area": null,
            "grid_template_columns": null,
            "flex": null,
            "_model_name": "LayoutModel",
            "justify_items": null,
            "grid_row": null,
            "max_height": null,
            "align_content": null,
            "visibility": null,
            "align_self": null,
            "height": null,
            "min_height": null,
            "padding": null,
            "grid_auto_rows": null,
            "grid_gap": null,
            "max_width": null,
            "order": null,
            "_view_module_version": "1.2.0",
            "grid_template_areas": null,
            "object_position": null,
            "object_fit": null,
            "grid_auto_columns": null,
            "margin": null,
            "display": null,
            "left": null
          }
        },
        "c6e374d22d7144c5a3442000029f85f8": {
          "model_module": "@jupyter-widgets/controls",
          "model_name": "FloatProgressModel",
          "state": {
            "_view_name": "ProgressView",
            "style": "IPY_MODEL_4b20b4612aef470e8e5af6b8e25f0159",
            "_dom_classes": [],
            "description": "",
            "_model_name": "FloatProgressModel",
            "bar_style": "success",
            "max": 1,
            "_view_module": "@jupyter-widgets/controls",
            "_model_module_version": "1.5.0",
            "value": 1,
            "_view_count": null,
            "_view_module_version": "1.5.0",
            "orientation": "horizontal",
            "min": 0,
            "description_tooltip": null,
            "_model_module": "@jupyter-widgets/controls",
            "layout": "IPY_MODEL_c44b2ee5d2a6453390cfb94ddf6057ae"
          }
        },
        "07f7ec537d514827b0b78f0901582c12": {
          "model_module": "@jupyter-widgets/controls",
          "model_name": "HTMLModel",
          "state": {
            "_view_name": "HTMLView",
            "style": "IPY_MODEL_a8a43c223a81470f8a248da83d54fdcf",
            "_dom_classes": [],
            "description": "",
            "_model_name": "HTMLModel",
            "placeholder": "​",
            "_view_module": "@jupyter-widgets/controls",
            "_model_module_version": "1.5.0",
            "value": " 32768/? [00:00&lt;00:00, 66915.18it/s]",
            "_view_count": null,
            "_view_module_version": "1.5.0",
            "description_tooltip": null,
            "_model_module": "@jupyter-widgets/controls",
            "layout": "IPY_MODEL_ab9ed15ada154c0c87ba363821000f5b"
          }
        },
        "4b20b4612aef470e8e5af6b8e25f0159": {
          "model_module": "@jupyter-widgets/controls",
          "model_name": "ProgressStyleModel",
          "state": {
            "_view_name": "StyleView",
            "_model_name": "ProgressStyleModel",
            "description_width": "initial",
            "_view_module": "@jupyter-widgets/base",
            "_model_module_version": "1.5.0",
            "_view_count": null,
            "_view_module_version": "1.2.0",
            "bar_color": null,
            "_model_module": "@jupyter-widgets/controls"
          }
        },
        "c44b2ee5d2a6453390cfb94ddf6057ae": {
          "model_module": "@jupyter-widgets/base",
          "model_name": "LayoutModel",
          "state": {
            "_view_name": "LayoutView",
            "grid_template_rows": null,
            "right": null,
            "justify_content": null,
            "_view_module": "@jupyter-widgets/base",
            "overflow": null,
            "_model_module_version": "1.2.0",
            "_view_count": null,
            "flex_flow": null,
            "width": null,
            "min_width": null,
            "border": null,
            "align_items": null,
            "bottom": null,
            "_model_module": "@jupyter-widgets/base",
            "top": null,
            "grid_column": null,
            "overflow_y": null,
            "overflow_x": null,
            "grid_auto_flow": null,
            "grid_area": null,
            "grid_template_columns": null,
            "flex": null,
            "_model_name": "LayoutModel",
            "justify_items": null,
            "grid_row": null,
            "max_height": null,
            "align_content": null,
            "visibility": null,
            "align_self": null,
            "height": null,
            "min_height": null,
            "padding": null,
            "grid_auto_rows": null,
            "grid_gap": null,
            "max_width": null,
            "order": null,
            "_view_module_version": "1.2.0",
            "grid_template_areas": null,
            "object_position": null,
            "object_fit": null,
            "grid_auto_columns": null,
            "margin": null,
            "display": null,
            "left": null
          }
        },
        "a8a43c223a81470f8a248da83d54fdcf": {
          "model_module": "@jupyter-widgets/controls",
          "model_name": "DescriptionStyleModel",
          "state": {
            "_view_name": "StyleView",
            "_model_name": "DescriptionStyleModel",
            "description_width": "",
            "_view_module": "@jupyter-widgets/base",
            "_model_module_version": "1.5.0",
            "_view_count": null,
            "_view_module_version": "1.2.0",
            "_model_module": "@jupyter-widgets/controls"
          }
        },
        "ab9ed15ada154c0c87ba363821000f5b": {
          "model_module": "@jupyter-widgets/base",
          "model_name": "LayoutModel",
          "state": {
            "_view_name": "LayoutView",
            "grid_template_rows": null,
            "right": null,
            "justify_content": null,
            "_view_module": "@jupyter-widgets/base",
            "overflow": null,
            "_model_module_version": "1.2.0",
            "_view_count": null,
            "flex_flow": null,
            "width": null,
            "min_width": null,
            "border": null,
            "align_items": null,
            "bottom": null,
            "_model_module": "@jupyter-widgets/base",
            "top": null,
            "grid_column": null,
            "overflow_y": null,
            "overflow_x": null,
            "grid_auto_flow": null,
            "grid_area": null,
            "grid_template_columns": null,
            "flex": null,
            "_model_name": "LayoutModel",
            "justify_items": null,
            "grid_row": null,
            "max_height": null,
            "align_content": null,
            "visibility": null,
            "align_self": null,
            "height": null,
            "min_height": null,
            "padding": null,
            "grid_auto_rows": null,
            "grid_gap": null,
            "max_width": null,
            "order": null,
            "_view_module_version": "1.2.0",
            "grid_template_areas": null,
            "object_position": null,
            "object_fit": null,
            "grid_auto_columns": null,
            "margin": null,
            "display": null,
            "left": null
          }
        },
        "388736435fda46a29c6681cdca16f3fa": {
          "model_module": "@jupyter-widgets/controls",
          "model_name": "HBoxModel",
          "state": {
            "_view_name": "HBoxView",
            "_dom_classes": [],
            "_model_name": "HBoxModel",
            "_view_module": "@jupyter-widgets/controls",
            "_model_module_version": "1.5.0",
            "_view_count": null,
            "_view_module_version": "1.5.0",
            "box_style": "",
            "layout": "IPY_MODEL_563885739b0f4e77afb32cc961b708db",
            "_model_module": "@jupyter-widgets/controls",
            "children": [
              "IPY_MODEL_baedec5fac6f450a89a6640c00984df0",
              "IPY_MODEL_d33855405bcf4e55a51d436acccad4d3"
            ]
          }
        },
        "563885739b0f4e77afb32cc961b708db": {
          "model_module": "@jupyter-widgets/base",
          "model_name": "LayoutModel",
          "state": {
            "_view_name": "LayoutView",
            "grid_template_rows": null,
            "right": null,
            "justify_content": null,
            "_view_module": "@jupyter-widgets/base",
            "overflow": null,
            "_model_module_version": "1.2.0",
            "_view_count": null,
            "flex_flow": null,
            "width": null,
            "min_width": null,
            "border": null,
            "align_items": null,
            "bottom": null,
            "_model_module": "@jupyter-widgets/base",
            "top": null,
            "grid_column": null,
            "overflow_y": null,
            "overflow_x": null,
            "grid_auto_flow": null,
            "grid_area": null,
            "grid_template_columns": null,
            "flex": null,
            "_model_name": "LayoutModel",
            "justify_items": null,
            "grid_row": null,
            "max_height": null,
            "align_content": null,
            "visibility": null,
            "align_self": null,
            "height": null,
            "min_height": null,
            "padding": null,
            "grid_auto_rows": null,
            "grid_gap": null,
            "max_width": null,
            "order": null,
            "_view_module_version": "1.2.0",
            "grid_template_areas": null,
            "object_position": null,
            "object_fit": null,
            "grid_auto_columns": null,
            "margin": null,
            "display": null,
            "left": null
          }
        },
        "baedec5fac6f450a89a6640c00984df0": {
          "model_module": "@jupyter-widgets/controls",
          "model_name": "FloatProgressModel",
          "state": {
            "_view_name": "ProgressView",
            "style": "IPY_MODEL_10496237e31a4f28a9b970f4acb3d478",
            "_dom_classes": [],
            "description": "",
            "_model_name": "FloatProgressModel",
            "bar_style": "success",
            "max": 1,
            "_view_module": "@jupyter-widgets/controls",
            "_model_module_version": "1.5.0",
            "value": 1,
            "_view_count": null,
            "_view_module_version": "1.5.0",
            "orientation": "horizontal",
            "min": 0,
            "description_tooltip": null,
            "_model_module": "@jupyter-widgets/controls",
            "layout": "IPY_MODEL_d040727b8251416b96c5aaa1ff90dca9"
          }
        },
        "d33855405bcf4e55a51d436acccad4d3": {
          "model_module": "@jupyter-widgets/controls",
          "model_name": "HTMLModel",
          "state": {
            "_view_name": "HTMLView",
            "style": "IPY_MODEL_e3cf7d9c7d20452ea23e6371d489b0a5",
            "_dom_classes": [],
            "description": "",
            "_model_name": "HTMLModel",
            "placeholder": "​",
            "_view_module": "@jupyter-widgets/controls",
            "_model_module_version": "1.5.0",
            "value": " 4423680/? [00:00&lt;00:00, 10511029.64it/s]",
            "_view_count": null,
            "_view_module_version": "1.5.0",
            "description_tooltip": null,
            "_model_module": "@jupyter-widgets/controls",
            "layout": "IPY_MODEL_1b7df00acaf3480db1b2fd8dc03fa80b"
          }
        },
        "10496237e31a4f28a9b970f4acb3d478": {
          "model_module": "@jupyter-widgets/controls",
          "model_name": "ProgressStyleModel",
          "state": {
            "_view_name": "StyleView",
            "_model_name": "ProgressStyleModel",
            "description_width": "initial",
            "_view_module": "@jupyter-widgets/base",
            "_model_module_version": "1.5.0",
            "_view_count": null,
            "_view_module_version": "1.2.0",
            "bar_color": null,
            "_model_module": "@jupyter-widgets/controls"
          }
        },
        "d040727b8251416b96c5aaa1ff90dca9": {
          "model_module": "@jupyter-widgets/base",
          "model_name": "LayoutModel",
          "state": {
            "_view_name": "LayoutView",
            "grid_template_rows": null,
            "right": null,
            "justify_content": null,
            "_view_module": "@jupyter-widgets/base",
            "overflow": null,
            "_model_module_version": "1.2.0",
            "_view_count": null,
            "flex_flow": null,
            "width": null,
            "min_width": null,
            "border": null,
            "align_items": null,
            "bottom": null,
            "_model_module": "@jupyter-widgets/base",
            "top": null,
            "grid_column": null,
            "overflow_y": null,
            "overflow_x": null,
            "grid_auto_flow": null,
            "grid_area": null,
            "grid_template_columns": null,
            "flex": null,
            "_model_name": "LayoutModel",
            "justify_items": null,
            "grid_row": null,
            "max_height": null,
            "align_content": null,
            "visibility": null,
            "align_self": null,
            "height": null,
            "min_height": null,
            "padding": null,
            "grid_auto_rows": null,
            "grid_gap": null,
            "max_width": null,
            "order": null,
            "_view_module_version": "1.2.0",
            "grid_template_areas": null,
            "object_position": null,
            "object_fit": null,
            "grid_auto_columns": null,
            "margin": null,
            "display": null,
            "left": null
          }
        },
        "e3cf7d9c7d20452ea23e6371d489b0a5": {
          "model_module": "@jupyter-widgets/controls",
          "model_name": "DescriptionStyleModel",
          "state": {
            "_view_name": "StyleView",
            "_model_name": "DescriptionStyleModel",
            "description_width": "",
            "_view_module": "@jupyter-widgets/base",
            "_model_module_version": "1.5.0",
            "_view_count": null,
            "_view_module_version": "1.2.0",
            "_model_module": "@jupyter-widgets/controls"
          }
        },
        "1b7df00acaf3480db1b2fd8dc03fa80b": {
          "model_module": "@jupyter-widgets/base",
          "model_name": "LayoutModel",
          "state": {
            "_view_name": "LayoutView",
            "grid_template_rows": null,
            "right": null,
            "justify_content": null,
            "_view_module": "@jupyter-widgets/base",
            "overflow": null,
            "_model_module_version": "1.2.0",
            "_view_count": null,
            "flex_flow": null,
            "width": null,
            "min_width": null,
            "border": null,
            "align_items": null,
            "bottom": null,
            "_model_module": "@jupyter-widgets/base",
            "top": null,
            "grid_column": null,
            "overflow_y": null,
            "overflow_x": null,
            "grid_auto_flow": null,
            "grid_area": null,
            "grid_template_columns": null,
            "flex": null,
            "_model_name": "LayoutModel",
            "justify_items": null,
            "grid_row": null,
            "max_height": null,
            "align_content": null,
            "visibility": null,
            "align_self": null,
            "height": null,
            "min_height": null,
            "padding": null,
            "grid_auto_rows": null,
            "grid_gap": null,
            "max_width": null,
            "order": null,
            "_view_module_version": "1.2.0",
            "grid_template_areas": null,
            "object_position": null,
            "object_fit": null,
            "grid_auto_columns": null,
            "margin": null,
            "display": null,
            "left": null
          }
        },
        "cdd470d2c0c4461e9468dd8849337f18": {
          "model_module": "@jupyter-widgets/controls",
          "model_name": "HBoxModel",
          "state": {
            "_view_name": "HBoxView",
            "_dom_classes": [],
            "_model_name": "HBoxModel",
            "_view_module": "@jupyter-widgets/controls",
            "_model_module_version": "1.5.0",
            "_view_count": null,
            "_view_module_version": "1.5.0",
            "box_style": "",
            "layout": "IPY_MODEL_e9b8f6fdedd24db39755c541a206f8b2",
            "_model_module": "@jupyter-widgets/controls",
            "children": [
              "IPY_MODEL_303a5e4cb42443a887e77b76e97b4530",
              "IPY_MODEL_eb85082a153648078a9e3a3dd4126b91"
            ]
          }
        },
        "e9b8f6fdedd24db39755c541a206f8b2": {
          "model_module": "@jupyter-widgets/base",
          "model_name": "LayoutModel",
          "state": {
            "_view_name": "LayoutView",
            "grid_template_rows": null,
            "right": null,
            "justify_content": null,
            "_view_module": "@jupyter-widgets/base",
            "overflow": null,
            "_model_module_version": "1.2.0",
            "_view_count": null,
            "flex_flow": null,
            "width": null,
            "min_width": null,
            "border": null,
            "align_items": null,
            "bottom": null,
            "_model_module": "@jupyter-widgets/base",
            "top": null,
            "grid_column": null,
            "overflow_y": null,
            "overflow_x": null,
            "grid_auto_flow": null,
            "grid_area": null,
            "grid_template_columns": null,
            "flex": null,
            "_model_name": "LayoutModel",
            "justify_items": null,
            "grid_row": null,
            "max_height": null,
            "align_content": null,
            "visibility": null,
            "align_self": null,
            "height": null,
            "min_height": null,
            "padding": null,
            "grid_auto_rows": null,
            "grid_gap": null,
            "max_width": null,
            "order": null,
            "_view_module_version": "1.2.0",
            "grid_template_areas": null,
            "object_position": null,
            "object_fit": null,
            "grid_auto_columns": null,
            "margin": null,
            "display": null,
            "left": null
          }
        },
        "303a5e4cb42443a887e77b76e97b4530": {
          "model_module": "@jupyter-widgets/controls",
          "model_name": "FloatProgressModel",
          "state": {
            "_view_name": "ProgressView",
            "style": "IPY_MODEL_36aad68282114103b7e0543ce7d682ac",
            "_dom_classes": [],
            "description": "",
            "_model_name": "FloatProgressModel",
            "bar_style": "success",
            "max": 1,
            "_view_module": "@jupyter-widgets/controls",
            "_model_module_version": "1.5.0",
            "value": 1,
            "_view_count": null,
            "_view_module_version": "1.5.0",
            "orientation": "horizontal",
            "min": 0,
            "description_tooltip": null,
            "_model_module": "@jupyter-widgets/controls",
            "layout": "IPY_MODEL_b1e04a16a7324535853867d5f59f79d8"
          }
        },
        "eb85082a153648078a9e3a3dd4126b91": {
          "model_module": "@jupyter-widgets/controls",
          "model_name": "HTMLModel",
          "state": {
            "_view_name": "HTMLView",
            "style": "IPY_MODEL_7101bb88368d4f2e92df17c6c7120d2c",
            "_dom_classes": [],
            "description": "",
            "_model_name": "HTMLModel",
            "placeholder": "​",
            "_view_module": "@jupyter-widgets/controls",
            "_model_module_version": "1.5.0",
            "value": " 8192/? [00:00&lt;00:00, 49440.89it/s]",
            "_view_count": null,
            "_view_module_version": "1.5.0",
            "description_tooltip": null,
            "_model_module": "@jupyter-widgets/controls",
            "layout": "IPY_MODEL_f84200e0805b47e1b1b4438d76842f69"
          }
        },
        "36aad68282114103b7e0543ce7d682ac": {
          "model_module": "@jupyter-widgets/controls",
          "model_name": "ProgressStyleModel",
          "state": {
            "_view_name": "StyleView",
            "_model_name": "ProgressStyleModel",
            "description_width": "initial",
            "_view_module": "@jupyter-widgets/base",
            "_model_module_version": "1.5.0",
            "_view_count": null,
            "_view_module_version": "1.2.0",
            "bar_color": null,
            "_model_module": "@jupyter-widgets/controls"
          }
        },
        "b1e04a16a7324535853867d5f59f79d8": {
          "model_module": "@jupyter-widgets/base",
          "model_name": "LayoutModel",
          "state": {
            "_view_name": "LayoutView",
            "grid_template_rows": null,
            "right": null,
            "justify_content": null,
            "_view_module": "@jupyter-widgets/base",
            "overflow": null,
            "_model_module_version": "1.2.0",
            "_view_count": null,
            "flex_flow": null,
            "width": null,
            "min_width": null,
            "border": null,
            "align_items": null,
            "bottom": null,
            "_model_module": "@jupyter-widgets/base",
            "top": null,
            "grid_column": null,
            "overflow_y": null,
            "overflow_x": null,
            "grid_auto_flow": null,
            "grid_area": null,
            "grid_template_columns": null,
            "flex": null,
            "_model_name": "LayoutModel",
            "justify_items": null,
            "grid_row": null,
            "max_height": null,
            "align_content": null,
            "visibility": null,
            "align_self": null,
            "height": null,
            "min_height": null,
            "padding": null,
            "grid_auto_rows": null,
            "grid_gap": null,
            "max_width": null,
            "order": null,
            "_view_module_version": "1.2.0",
            "grid_template_areas": null,
            "object_position": null,
            "object_fit": null,
            "grid_auto_columns": null,
            "margin": null,
            "display": null,
            "left": null
          }
        },
        "7101bb88368d4f2e92df17c6c7120d2c": {
          "model_module": "@jupyter-widgets/controls",
          "model_name": "DescriptionStyleModel",
          "state": {
            "_view_name": "StyleView",
            "_model_name": "DescriptionStyleModel",
            "description_width": "",
            "_view_module": "@jupyter-widgets/base",
            "_model_module_version": "1.5.0",
            "_view_count": null,
            "_view_module_version": "1.2.0",
            "_model_module": "@jupyter-widgets/controls"
          }
        },
        "f84200e0805b47e1b1b4438d76842f69": {
          "model_module": "@jupyter-widgets/base",
          "model_name": "LayoutModel",
          "state": {
            "_view_name": "LayoutView",
            "grid_template_rows": null,
            "right": null,
            "justify_content": null,
            "_view_module": "@jupyter-widgets/base",
            "overflow": null,
            "_model_module_version": "1.2.0",
            "_view_count": null,
            "flex_flow": null,
            "width": null,
            "min_width": null,
            "border": null,
            "align_items": null,
            "bottom": null,
            "_model_module": "@jupyter-widgets/base",
            "top": null,
            "grid_column": null,
            "overflow_y": null,
            "overflow_x": null,
            "grid_auto_flow": null,
            "grid_area": null,
            "grid_template_columns": null,
            "flex": null,
            "_model_name": "LayoutModel",
            "justify_items": null,
            "grid_row": null,
            "max_height": null,
            "align_content": null,
            "visibility": null,
            "align_self": null,
            "height": null,
            "min_height": null,
            "padding": null,
            "grid_auto_rows": null,
            "grid_gap": null,
            "max_width": null,
            "order": null,
            "_view_module_version": "1.2.0",
            "grid_template_areas": null,
            "object_position": null,
            "object_fit": null,
            "grid_auto_columns": null,
            "margin": null,
            "display": null,
            "left": null
          }
        }
      }
    }
  },
  "cells": [
    {
      "cell_type": "code",
      "metadata": {
        "id": "qyNi7rEm1oJb",
        "colab_type": "code",
        "colab": {}
      },
      "source": [
        "import os\n",
        "import copy\n",
        "import torch\n",
        "import torchvision\n",
        "import torchvision.transforms as transforms\n",
        "import matplotlib.pyplot as plt\n",
        "import numpy as np\n",
        "import torch.nn as nn\n",
        "import torch.nn.functional as F\n",
        "import torch.optim as optim\n",
        "from torch.utils.data import random_split, ConcatDataset\n",
        "from torch.utils.data import TensorDataset, DataLoader\n",
        "from sklearn.metrics import accuracy_score, recall_score, precision_score\n",
        "\n",
        "mode = ''\n",
        "# mode = 'DEBUG'"
      ],
      "execution_count": 1,
      "outputs": []
    },
    {
      "cell_type": "markdown",
      "metadata": {
        "id": "cfWMrKS38vnk",
        "colab_type": "text"
      },
      "source": [
        "# CNN "
      ]
    },
    {
      "cell_type": "code",
      "metadata": {
        "id": "OuHwUz3N25s2",
        "colab_type": "code",
        "colab": {}
      },
      "source": [
        "class ResBlock(nn.Module):\n",
        "\n",
        "  def __init__(self, channels, filters):\n",
        "\n",
        "    super(ResBlock, self).__init__()\n",
        "\n",
        "    self.res = nn.Sequential(\n",
        "      nn.BatchNorm2d(channels),\n",
        "      nn.ReLU(),\n",
        "      nn.Conv2d(channels, filters, kernel_size=(3,3), stride=1, padding=1),\n",
        "      nn.BatchNorm2d(filters),\n",
        "      nn.ReLU(),\n",
        "      nn.Conv2d(filters, filters, kernel_size=(3,3), stride=1, padding=1),\n",
        "      nn.Conv2d(filters, filters, kernel_size=(1, 1), stride=1)\n",
        "    )\n",
        "\n",
        "    self.conv = nn.Conv2d(channels, filters, kernel_size=(3,3), stride=1, padding=1)\n",
        "\n",
        "    self.res.apply(self._init_weights)\n",
        "    torch.nn.init.xavier_normal_(self.conv.weight)\n",
        "\n",
        "  def forward(self, x):\n",
        "    return self.res(x) + self.conv(x)\n",
        "\n",
        "  def _init_weights(self, m):\n",
        "    if type(m) == nn.Conv2d:\n",
        "      torch.nn.init.xavier_normal_(m.weight)\n",
        "\n",
        "class Net(nn.Module):\n",
        "  \n",
        "  def __init__(self, num_classes):\n",
        "    super(Net, self).__init__()\n",
        "    self.resBlock1 = ResBlock(3, 8)\n",
        "    self.dropout1 = nn.Dropout2d()\n",
        "    self.resBlock2 = ResBlock(8, 16)\n",
        "    self.dropout2 = nn.Dropout2d()\n",
        "    self.resBlock3 = ResBlock(16, 32)\n",
        "    self.dropout3 = nn.Dropout2d()\n",
        "    self.resBlock4 = ResBlock(32, 64)\n",
        "    self.dropout4 = nn.Dropout2d()\n",
        "    self.classifier = nn.Sequential(\n",
        "      nn.ReLU(),\n",
        "      nn.Flatten(),\n",
        "      nn.Linear(64*32*32, 16*8*8),\n",
        "      nn.ReLU(),\n",
        "      nn.Linear(16*8*8, 10)\n",
        "    )\n",
        "    self.classifier.apply(self._init_weights)\n",
        "\n",
        "  def forward(self, x):\n",
        "    x = self.resBlock1(x)\n",
        "    x = self.dropout1(x)\n",
        "    x = self.resBlock2(x)\n",
        "    x = self.dropout2(x)\n",
        "    x = self.resBlock3(x)\n",
        "    x = self.dropout3(x)\n",
        "    x = self.resBlock4(x)\n",
        "    x = self.dropout4(x)\n",
        "    \n",
        "    x = self.classifier(x)\n",
        "    return x\n",
        "\n",
        "  def _init_weights(self, m):\n",
        "    if type(m) == nn.Linear:\n",
        "      torch.nn.init.xavier_normal_(m.weight)\n"
      ],
      "execution_count": 2,
      "outputs": []
    },
    {
      "cell_type": "markdown",
      "metadata": {
        "id": "e-JqMyuS9HW2",
        "colab_type": "text"
      },
      "source": [
        "# CIFAR 10"
      ]
    },
    {
      "cell_type": "code",
      "metadata": {
        "id": "vqjjdPUq8_-B",
        "colab_type": "code",
        "colab": {
          "base_uri": "https://localhost:8080/",
          "height": 101,
          "referenced_widgets": [
            "fdd4ede286c9452ea9a8588a530e4931",
            "18e450577f9f4b3ab7e87f967a4e68b3",
            "aa7a024fd94b4bf7b66d6a9d5a032424",
            "e6b4300a23044f85a6590436c1c7c0fd",
            "b71de08890a04316935332ddaaf4abbf",
            "be5c5c592c8645a6a0216b7f5a0f6c7e",
            "e885093f3d6f46cd884567178ab99cb0",
            "dd2fe63ec7574736b445c4fec64e6501"
          ]
        },
        "outputId": "17999480-3c1c-4d51-a8f2-dda1e2aa262c"
      },
      "source": [
        "batch_size = 32\n",
        "\n",
        "# Image transform pipleline\n",
        "transform = transforms.Compose(\n",
        "    [transforms.ToTensor(),\n",
        "     transforms.Normalize((0.5, 0.5, 0.5), (0.5, 0.5, 0.5))])\n",
        "\n",
        "\n",
        "trainset = torchvision.datasets.CIFAR10(\n",
        "    './data', train=True, download=True, transform=transform)\n",
        "testset = torchvision.datasets.CIFAR10(\n",
        "    './data', train=False, download=True, transform=transform)\n",
        "trainloader = torch.utils.data.DataLoader(\n",
        "    trainset, batch_size=batch_size, shuffle=True, num_workers=2)\n",
        "testloader = torch.utils.data.DataLoader(\n",
        "    testset, batch_size=batch_size, shuffle=True, num_workers=2)\n",
        "classes = (\n",
        "    'plane', 'car', 'bird', 'cat','deer', \n",
        "    'dog', 'frog', 'horse', 'ship', 'truck')"
      ],
      "execution_count": 3,
      "outputs": [
        {
          "output_type": "stream",
          "text": [
            "Downloading https://www.cs.toronto.edu/~kriz/cifar-10-python.tar.gz to ./data/cifar-10-python.tar.gz\n"
          ],
          "name": "stdout"
        },
        {
          "output_type": "display_data",
          "data": {
            "application/vnd.jupyter.widget-view+json": {
              "model_id": "fdd4ede286c9452ea9a8588a530e4931",
              "version_minor": 0,
              "version_major": 2
            },
            "text/plain": [
              "HBox(children=(FloatProgress(value=1.0, bar_style='info', max=1.0), HTML(value='')))"
            ]
          },
          "metadata": {
            "tags": []
          }
        },
        {
          "output_type": "stream",
          "text": [
            "Extracting ./data/cifar-10-python.tar.gz to ./data\n",
            "Files already downloaded and verified\n"
          ],
          "name": "stdout"
        }
      ]
    },
    {
      "cell_type": "code",
      "metadata": {
        "id": "HhmyQCrZ_D-2",
        "colab_type": "code",
        "colab": {}
      },
      "source": [
        "Cifar10CNN = Net(len(classes)).cuda()\n",
        "criterion = nn.CrossEntropyLoss()\n",
        "optimizer = optim.Adam(Cifar10CNN.parameters(), lr=0.001)\n",
        "scheduler = optim.lr_scheduler.StepLR(optimizer, 2000)"
      ],
      "execution_count": 4,
      "outputs": []
    },
    {
      "cell_type": "code",
      "metadata": {
        "id": "MiT5aKVx_pix",
        "colab_type": "code",
        "colab": {}
      },
      "source": [
        "epoch = 7\n",
        "valid_step = 200\n",
        "if mode == 'DEBUG':\n",
        "  valid_step = 5\n",
        "  epoch = 1\n",
        "\n",
        "def train(net, epoch, valid_step, \n",
        "          optimizer, scheduler, criterion, \n",
        "          trainloader, testloader):\n",
        "\n",
        "  best_model = {}\n",
        "  best_model['net'] = None\n",
        "  best_model['valid_loss'] = 1e10\n",
        "  best_model['precision'] = .0\n",
        "  best_model['accuracy'] = .0\n",
        "  best_model['recall'] = .0\n",
        "\n",
        "  for e in range(epoch):\n",
        "\n",
        "    training_loss = .0\n",
        "    net.train()\n",
        "\n",
        "    for i, data in enumerate(trainloader):\n",
        "\n",
        "      inputs, labels = data\n",
        "      inputs = inputs.cuda()\n",
        "      labels = labels.cuda()\n",
        "      optimizer.zero_grad()\n",
        "      outputs = net(inputs)\n",
        "      loss = criterion(outputs, labels)\n",
        "      loss.backward()\n",
        "      optimizer.step()\n",
        "      scheduler.step()\n",
        "      training_loss += loss.item()\n",
        "\n",
        "      if i % valid_step == 0:\n",
        "        acc, r, p, valid_loss = test(net, criterion, testloader)\n",
        "        print('Epoch %d Iteration %d: train loss: %f, valid loss: %f, accuracy: %f, recall: %f, precision: %f' % (\n",
        "          e+1, i, training_loss / (i+1), valid_loss, acc, r, p))\n",
        "        \n",
        "        if valid_loss < best_model['valid_loss']:\n",
        "          best_model['net'] = copy.deepcopy(net)\n",
        "          best_model['valid_loss'] = valid_loss\n",
        "          best_model['precision'] = p\n",
        "          best_model['accuracy'] = acc\n",
        "          best_model['recall'] = r\n",
        "\n",
        "      if mode == 'DEBUG':\n",
        "        break\n",
        "\n",
        "  return best_model\n",
        "\n",
        "      \n",
        "def test(net, criterion, testloader):\n",
        "\n",
        "  net.eval()\n",
        "  valid_loss = .0\n",
        "  pred_lbls = []\n",
        "  true_lbls = []\n",
        "\n",
        "  with torch.no_grad():\n",
        "    for data in testloader:\n",
        "      inputs, labels = data\n",
        "      inputs = inputs.cuda()\n",
        "      labels = labels.cuda()\n",
        "      outputs = net(inputs)\n",
        "      loss = criterion(outputs, labels)\n",
        "      valid_loss += loss.item()\n",
        "      _, pred = torch.max(outputs, 1)\n",
        "      pred_lbls.extend(pred.cpu().tolist())\n",
        "      true_lbls.extend(labels.cpu().tolist())\n",
        "    \n",
        "  acc = accuracy_score(true_lbls, pred_lbls)\n",
        "  r = recall_score(true_lbls, pred_lbls, average='macro') \n",
        "  p = precision_score(true_lbls, pred_lbls, average='macro')\n",
        "  valid_loss /= len(testloader)\n",
        "\n",
        "  return acc, r, p, valid_loss\n"
      ],
      "execution_count": 5,
      "outputs": []
    },
    {
      "cell_type": "code",
      "metadata": {
        "id": "FUTWF-JZFPSa",
        "colab_type": "code",
        "colab": {
          "base_uri": "https://localhost:8080/",
          "height": 1000
        },
        "outputId": "c48495a4-9291-4546-b332-473b27c66f09"
      },
      "source": [
        "best_state = train(\n",
        "    Cifar10CNN, epoch, valid_step, \n",
        "    optimizer, scheduler, criterion, trainloader, testloader)"
      ],
      "execution_count": 6,
      "outputs": [
        {
          "output_type": "stream",
          "text": [
            "/usr/local/lib/python3.6/dist-packages/sklearn/metrics/_classification.py:1272: UndefinedMetricWarning: Precision is ill-defined and being set to 0.0 in labels with no predicted samples. Use `zero_division` parameter to control this behavior.\n",
            "  _warn_prf(average, modifier, msg_start, len(result))\n"
          ],
          "name": "stderr"
        },
        {
          "output_type": "stream",
          "text": [
            "Epoch 1 Iteration 0: train loss: 3.761257, valid loss: 27.878350, accuracy: 0.100000, recall: 0.100000, precision: 0.010000\n",
            "Epoch 1 Iteration 200: train loss: 2.658380, valid loss: 2.130285, accuracy: 0.205900, recall: 0.205900, precision: 0.303680\n",
            "Epoch 1 Iteration 400: train loss: 2.358120, valid loss: 1.981642, accuracy: 0.269500, recall: 0.269500, precision: 0.312154\n",
            "Epoch 1 Iteration 600: train loss: 2.168657, valid loss: 1.619335, accuracy: 0.410700, recall: 0.410700, precision: 0.428543\n",
            "Epoch 1 Iteration 800: train loss: 2.011386, valid loss: 1.497106, accuracy: 0.453400, recall: 0.453400, precision: 0.481832\n",
            "Epoch 1 Iteration 1000: train loss: 1.899818, valid loss: 1.422163, accuracy: 0.488600, recall: 0.488600, precision: 0.543358\n",
            "Epoch 1 Iteration 1200: train loss: 1.804211, valid loss: 1.269380, accuracy: 0.533400, recall: 0.533400, precision: 0.558496\n",
            "Epoch 1 Iteration 1400: train loss: 1.727541, valid loss: 1.191579, accuracy: 0.574800, recall: 0.574800, precision: 0.582956\n",
            "Epoch 2 Iteration 0: train loss: 17.415367, valid loss: 1.205138, accuracy: 0.563700, recall: 0.563700, precision: 0.571814\n",
            "Epoch 2 Iteration 200: train loss: 1.169040, valid loss: 1.233854, accuracy: 0.569500, recall: 0.569500, precision: 0.578655\n",
            "Epoch 2 Iteration 400: train loss: 1.087315, valid loss: 1.090462, accuracy: 0.617300, recall: 0.617300, precision: 0.619741\n",
            "Epoch 2 Iteration 600: train loss: 1.024797, valid loss: 1.031305, accuracy: 0.641600, recall: 0.641600, precision: 0.642880\n",
            "Epoch 2 Iteration 800: train loss: 0.981167, valid loss: 1.009406, accuracy: 0.649000, recall: 0.649000, precision: 0.650686\n",
            "Epoch 2 Iteration 1000: train loss: 0.958460, valid loss: 0.993033, accuracy: 0.654600, recall: 0.654600, precision: 0.656414\n",
            "Epoch 2 Iteration 1200: train loss: 0.938296, valid loss: 0.982894, accuracy: 0.660000, recall: 0.660000, precision: 0.661095\n",
            "Epoch 2 Iteration 1400: train loss: 0.921893, valid loss: 0.971768, accuracy: 0.663700, recall: 0.663700, precision: 0.663046\n",
            "Epoch 3 Iteration 0: train loss: 120.289055, valid loss: 1.701810, accuracy: 0.494200, recall: 0.494200, precision: 0.574561\n",
            "Epoch 3 Iteration 200: train loss: 1.264578, valid loss: 1.022439, accuracy: 0.661400, recall: 0.661400, precision: 0.660991\n",
            "Epoch 3 Iteration 400: train loss: 0.920037, valid loss: 1.019808, accuracy: 0.659400, recall: 0.659400, precision: 0.660867\n",
            "Epoch 3 Iteration 600: train loss: 0.801984, valid loss: 1.003495, accuracy: 0.663600, recall: 0.663600, precision: 0.660916\n",
            "Epoch 3 Iteration 800: train loss: 0.742496, valid loss: 0.990405, accuracy: 0.669100, recall: 0.669100, precision: 0.669324\n",
            "Epoch 3 Iteration 1000: train loss: 0.702922, valid loss: 0.995589, accuracy: 0.670600, recall: 0.670600, precision: 0.669047\n",
            "Epoch 3 Iteration 1200: train loss: 0.672607, valid loss: 0.993867, accuracy: 0.671200, recall: 0.671200, precision: 0.669360\n",
            "Epoch 3 Iteration 1400: train loss: 0.650240, valid loss: 0.994459, accuracy: 0.672700, recall: 0.672700, precision: 0.670429\n",
            "Epoch 4 Iteration 0: train loss: 72.065269, valid loss: 1.171239, accuracy: 0.608000, recall: 0.608000, precision: 0.630054\n",
            "Epoch 4 Iteration 200: train loss: 0.952767, valid loss: 1.056077, accuracy: 0.651800, recall: 0.651800, precision: 0.650600\n",
            "Epoch 4 Iteration 400: train loss: 0.718966, valid loss: 1.060645, accuracy: 0.659200, recall: 0.659200, precision: 0.657925\n",
            "Epoch 4 Iteration 600: train loss: 0.629247, valid loss: 1.054407, accuracy: 0.663600, recall: 0.663600, precision: 0.662972\n",
            "Epoch 4 Iteration 800: train loss: 0.584332, valid loss: 1.049250, accuracy: 0.667000, recall: 0.667000, precision: 0.665722\n",
            "Epoch 4 Iteration 1000: train loss: 0.553395, valid loss: 1.051360, accuracy: 0.668500, recall: 0.668500, precision: 0.667303\n",
            "Epoch 4 Iteration 1200: train loss: 0.531190, valid loss: 1.052523, accuracy: 0.669300, recall: 0.669300, precision: 0.668216\n",
            "Epoch 4 Iteration 1400: train loss: 0.516767, valid loss: 1.051681, accuracy: 0.669000, recall: 0.669000, precision: 0.667334\n",
            "Epoch 5 Iteration 0: train loss: 61.159470, valid loss: 1.203268, accuracy: 0.621400, recall: 0.621400, precision: 0.638003\n",
            "Epoch 5 Iteration 200: train loss: 0.931343, valid loss: 1.154188, accuracy: 0.632600, recall: 0.632600, precision: 0.639614\n",
            "Epoch 5 Iteration 400: train loss: 0.749301, valid loss: 1.134355, accuracy: 0.638200, recall: 0.638200, precision: 0.640972\n",
            "Epoch 5 Iteration 600: train loss: 0.688714, valid loss: 1.120845, accuracy: 0.643300, recall: 0.643300, precision: 0.643928\n",
            "Epoch 5 Iteration 800: train loss: 0.654389, valid loss: 1.113523, accuracy: 0.645200, recall: 0.645200, precision: 0.644519\n",
            "Epoch 5 Iteration 1000: train loss: 0.626948, valid loss: 1.109472, accuracy: 0.646300, recall: 0.646300, precision: 0.645415\n",
            "Epoch 5 Iteration 1200: train loss: 0.603983, valid loss: 1.106997, accuracy: 0.648400, recall: 0.648400, precision: 0.647879\n",
            "Epoch 5 Iteration 1400: train loss: 0.584438, valid loss: 1.108033, accuracy: 0.651600, recall: 0.651600, precision: 0.650944\n",
            "Epoch 6 Iteration 0: train loss: 58.799057, valid loss: 1.271087, accuracy: 0.591700, recall: 0.591700, precision: 0.615229\n",
            "Epoch 6 Iteration 200: train loss: 1.052584, valid loss: 1.211813, accuracy: 0.607100, recall: 0.607100, precision: 0.616101\n",
            "Epoch 6 Iteration 400: train loss: 0.878416, valid loss: 1.209104, accuracy: 0.609000, recall: 0.609000, precision: 0.617472\n",
            "Epoch 6 Iteration 600: train loss: 0.820768, valid loss: 1.207103, accuracy: 0.610000, recall: 0.610000, precision: 0.617698\n",
            "Epoch 6 Iteration 800: train loss: 0.780587, valid loss: 1.204611, accuracy: 0.611500, recall: 0.611500, precision: 0.618744\n",
            "Epoch 6 Iteration 1000: train loss: 0.759997, valid loss: 1.202909, accuracy: 0.613300, recall: 0.613300, precision: 0.620007\n",
            "Epoch 6 Iteration 1200: train loss: 0.751626, valid loss: 1.199419, accuracy: 0.614200, recall: 0.614200, precision: 0.620410\n",
            "Epoch 6 Iteration 1400: train loss: 0.741585, valid loss: 1.197217, accuracy: 0.615400, recall: 0.615400, precision: 0.620913\n",
            "Epoch 7 Iteration 0: train loss: 74.486237, valid loss: 1.468218, accuracy: 0.519800, recall: 0.519800, precision: 0.571900\n",
            "Epoch 7 Iteration 200: train loss: 1.420060, valid loss: 1.448697, accuracy: 0.524800, recall: 0.524800, precision: 0.571576\n",
            "Epoch 7 Iteration 400: train loss: 1.235488, valid loss: 1.433465, accuracy: 0.531100, recall: 0.531100, precision: 0.573534\n",
            "Epoch 7 Iteration 600: train loss: 1.163485, valid loss: 1.421954, accuracy: 0.534700, recall: 0.534700, precision: 0.573881\n",
            "Epoch 7 Iteration 800: train loss: 1.134787, valid loss: 1.417880, accuracy: 0.535500, recall: 0.535500, precision: 0.573971\n",
            "Epoch 7 Iteration 1000: train loss: 1.114587, valid loss: 1.418417, accuracy: 0.535900, recall: 0.535900, precision: 0.573993\n",
            "Epoch 7 Iteration 1200: train loss: 1.099460, valid loss: 1.418162, accuracy: 0.536300, recall: 0.536300, precision: 0.574090\n",
            "Epoch 7 Iteration 1400: train loss: 1.090978, valid loss: 1.417472, accuracy: 0.536700, recall: 0.536700, precision: 0.574051\n"
          ],
          "name": "stdout"
        }
      ]
    },
    {
      "cell_type": "code",
      "metadata": {
        "id": "uAaCgHfRZuPr",
        "colab_type": "code",
        "colab": {
          "base_uri": "https://localhost:8080/",
          "height": 104
        },
        "outputId": "3ead62f3-91ed-4eb4-8b9b-e543ac8d3345"
      },
      "source": [
        "print('Best result:')\n",
        "print('Valid Loss:', best_state['valid_loss'])\n",
        "print('Valid Accuracy:', best_state['accuracy'])\n",
        "print('Precision:', best_state['precision'])\n",
        "print('Recall:', best_state['recall'])"
      ],
      "execution_count": 7,
      "outputs": [
        {
          "output_type": "stream",
          "text": [
            "Best result:\n",
            "Valid Loss: 0.9717682188692184\n",
            "Valid Accuracy: 0.6637\n",
            "Precision: 0.6630463214603977\n",
            "Recall: 0.6637\n"
          ],
          "name": "stdout"
        }
      ]
    },
    {
      "cell_type": "code",
      "metadata": {
        "id": "zNxDI4RSFY75",
        "colab_type": "code",
        "colab": {}
      },
      "source": [
        "def model_inversion(net, label_index, alpha, beta, gamma, lam, img_size):\n",
        "\n",
        "  def cost_fuction(x):\n",
        "    y = F.softmax(net(x))\n",
        "    return 1 - y[0][label_index]\n",
        "\n",
        "  x = torch.zeros(img_size).cuda()\n",
        "  x.unsqueeze_(0)\n",
        "  x.requires_grad = True\n",
        "  net.eval()\n",
        "  prev_losses = torch.empty((beta)).fill_(beta)\n",
        "\n",
        "  min_x = None\n",
        "  min_loss = 1e6\n",
        "  \n",
        "  for i in range(alpha):\n",
        "\n",
        "    loss = cost_fuction(x)\n",
        "    net.zero_grad()\n",
        "    loss.backward()\n",
        "    x.data = x - lam * x.grad.data\n",
        "    x.grad.zero_()\n",
        "    loss = loss.item()\n",
        "    if min_loss > loss:\n",
        "      min_loss = loss\n",
        "      min_x = x.data\n",
        "\n",
        "    if i % 500 == 0:\n",
        "      print('Loss:', loss)\n",
        "    if loss > torch.max(prev_losses):\n",
        "      print('No more update')\n",
        "      break\n",
        "    if loss < gamma:\n",
        "      print('Reach the min value; Loss is: ', loss)\n",
        "      break\n",
        "    # Assign prev loss\n",
        "    pi = i % beta\n",
        "    prev_losses[pi] = loss\n",
        "  \n",
        "  return min_x, min_loss\n",
        "  "
      ],
      "execution_count": 8,
      "outputs": []
    },
    {
      "cell_type": "markdown",
      "metadata": {
        "id": "X0KDzhRl7DIt",
        "colab_type": "text"
      },
      "source": [
        "Let's invert cat"
      ]
    },
    {
      "cell_type": "code",
      "metadata": {
        "id": "-11bXm6_Go-G",
        "colab_type": "code",
        "colab": {
          "base_uri": "https://localhost:8080/",
          "height": 245
        },
        "outputId": "196cc55e-2273-4303-d1d8-1a44cc2751ec"
      },
      "source": [
        "image_size = (3, 32, 32)\n",
        "alpha = 5000\n",
        "beta = 1000\n",
        "gamma = 0.0001\n",
        "lam = 0.1\n",
        "if mode == 'DEBUG':\n",
        "  alpha = 10\n",
        "  beta = 10\n",
        "  gamma = 0.01\n",
        "  lam = 100\n",
        "\n",
        "label_index = classes.index('cat')\n",
        "img, min_loss = model_inversion(\n",
        "    best_state['net'], label_index, alpha, beta, gamma, lam, image_size)"
      ],
      "execution_count": 9,
      "outputs": [
        {
          "output_type": "stream",
          "text": [
            "Loss: 0.9703865647315979\n"
          ],
          "name": "stdout"
        },
        {
          "output_type": "stream",
          "text": [
            "/usr/local/lib/python3.6/dist-packages/ipykernel_launcher.py:4: UserWarning: Implicit dimension choice for softmax has been deprecated. Change the call to include dim=X as an argument.\n",
            "  after removing the cwd from sys.path.\n"
          ],
          "name": "stderr"
        },
        {
          "output_type": "stream",
          "text": [
            "Loss: 0.0064765214920043945\n",
            "Loss: 0.002764284610748291\n",
            "Loss: 0.0017971992492675781\n",
            "Loss: 0.0013495087623596191\n",
            "Loss: 0.0010870695114135742\n",
            "Loss: 0.0009136199951171875\n",
            "Loss: 0.0007907748222351074\n",
            "Loss: 0.0006902217864990234\n",
            "Loss: 0.0006066560745239258\n"
          ],
          "name": "stdout"
        }
      ]
    },
    {
      "cell_type": "code",
      "metadata": {
        "id": "H6qFK93vSB2F",
        "colab_type": "code",
        "colab": {
          "base_uri": "https://localhost:8080/",
          "height": 234
        },
        "outputId": "26e13637-ef21-495c-b2e4-044cf5b1ca90"
      },
      "source": [
        "img = img.squeeze()\n",
        "\n",
        "restore = transforms.Compose(\n",
        "    [transforms.ToPILImage(),\n",
        "     transforms.Resize((200, 200))])\n",
        "print('The minimum loss:', min_loss)\n",
        "restore(img.cpu())"
      ],
      "execution_count": 10,
      "outputs": [
        {
          "output_type": "stream",
          "text": [
            "The minimum loss: 0.0005411505699157715\n"
          ],
          "name": "stdout"
        },
        {
          "output_type": "execute_result",
          "data": {
            "image/png": "[encoded data removed]",
            "text/plain": [
              "<PIL.Image.Image image mode=RGB size=200x200 at 0x7FC14F5397B8>"
            ]
          },
          "metadata": {
            "tags": []
          },
          "execution_count": 10
        }
      ]
    },
    {
      "cell_type": "markdown",
      "metadata": {
        "id": "W5kbuKNu6-5F",
        "colab_type": "text"
      },
      "source": [
        "Let's invert plane"
      ]
    },
    {
      "cell_type": "code",
      "metadata": {
        "id": "g7QEC-10QY1N",
        "colab_type": "code",
        "colab": {
          "base_uri": "https://localhost:8080/",
          "height": 245
        },
        "outputId": "582ad967-1a7e-40f4-a2e0-e643010ea257"
      },
      "source": [
        "label_index = classes.index('plane')\n",
        "img, min_loss = model_inversion(\n",
        "    best_state['net'], label_index, alpha, beta, gamma, lam, image_size)"
      ],
      "execution_count": 11,
      "outputs": [
        {
          "output_type": "stream",
          "text": [
            "Loss: 0.758352518081665\n"
          ],
          "name": "stdout"
        },
        {
          "output_type": "stream",
          "text": [
            "/usr/local/lib/python3.6/dist-packages/ipykernel_launcher.py:4: UserWarning: Implicit dimension choice for softmax has been deprecated. Change the call to include dim=X as an argument.\n",
            "  after removing the cwd from sys.path.\n"
          ],
          "name": "stderr"
        },
        {
          "output_type": "stream",
          "text": [
            "Loss: 0.001981496810913086\n",
            "Loss: 0.0007460713386535645\n",
            "Loss: 0.00045931339263916016\n",
            "Loss: 0.00033855438232421875\n",
            "Loss: 0.00026923418045043945\n",
            "Loss: 0.00022143125534057617\n",
            "Loss: 0.00018864870071411133\n",
            "Loss: 0.00016546249389648438\n",
            "Loss: 0.00014770030975341797\n"
          ],
          "name": "stdout"
        }
      ]
    },
    {
      "cell_type": "code",
      "metadata": {
        "id": "o5wS-knbhaOD",
        "colab_type": "code",
        "colab": {
          "base_uri": "https://localhost:8080/",
          "height": 234
        },
        "outputId": "8842743c-585a-4c10-ad52-8a8413e51353"
      },
      "source": [
        "img = img.squeeze()\n",
        "\n",
        "restore = transforms.Compose(\n",
        "    [transforms.ToPILImage(),\n",
        "     transforms.Resize((200, 200))])\n",
        "print('The minimum loss:', min_loss)\n",
        "restore(img.cpu())"
      ],
      "execution_count": 12,
      "outputs": [
        {
          "output_type": "stream",
          "text": [
            "The minimum loss: 0.00013303756713867188\n"
          ],
          "name": "stdout"
        },
        {
          "output_type": "execute_result",
          "data": {
            "image/png": "[encoded data removed]",
            "text/plain": [
              "<PIL.Image.Image image mode=RGB size=200x200 at 0x7FC141C16080>"
            ]
          },
          "metadata": {
            "tags": []
          },
          "execution_count": 12
        }
      ]
    },
    {
      "cell_type": "markdown",
      "metadata": {
        "id": "ai3IJyegat4l",
        "colab_type": "text"
      },
      "source": [
        "## MNIST"
      ]
    },
    {
      "cell_type": "code",
      "metadata": {
        "id": "n6udpSi4SspL",
        "colab_type": "code",
        "colab": {}
      },
      "source": [
        "class NetBW(nn.Module):\n",
        "  \n",
        "  def __init__(self, num_classes):\n",
        "    super(NetBW, self).__init__()\n",
        "    self.resBlock1 = ResBlock(1, 8)\n",
        "    self.dropout1 = nn.Dropout2d()\n",
        "    self.resBlock2 = ResBlock(8, 16)\n",
        "    self.dropout2 = nn.Dropout2d()\n",
        "    self.resBlock3 = ResBlock(16, 32)\n",
        "    self.dropout3 = nn.Dropout2d()\n",
        "    self.resBlock4 = ResBlock(32, 64)\n",
        "    self.dropout4 = nn.Dropout2d()\n",
        "    self.classifier = nn.Sequential(\n",
        "      nn.ReLU(),\n",
        "      nn.Flatten(),\n",
        "      nn.Linear(64*28*28, 16*7*7),\n",
        "      nn.ReLU(),\n",
        "      nn.Linear(16*7*7, 10)\n",
        "    )\n",
        "    self.classifier.apply(self._init_weights)\n",
        "\n",
        "  def forward(self, x):\n",
        "    x = self.resBlock1(x)\n",
        "    x = self.dropout1(x)\n",
        "    x = self.resBlock2(x)\n",
        "    x = self.dropout2(x)\n",
        "    x = self.resBlock3(x)\n",
        "    x = self.dropout3(x)\n",
        "    x = self.resBlock4(x)\n",
        "    x = self.dropout4(x)\n",
        "    x = self.classifier(x)\n",
        "    return x\n",
        "\n",
        "  def _init_weights(self, m):\n",
        "    if type(m) == nn.Linear:\n",
        "      torch.nn.init.xavier_normal_(m.weight)\n"
      ],
      "execution_count": 13,
      "outputs": []
    },
    {
      "cell_type": "code",
      "metadata": {
        "id": "5coTT7qBa9GR",
        "colab_type": "code",
        "colab": {
          "base_uri": "https://localhost:8080/",
          "height": 391,
          "referenced_widgets": [
            "1289eccc6539407d8dc166d0699e64f2",
            "b72eaa0ebbbf42faa4550ad3571bbfe2",
            "476d5bec19ca41d792fe4cd629978cce",
            "d2b117a64ec748c9b4dd1f10010d7573",
            "2b8a959e3b8f466d929f617d7c1d1396",
            "a2ef19a481bb4315b47f6ae69d503943",
            "939f80e9c1c84de48996462446122c6e",
            "643e8d7dc2274adf9aaf42497863fa48",
            "aa382c26f1e44c3487ac8e77d62af032",
            "ea6cd2973ac0408a931a1e8b6a0145c0",
            "dd12abb9d21c45e7b5dbefeac5f812fc",
            "ce0e424a9ac94718ad5e2840dee8c12f",
            "dc65455793fb4dd488c7d3bd53ee465d",
            "ea5c046544cb432d9daf7e7f137a2bb2",
            "3da440b0221c4c7ea39f7b5a1de10344",
            "a5cb1f2d0ae848a3b313712d8c0746f8",
            "1ac01ad8bb6246c8b5f13db4016f0687",
            "4ac8f65480814c19924423b296eed92b",
            "a67f80d2800d4249a59632ae9f330b00",
            "8d44f1104bbf4f2ba8a10c645bc46bd0",
            "30657bfef4574e089608e2680fdc7d29",
            "9038addcdbda469e87863ca18c29b416",
            "bbeafe659e9943df93f2b7da7a7177c4",
            "d2543d66b92a4b5cbaea17b3b7d5ae4a",
            "246fa5c5e5c149ebb970e3b8f02292e3",
            "9c22b7937cbf451395eeddd28db95fde",
            "cc21d6a67fb242a8bcdd8c1619db755d",
            "3b9c29b3f7a04e2dac87bdd12ab91bb8",
            "470c72d9b3624930ae3436cb02169c4f",
            "6d63757280ca47e2acfe057b716410cd",
            "16e5a7ec708f4fb3b3968588b05ea836",
            "d95fc3c583b540a6ad034769bc069022"
          ]
        },
        "outputId": "c601cb9e-8964-48c4-afd7-26b1b4194ab3"
      },
      "source": [
        "bw_transform = transforms.Compose(\n",
        "    [transforms.ToTensor(),\n",
        "     transforms.Normalize((0.5), (0.5))])\n",
        "\n",
        "trainset = torchvision.datasets.MNIST(\n",
        "    './data', train=True, download=True, transform=bw_transform)\n",
        "testset = torchvision.datasets.MNIST(\n",
        "    './data', train=False, download=True, transform=bw_transform)\n",
        "trainloader = torch.utils.data.DataLoader(\n",
        "    trainset, batch_size=batch_size, shuffle=True, num_workers=2)\n",
        "testloader = torch.utils.data.DataLoader(\n",
        "    testset, batch_size=batch_size, shuffle=True, num_workers=2)"
      ],
      "execution_count": 14,
      "outputs": [
        {
          "output_type": "stream",
          "text": [
            "Downloading http://yann.lecun.com/exdb/mnist/train-images-idx3-ubyte.gz to ./data/MNIST/raw/train-images-idx3-ubyte.gz\n"
          ],
          "name": "stdout"
        },
        {
          "output_type": "display_data",
          "data": {
            "application/vnd.jupyter.widget-view+json": {
              "model_id": "1289eccc6539407d8dc166d0699e64f2",
              "version_minor": 0,
              "version_major": 2
            },
            "text/plain": [
              "HBox(children=(FloatProgress(value=1.0, bar_style='info', max=1.0), HTML(value='')))"
            ]
          },
          "metadata": {
            "tags": []
          }
        },
        {
          "output_type": "stream",
          "text": [
            "Extracting ./data/MNIST/raw/train-images-idx3-ubyte.gz to ./data/MNIST/raw\n",
            "Downloading http://yann.lecun.com/exdb/mnist/train-labels-idx1-ubyte.gz to ./data/MNIST/raw/train-labels-idx1-ubyte.gz\n"
          ],
          "name": "stdout"
        },
        {
          "output_type": "display_data",
          "data": {
            "application/vnd.jupyter.widget-view+json": {
              "model_id": "aa382c26f1e44c3487ac8e77d62af032",
              "version_minor": 0,
              "version_major": 2
            },
            "text/plain": [
              "HBox(children=(FloatProgress(value=1.0, bar_style='info', max=1.0), HTML(value='')))"
            ]
          },
          "metadata": {
            "tags": []
          }
        },
        {
          "output_type": "stream",
          "text": [
            "Extracting ./data/MNIST/raw/train-labels-idx1-ubyte.gz to ./data/MNIST/raw\n",
            "Downloading http://yann.lecun.com/exdb/mnist/t10k-images-idx3-ubyte.gz to ./data/MNIST/raw/t10k-images-idx3-ubyte.gz\n",
            "\n",
            "\n"
          ],
          "name": "stdout"
        },
        {
          "output_type": "display_data",
          "data": {
            "application/vnd.jupyter.widget-view+json": {
              "model_id": "1ac01ad8bb6246c8b5f13db4016f0687",
              "version_minor": 0,
              "version_major": 2
            },
            "text/plain": [
              "HBox(children=(FloatProgress(value=1.0, bar_style='info', max=1.0), HTML(value='')))"
            ]
          },
          "metadata": {
            "tags": []
          }
        },
        {
          "output_type": "stream",
          "text": [
            "Extracting ./data/MNIST/raw/t10k-images-idx3-ubyte.gz to ./data/MNIST/raw\n",
            "Downloading http://yann.lecun.com/exdb/mnist/t10k-labels-idx1-ubyte.gz to ./data/MNIST/raw/t10k-labels-idx1-ubyte.gz\n"
          ],
          "name": "stdout"
        },
        {
          "output_type": "display_data",
          "data": {
            "application/vnd.jupyter.widget-view+json": {
              "model_id": "246fa5c5e5c149ebb970e3b8f02292e3",
              "version_minor": 0,
              "version_major": 2
            },
            "text/plain": [
              "HBox(children=(FloatProgress(value=1.0, bar_style='info', max=1.0), HTML(value='')))"
            ]
          },
          "metadata": {
            "tags": []
          }
        },
        {
          "output_type": "stream",
          "text": [
            "Extracting ./data/MNIST/raw/t10k-labels-idx1-ubyte.gz to ./data/MNIST/raw\n",
            "Processing...\n",
            "Done!\n"
          ],
          "name": "stdout"
        },
        {
          "output_type": "stream",
          "text": [
            "/pytorch/torch/csrc/utils/tensor_numpy.cpp:141: UserWarning: The given NumPy array is not writeable, and PyTorch does not support non-writeable tensors. This means you can write to the underlying (supposedly non-writeable) NumPy array using the tensor. You may want to copy the array to protect its data or make it writeable before converting it to a tensor. This type of warning will be suppressed for the rest of this program.\n"
          ],
          "name": "stderr"
        }
      ]
    },
    {
      "cell_type": "code",
      "metadata": {
        "id": "zf4IEIg2b87E",
        "colab_type": "code",
        "colab": {}
      },
      "source": [
        "MNIST_CNN = NetBW(10).cuda()\n",
        "criterion = nn.CrossEntropyLoss()\n",
        "optimizer = optim.Adam(MNIST_CNN.parameters(), lr=0.001)\n",
        "scheduler = optim.lr_scheduler.StepLR(optimizer, 2000)"
      ],
      "execution_count": 15,
      "outputs": []
    },
    {
      "cell_type": "code",
      "metadata": {
        "id": "Voorimhnb1mF",
        "colab_type": "code",
        "colab": {
          "base_uri": "https://localhost:8080/",
          "height": 471
        },
        "outputId": "eb7264cc-15e9-4907-da7f-b7b5fd24b2ef"
      },
      "source": [
        "epoch = 2\n",
        "best_mnist_state = train(\n",
        "    MNIST_CNN, epoch, valid_step, \n",
        "    optimizer, scheduler, criterion, trainloader, testloader)"
      ],
      "execution_count": 16,
      "outputs": [
        {
          "output_type": "stream",
          "text": [
            "\n",
            "\n",
            "\n"
          ],
          "name": "stdout"
        },
        {
          "output_type": "stream",
          "text": [
            "/usr/local/lib/python3.6/dist-packages/sklearn/metrics/_classification.py:1272: UndefinedMetricWarning: Precision is ill-defined and being set to 0.0 in labels with no predicted samples. Use `zero_division` parameter to control this behavior.\n",
            "  _warn_prf(average, modifier, msg_start, len(result))\n"
          ],
          "name": "stderr"
        },
        {
          "output_type": "stream",
          "text": [
            "Epoch 1 Iteration 0: train loss: 4.241585, valid loss: 36.884598, accuracy: 0.095800, recall: 0.100000, precision: 0.009580\n",
            "Epoch 1 Iteration 200: train loss: 0.833216, valid loss: 0.173227, accuracy: 0.948200, recall: 0.948508, precision: 0.950064\n",
            "Epoch 1 Iteration 400: train loss: 0.486659, valid loss: 0.102245, accuracy: 0.967900, recall: 0.967875, precision: 0.967956\n",
            "Epoch 1 Iteration 600: train loss: 0.362227, valid loss: 0.075644, accuracy: 0.975000, recall: 0.974585, precision: 0.975257\n",
            "Epoch 1 Iteration 800: train loss: 0.292621, valid loss: 0.068045, accuracy: 0.980200, recall: 0.980280, precision: 0.980095\n",
            "Epoch 1 Iteration 1000: train loss: 0.249309, valid loss: 0.077471, accuracy: 0.975800, recall: 0.975641, precision: 0.976363\n",
            "Epoch 1 Iteration 1200: train loss: 0.221240, valid loss: 0.066535, accuracy: 0.980100, recall: 0.980254, precision: 0.979927\n",
            "Epoch 1 Iteration 1400: train loss: 0.198957, valid loss: 0.084787, accuracy: 0.973500, recall: 0.973450, precision: 0.973820\n",
            "Epoch 1 Iteration 1600: train loss: 0.182298, valid loss: 0.054295, accuracy: 0.982500, recall: 0.982494, precision: 0.982510\n",
            "Epoch 1 Iteration 1800: train loss: 0.168599, valid loss: 0.052389, accuracy: 0.982900, recall: 0.982811, precision: 0.983024\n",
            "Epoch 2 Iteration 0: train loss: 48.591087, valid loss: 0.071833, accuracy: 0.977500, recall: 0.977373, precision: 0.978176\n",
            "Epoch 2 Iteration 200: train loss: 0.363639, valid loss: 0.064741, accuracy: 0.979200, recall: 0.979098, precision: 0.979157\n",
            "Epoch 2 Iteration 400: train loss: 0.205100, valid loss: 0.050886, accuracy: 0.983500, recall: 0.983492, precision: 0.983396\n",
            "Epoch 2 Iteration 600: train loss: 0.150256, valid loss: 0.044331, accuracy: 0.985000, recall: 0.984965, precision: 0.984910\n",
            "Epoch 2 Iteration 800: train loss: 0.120668, valid loss: 0.040717, accuracy: 0.986500, recall: 0.986486, precision: 0.986389\n",
            "Epoch 2 Iteration 1000: train loss: 0.103195, valid loss: 0.038052, accuracy: 0.988000, recall: 0.987927, precision: 0.987889\n",
            "Epoch 2 Iteration 1200: train loss: 0.091219, valid loss: 0.036526, accuracy: 0.988200, recall: 0.988075, precision: 0.988199\n",
            "Epoch 2 Iteration 1400: train loss: 0.082072, valid loss: 0.034467, accuracy: 0.988200, recall: 0.988151, precision: 0.988182\n",
            "Epoch 2 Iteration 1600: train loss: 0.074921, valid loss: 0.034928, accuracy: 0.987800, recall: 0.987778, precision: 0.987695\n",
            "Epoch 2 Iteration 1800: train loss: 0.069561, valid loss: 0.034056, accuracy: 0.988300, recall: 0.988225, precision: 0.988228\n"
          ],
          "name": "stdout"
        }
      ]
    },
    {
      "cell_type": "code",
      "metadata": {
        "id": "_YS3NEe1jzzP",
        "colab_type": "code",
        "colab": {
          "base_uri": "https://localhost:8080/",
          "height": 104
        },
        "outputId": "1d9d93af-dae9-4f23-e746-adcb58c00f4a"
      },
      "source": [
        "print('Best result:')\n",
        "print('Valid Loss:', best_mnist_state['valid_loss'])\n",
        "print('Valid Accuracy:', best_mnist_state['accuracy'])\n",
        "print('Precision:', best_mnist_state['precision'])\n",
        "print('Recall:', best_mnist_state['recall'])"
      ],
      "execution_count": 17,
      "outputs": [
        {
          "output_type": "stream",
          "text": [
            "Best result:\n",
            "Valid Loss: 0.034056311788650366\n",
            "Valid Accuracy: 0.9883\n",
            "Precision: 0.9882284567429872\n",
            "Recall: 0.9882254572955521\n"
          ],
          "name": "stdout"
        }
      ]
    },
    {
      "cell_type": "markdown",
      "metadata": {
        "id": "BffepPtE67AC",
        "colab_type": "text"
      },
      "source": [
        "Let's invert 7."
      ]
    },
    {
      "cell_type": "code",
      "metadata": {
        "id": "Tw_GE0G8cPgK",
        "colab_type": "code",
        "colab": {
          "base_uri": "https://localhost:8080/",
          "height": 245
        },
        "outputId": "32f20a39-5744-4958-8bde-73431bb78fc6"
      },
      "source": [
        "image_size = (1, 28, 28)\n",
        "alpha = 5000\n",
        "beta = 1000\n",
        "gamma = 0.0001\n",
        "lam = 0.1\n",
        "if mode == 'DEBUG':\n",
        "  alpha = 10\n",
        "  beta = 10\n",
        "  gamma = 0.01\n",
        "  lam = 100\n",
        "\n",
        "label_index = 7\n",
        "img, min_loss = model_inversion(\n",
        "    best_mnist_state['net'], label_index, alpha, beta, gamma, lam, image_size)"
      ],
      "execution_count": 18,
      "outputs": [
        {
          "output_type": "stream",
          "text": [
            "Loss: 0.33020442724227905\n"
          ],
          "name": "stdout"
        },
        {
          "output_type": "stream",
          "text": [
            "/usr/local/lib/python3.6/dist-packages/ipykernel_launcher.py:4: UserWarning: Implicit dimension choice for softmax has been deprecated. Change the call to include dim=X as an argument.\n",
            "  after removing the cwd from sys.path.\n"
          ],
          "name": "stderr"
        },
        {
          "output_type": "stream",
          "text": [
            "Loss: 0.0024031996726989746\n",
            "Loss: 0.001122891902923584\n",
            "Loss: 0.0006666779518127441\n",
            "Loss: 0.0004640817642211914\n",
            "Loss: 0.00035512447357177734\n",
            "Loss: 0.0002866387367248535\n",
            "Loss: 0.00023955106735229492\n",
            "Loss: 0.00020426511764526367\n",
            "Loss: 0.00017780065536499023\n"
          ],
          "name": "stdout"
        }
      ]
    },
    {
      "cell_type": "code",
      "metadata": {
        "id": "RQIccbrwiYZm",
        "colab_type": "code",
        "colab": {
          "base_uri": "https://localhost:8080/",
          "height": 234
        },
        "outputId": "e0228af0-03c2-4bd4-96f5-5f64e24dd4d6"
      },
      "source": [
        "img = img.squeeze()\n",
        "\n",
        "print('The minimum loss:', min_loss)\n",
        "restore(img.cpu())"
      ],
      "execution_count": 19,
      "outputs": [
        {
          "output_type": "stream",
          "text": [
            "The minimum loss: 0.00015664100646972656\n"
          ],
          "name": "stdout"
        },
        {
          "output_type": "execute_result",
          "data": {
            "image/png": "[encoded data removed]",
            "text/plain": [
              "<PIL.Image.Image image mode=L size=200x200 at 0x7FC140B826A0>"
            ]
          },
          "metadata": {
            "tags": []
          },
          "execution_count": 19
        }
      ]
    },
    {
      "cell_type": "markdown",
      "metadata": {
        "id": "F7pLhxWJ61iN",
        "colab_type": "text"
      },
      "source": [
        "Let's invert the 0."
      ]
    },
    {
      "cell_type": "code",
      "metadata": {
        "id": "48kIXyxAiyEK",
        "colab_type": "code",
        "colab": {
          "base_uri": "https://localhost:8080/",
          "height": 245
        },
        "outputId": "ba121398-065a-4fd7-9420-275b1d41149d"
      },
      "source": [
        "label_index = 0\n",
        "img, min_loss = model_inversion(\n",
        "    best_mnist_state['net'], label_index, alpha, beta, gamma, lam, image_size)"
      ],
      "execution_count": 20,
      "outputs": [
        {
          "output_type": "stream",
          "text": [
            "Loss: 0.9889647960662842\n"
          ],
          "name": "stdout"
        },
        {
          "output_type": "stream",
          "text": [
            "/usr/local/lib/python3.6/dist-packages/ipykernel_launcher.py:4: UserWarning: Implicit dimension choice for softmax has been deprecated. Change the call to include dim=X as an argument.\n",
            "  after removing the cwd from sys.path.\n"
          ],
          "name": "stderr"
        },
        {
          "output_type": "stream",
          "text": [
            "Loss: 0.0028635263442993164\n",
            "Loss: 0.0014164447784423828\n",
            "Loss: 0.0009527802467346191\n",
            "Loss: 0.0007150769233703613\n",
            "Loss: 0.0005768537521362305\n",
            "Loss: 0.00048553943634033203\n",
            "Loss: 0.00042241811752319336\n",
            "Loss: 0.0003757476806640625\n",
            "Loss: 0.00033974647521972656\n"
          ],
          "name": "stdout"
        }
      ]
    },
    {
      "cell_type": "code",
      "metadata": {
        "id": "TqmL1QWoje10",
        "colab_type": "code",
        "colab": {
          "base_uri": "https://localhost:8080/",
          "height": 234
        },
        "outputId": "a4925765-594e-4d69-e93d-1dbccaf19d5f"
      },
      "source": [
        "img = img.squeeze()\n",
        "\n",
        "print('The minimum loss:', min_loss)\n",
        "restore(img.cpu())"
      ],
      "execution_count": 21,
      "outputs": [
        {
          "output_type": "stream",
          "text": [
            "The minimum loss: 0.0003107786178588867\n"
          ],
          "name": "stdout"
        },
        {
          "output_type": "execute_result",
          "data": {
            "image/png": "[encoded data removed]",
            "text/plain": [
              "<PIL.Image.Image image mode=L size=200x200 at 0x7FC140B828D0>"
            ]
          },
          "metadata": {
            "tags": []
          },
          "execution_count": 21
        }
      ]
    },
    {
      "cell_type": "markdown",
      "metadata": {
        "id": "5agpHyPTjnRw",
        "colab_type": "text"
      },
      "source": [
        "## Fashion-MNIST"
      ]
    },
    {
      "cell_type": "code",
      "metadata": {
        "id": "qk--XJuNjpT0",
        "colab_type": "code",
        "colab": {
          "base_uri": "https://localhost:8080/",
          "height": 339,
          "referenced_widgets": [
            "a60f873127bd44c59019e331c149f974",
            "da083d5b7acd49ce8f447ab2b3ebf58b",
            "21af62e267104fd3bfa24620c0aaa8d6",
            "5b0de5a04c8d45ceabf80e1020d0944f",
            "110799f64c32407e8d276b1fc9b92ddd",
            "f530691046f34b43adc266fa42b4ff6e",
            "2561e3bd6bbd4aeca0e0b2945e9e6217",
            "4271f8f8aa6f4e71a080f280b03331d1",
            "9b3474d61c454d6dac20ab61ac70e449",
            "1945e00ce4094007893169366a9359be",
            "c6e374d22d7144c5a3442000029f85f8",
            "07f7ec537d514827b0b78f0901582c12",
            "4b20b4612aef470e8e5af6b8e25f0159",
            "c44b2ee5d2a6453390cfb94ddf6057ae",
            "a8a43c223a81470f8a248da83d54fdcf",
            "ab9ed15ada154c0c87ba363821000f5b",
            "388736435fda46a29c6681cdca16f3fa",
            "563885739b0f4e77afb32cc961b708db",
            "baedec5fac6f450a89a6640c00984df0",
            "d33855405bcf4e55a51d436acccad4d3",
            "10496237e31a4f28a9b970f4acb3d478",
            "d040727b8251416b96c5aaa1ff90dca9",
            "e3cf7d9c7d20452ea23e6371d489b0a5",
            "1b7df00acaf3480db1b2fd8dc03fa80b",
            "cdd470d2c0c4461e9468dd8849337f18",
            "e9b8f6fdedd24db39755c541a206f8b2",
            "303a5e4cb42443a887e77b76e97b4530",
            "eb85082a153648078a9e3a3dd4126b91",
            "36aad68282114103b7e0543ce7d682ac",
            "b1e04a16a7324535853867d5f59f79d8",
            "7101bb88368d4f2e92df17c6c7120d2c",
            "f84200e0805b47e1b1b4438d76842f69"
          ]
        },
        "outputId": "ae91106c-7b5c-4b07-bd69-5435453b565e"
      },
      "source": [
        "trainset = torchvision.datasets.FashionMNIST(\n",
        "    './data', train=True, download=True, transform=bw_transform)\n",
        "testset = torchvision.datasets.FashionMNIST(\n",
        "    './data', train=False, download=True, transform=bw_transform)\n",
        "trainloader = torch.utils.data.DataLoader(\n",
        "    trainset, batch_size=batch_size, shuffle=True, num_workers=2)\n",
        "testloader = torch.utils.data.DataLoader(\n",
        "    testset, batch_size=batch_size, shuffle=True, num_workers=2)"
      ],
      "execution_count": 22,
      "outputs": [
        {
          "output_type": "stream",
          "text": [
            "Downloading http://fashion-mnist.s3-website.eu-central-1.amazonaws.com/train-images-idx3-ubyte.gz to ./data/FashionMNIST/raw/train-images-idx3-ubyte.gz\n"
          ],
          "name": "stdout"
        },
        {
          "output_type": "display_data",
          "data": {
            "application/vnd.jupyter.widget-view+json": {
              "model_id": "a60f873127bd44c59019e331c149f974",
              "version_minor": 0,
              "version_major": 2
            },
            "text/plain": [
              "HBox(children=(FloatProgress(value=1.0, bar_style='info', max=1.0), HTML(value='')))"
            ]
          },
          "metadata": {
            "tags": []
          }
        },
        {
          "output_type": "stream",
          "text": [
            "Extracting ./data/FashionMNIST/raw/train-images-idx3-ubyte.gz to ./data/FashionMNIST/raw\n",
            "Downloading http://fashion-mnist.s3-website.eu-central-1.amazonaws.com/train-labels-idx1-ubyte.gz to ./data/FashionMNIST/raw/train-labels-idx1-ubyte.gz\n"
          ],
          "name": "stdout"
        },
        {
          "output_type": "display_data",
          "data": {
            "application/vnd.jupyter.widget-view+json": {
              "model_id": "9b3474d61c454d6dac20ab61ac70e449",
              "version_minor": 0,
              "version_major": 2
            },
            "text/plain": [
              "HBox(children=(FloatProgress(value=1.0, bar_style='info', max=1.0), HTML(value='')))"
            ]
          },
          "metadata": {
            "tags": []
          }
        },
        {
          "output_type": "stream",
          "text": [
            "Extracting ./data/FashionMNIST/raw/train-labels-idx1-ubyte.gz to ./data/FashionMNIST/raw\n",
            "Downloading http://fashion-mnist.s3-website.eu-central-1.amazonaws.com/t10k-images-idx3-ubyte.gz to ./data/FashionMNIST/raw/t10k-images-idx3-ubyte.gz\n"
          ],
          "name": "stdout"
        },
        {
          "output_type": "display_data",
          "data": {
            "application/vnd.jupyter.widget-view+json": {
              "model_id": "388736435fda46a29c6681cdca16f3fa",
              "version_minor": 0,
              "version_major": 2
            },
            "text/plain": [
              "HBox(children=(FloatProgress(value=1.0, bar_style='info', max=1.0), HTML(value='')))"
            ]
          },
          "metadata": {
            "tags": []
          }
        },
        {
          "output_type": "stream",
          "text": [
            "Extracting ./data/FashionMNIST/raw/t10k-images-idx3-ubyte.gz to ./data/FashionMNIST/raw\n",
            "Downloading http://fashion-mnist.s3-website.eu-central-1.amazonaws.com/t10k-labels-idx1-ubyte.gz to ./data/FashionMNIST/raw/t10k-labels-idx1-ubyte.gz\n"
          ],
          "name": "stdout"
        },
        {
          "output_type": "display_data",
          "data": {
            "application/vnd.jupyter.widget-view+json": {
              "model_id": "cdd470d2c0c4461e9468dd8849337f18",
              "version_minor": 0,
              "version_major": 2
            },
            "text/plain": [
              "HBox(children=(FloatProgress(value=1.0, bar_style='info', max=1.0), HTML(value='')))"
            ]
          },
          "metadata": {
            "tags": []
          }
        },
        {
          "output_type": "stream",
          "text": [
            "Extracting ./data/FashionMNIST/raw/t10k-labels-idx1-ubyte.gz to ./data/FashionMNIST/raw\n",
            "Processing...\n",
            "Done!\n"
          ],
          "name": "stdout"
        }
      ]
    },
    {
      "cell_type": "code",
      "metadata": {
        "id": "Q_eNNuwckgC_",
        "colab_type": "code",
        "colab": {
          "base_uri": "https://localhost:8080/",
          "height": 86
        },
        "outputId": "f158c384-5e26-4f09-844b-967d4c99753a"
      },
      "source": [
        "Fashion_CNN = NetBW(10).cuda()\n",
        "criterion = nn.CrossEntropyLoss()\n",
        "optimizer = optim.Adam(Fashion_CNN.parameters(), lr=0.001)\n",
        "scheduler = optim.lr_scheduler.StepLR(optimizer, 2000)"
      ],
      "execution_count": 23,
      "outputs": [
        {
          "output_type": "stream",
          "text": [
            "\n",
            "\n",
            "\n",
            "\n"
          ],
          "name": "stdout"
        }
      ]
    },
    {
      "cell_type": "code",
      "metadata": {
        "id": "M-Tk2ILxlDwr",
        "colab_type": "code",
        "colab": {
          "base_uri": "https://localhost:8080/",
          "height": 940
        },
        "outputId": "2e8a3965-87d7-4723-b9dd-7d64b2f115ef"
      },
      "source": [
        "epoch = 5\n",
        "best_fashion_state = train(\n",
        "    Fashion_CNN, epoch, valid_step, \n",
        "    optimizer, scheduler, criterion, trainloader, testloader)"
      ],
      "execution_count": 24,
      "outputs": [
        {
          "output_type": "stream",
          "text": [
            "/usr/local/lib/python3.6/dist-packages/sklearn/metrics/_classification.py:1272: UndefinedMetricWarning: Precision is ill-defined and being set to 0.0 in labels with no predicted samples. Use `zero_division` parameter to control this behavior.\n",
            "  _warn_prf(average, modifier, msg_start, len(result))\n"
          ],
          "name": "stderr"
        },
        {
          "output_type": "stream",
          "text": [
            "Epoch 1 Iteration 0: train loss: 5.272507, valid loss: 10.948916, accuracy: 0.102600, recall: 0.102600, precision: 0.121667\n",
            "Epoch 1 Iteration 200: train loss: 0.917625, valid loss: 0.506157, accuracy: 0.813300, recall: 0.813300, precision: 0.820813\n",
            "Epoch 1 Iteration 400: train loss: 0.669838, valid loss: 0.400711, accuracy: 0.851700, recall: 0.851700, precision: 0.856133\n",
            "Epoch 1 Iteration 600: train loss: 0.575446, valid loss: 0.395572, accuracy: 0.856100, recall: 0.856100, precision: 0.859207\n",
            "Epoch 1 Iteration 800: train loss: 0.521588, valid loss: 0.342547, accuracy: 0.874600, recall: 0.874600, precision: 0.878708\n",
            "Epoch 1 Iteration 1000: train loss: 0.485383, valid loss: 0.327494, accuracy: 0.878200, recall: 0.878200, precision: 0.878487\n",
            "Epoch 1 Iteration 1200: train loss: 0.456134, valid loss: 0.306885, accuracy: 0.888300, recall: 0.888300, precision: 0.888351\n",
            "Epoch 1 Iteration 1400: train loss: 0.432097, valid loss: 0.288175, accuracy: 0.895000, recall: 0.895000, precision: 0.894445\n",
            "Epoch 1 Iteration 1600: train loss: 0.411997, valid loss: 0.289316, accuracy: 0.888700, recall: 0.888700, precision: 0.887555\n",
            "Epoch 1 Iteration 1800: train loss: 0.398852, valid loss: 0.294303, accuracy: 0.889900, recall: 0.889900, precision: 0.891674\n",
            "Epoch 2 Iteration 0: train loss: 23.387796, valid loss: 0.301979, accuracy: 0.888000, recall: 0.888000, precision: 0.891154\n",
            "Epoch 2 Iteration 200: train loss: 0.399724, valid loss: 0.295433, accuracy: 0.891700, recall: 0.891700, precision: 0.890966\n",
            "Epoch 2 Iteration 400: train loss: 0.310629, valid loss: 0.279307, accuracy: 0.896700, recall: 0.896700, precision: 0.896195\n",
            "Epoch 2 Iteration 600: train loss: 0.276454, valid loss: 0.270566, accuracy: 0.898500, recall: 0.898500, precision: 0.900654\n",
            "Epoch 2 Iteration 800: train loss: 0.258639, valid loss: 0.258833, accuracy: 0.904300, recall: 0.904300, precision: 0.903546\n",
            "Epoch 2 Iteration 1000: train loss: 0.244958, valid loss: 0.259649, accuracy: 0.905100, recall: 0.905100, precision: 0.905745\n",
            "Epoch 2 Iteration 1200: train loss: 0.237579, valid loss: 0.248556, accuracy: 0.907600, recall: 0.907600, precision: 0.906814\n",
            "Epoch 2 Iteration 1400: train loss: 0.228998, valid loss: 0.254083, accuracy: 0.906300, recall: 0.906300, precision: 0.906610\n",
            "Epoch 2 Iteration 1600: train loss: 0.223542, valid loss: 0.244990, accuracy: 0.908700, recall: 0.908700, precision: 0.908508\n",
            "Epoch 2 Iteration 1800: train loss: 0.218139, valid loss: 0.245482, accuracy: 0.910500, recall: 0.910500, precision: 0.910451\n",
            "Epoch 3 Iteration 0: train loss: 105.050613, valid loss: 0.395200, accuracy: 0.858600, recall: 0.858600, precision: 0.872895\n",
            "Epoch 3 Iteration 200: train loss: 0.698804, valid loss: 0.251267, accuracy: 0.908100, recall: 0.908100, precision: 0.907373\n",
            "Epoch 3 Iteration 400: train loss: 0.423788, valid loss: 0.250987, accuracy: 0.908800, recall: 0.908800, precision: 0.909048\n",
            "Epoch 3 Iteration 600: train loss: 0.333629, valid loss: 0.249329, accuracy: 0.909300, recall: 0.909300, precision: 0.909248\n",
            "Epoch 3 Iteration 800: train loss: 0.287616, valid loss: 0.247609, accuracy: 0.909600, recall: 0.909600, precision: 0.909672\n",
            "Epoch 3 Iteration 1000: train loss: 0.260445, valid loss: 0.247798, accuracy: 0.910200, recall: 0.910200, precision: 0.909683\n",
            "Epoch 3 Iteration 1200: train loss: 0.239337, valid loss: 0.248250, accuracy: 0.910800, recall: 0.910800, precision: 0.910513\n",
            "Epoch 3 Iteration 1400: train loss: 0.226483, valid loss: 0.246489, accuracy: 0.910900, recall: 0.910900, precision: 0.910709\n",
            "Epoch 3 Iteration 1600: train loss: 0.217248, valid loss: 0.245772, accuracy: 0.910600, recall: 0.910600, precision: 0.910216\n",
            "Epoch 3 Iteration 1800: train loss: 0.209282, valid loss: 0.246102, accuracy: 0.910800, recall: 0.910800, precision: 0.910365\n",
            "Epoch 4 Iteration 0: train loss: 75.854858, valid loss: 0.283664, accuracy: 0.897400, recall: 0.897400, precision: 0.898296\n",
            "Epoch 4 Iteration 200: train loss: 0.525870, valid loss: 0.261091, accuracy: 0.905600, recall: 0.905600, precision: 0.905180\n",
            "Epoch 4 Iteration 400: train loss: 0.345055, valid loss: 0.257430, accuracy: 0.906700, recall: 0.906700, precision: 0.906637\n",
            "Epoch 4 Iteration 600: train loss: 0.280906, valid loss: 0.258398, accuracy: 0.906100, recall: 0.906100, precision: 0.906029\n",
            "Epoch 4 Iteration 800: train loss: 0.246630, valid loss: 0.257350, accuracy: 0.906200, recall: 0.906200, precision: 0.906089\n",
            "Epoch 4 Iteration 1000: train loss: 0.228056, valid loss: 0.257201, accuracy: 0.906100, recall: 0.906100, precision: 0.905934\n",
            "Epoch 4 Iteration 1200: train loss: 0.216190, valid loss: 0.257193, accuracy: 0.905800, recall: 0.905800, precision: 0.905728\n",
            "Epoch 4 Iteration 1400: train loss: 0.205555, valid loss: 0.257407, accuracy: 0.906000, recall: 0.906000, precision: 0.905884\n",
            "Epoch 4 Iteration 1600: train loss: 0.199088, valid loss: 0.257283, accuracy: 0.906000, recall: 0.906000, precision: 0.905766\n",
            "Epoch 4 Iteration 1800: train loss: 0.193067, valid loss: 0.257374, accuracy: 0.906500, recall: 0.906500, precision: 0.906267\n",
            "Epoch 5 Iteration 0: train loss: 54.455860, valid loss: 0.286439, accuracy: 0.894700, recall: 0.894700, precision: 0.895072\n",
            "Epoch 5 Iteration 200: train loss: 0.451229, valid loss: 0.278899, accuracy: 0.896400, recall: 0.896400, precision: 0.896197\n",
            "Epoch 5 Iteration 400: train loss: 0.316669, valid loss: 0.274513, accuracy: 0.898500, recall: 0.898500, precision: 0.898154\n",
            "Epoch 5 Iteration 600: train loss: 0.269863, valid loss: 0.273553, accuracy: 0.900300, recall: 0.900300, precision: 0.899909\n",
            "Epoch 5 Iteration 800: train loss: 0.241966, valid loss: 0.272919, accuracy: 0.900300, recall: 0.900300, precision: 0.899875\n",
            "Epoch 5 Iteration 1000: train loss: 0.227846, valid loss: 0.272966, accuracy: 0.900400, recall: 0.900400, precision: 0.899959\n",
            "Epoch 5 Iteration 1200: train loss: 0.218820, valid loss: 0.272671, accuracy: 0.900500, recall: 0.900500, precision: 0.900074\n",
            "Epoch 5 Iteration 1400: train loss: 0.211823, valid loss: 0.272845, accuracy: 0.900400, recall: 0.900400, precision: 0.899945\n",
            "Epoch 5 Iteration 1600: train loss: 0.206459, valid loss: 0.272420, accuracy: 0.900700, recall: 0.900700, precision: 0.900226\n",
            "Epoch 5 Iteration 1800: train loss: 0.202566, valid loss: 0.272124, accuracy: 0.900800, recall: 0.900800, precision: 0.900304\n"
          ],
          "name": "stdout"
        }
      ]
    },
    {
      "cell_type": "code",
      "metadata": {
        "id": "mUL7C9wIlLz6",
        "colab_type": "code",
        "colab": {
          "base_uri": "https://localhost:8080/",
          "height": 104
        },
        "outputId": "587fae8f-616f-4fbb-ab8f-4b88938da790"
      },
      "source": [
        "print('Best result:')\n",
        "print('Valid Loss:', best_fashion_state['valid_loss'])\n",
        "print('Valid Accuracy:', best_fashion_state['accuracy'])\n",
        "print('Precision:', best_fashion_state['precision'])\n",
        "print('Recall:', best_fashion_state['recall'])"
      ],
      "execution_count": 25,
      "outputs": [
        {
          "output_type": "stream",
          "text": [
            "Best result:\n",
            "Valid Loss: 0.24498985517329683\n",
            "Valid Accuracy: 0.9087\n",
            "Precision: 0.9085076098210019\n",
            "Recall: 0.9086999999999998\n"
          ],
          "name": "stdout"
        }
      ]
    },
    {
      "cell_type": "markdown",
      "metadata": {
        "id": "_kmYRSqWpvkE",
        "colab_type": "text"
      },
      "source": [
        "Let's invert a bag image"
      ]
    },
    {
      "cell_type": "code",
      "metadata": {
        "id": "eC6CQWn-lWaZ",
        "colab_type": "code",
        "colab": {
          "base_uri": "https://localhost:8080/",
          "height": 124
        },
        "outputId": "0998ec58-e2ea-4f39-fa5d-ffc750dc0666"
      },
      "source": [
        "image_size = (1, 28, 28)\n",
        "alpha = 5000\n",
        "beta = 1000\n",
        "gamma = 0.0001\n",
        "lam = 0.1\n",
        "if mode == 'DEBUG':\n",
        "  alpha = 10\n",
        "  beta = 10\n",
        "  gamma = 0.01\n",
        "  lam = 100\n",
        "\n",
        "label_index = trainset.classes.index('Bag')\n",
        "img, min_loss = model_inversion(\n",
        "    best_fashion_state['net'], label_index, alpha, beta, gamma, lam, image_size)"
      ],
      "execution_count": 26,
      "outputs": [
        {
          "output_type": "stream",
          "text": [
            "Loss: 0.005523264408111572\n"
          ],
          "name": "stdout"
        },
        {
          "output_type": "stream",
          "text": [
            "/usr/local/lib/python3.6/dist-packages/ipykernel_launcher.py:4: UserWarning: Implicit dimension choice for softmax has been deprecated. Change the call to include dim=X as an argument.\n",
            "  after removing the cwd from sys.path.\n"
          ],
          "name": "stderr"
        },
        {
          "output_type": "stream",
          "text": [
            "Loss: 0.00011789798736572266\n",
            "Reach the min value; Loss is:  9.989738464355469e-05\n"
          ],
          "name": "stdout"
        }
      ]
    },
    {
      "cell_type": "code",
      "metadata": {
        "id": "3qMzaod4pR_u",
        "colab_type": "code",
        "colab": {
          "base_uri": "https://localhost:8080/",
          "height": 234
        },
        "outputId": "7ef13134-934c-4408-8b37-8aefd5aa0f13"
      },
      "source": [
        "print('The minimum loss:', min_loss)\n",
        "img = img.squeeze()\n",
        "restore(img.cpu())"
      ],
      "execution_count": 27,
      "outputs": [
        {
          "output_type": "stream",
          "text": [
            "The minimum loss: 9.989738464355469e-05\n"
          ],
          "name": "stdout"
        },
        {
          "output_type": "execute_result",
          "data": {
            "image/png": "[encoded data removed]",
            "text/plain": [
              "<PIL.Image.Image image mode=L size=200x200 at 0x7FC140B69390>"
            ]
          },
          "metadata": {
            "tags": []
          },
          "execution_count": 27
        }
      ]
    },
    {
      "cell_type": "markdown",
      "metadata": {
        "id": "H1rlaWvop4dJ",
        "colab_type": "text"
      },
      "source": [
        "Let's invert a sneaker\n",
        "\n"
      ]
    },
    {
      "cell_type": "code",
      "metadata": {
        "id": "LqhGrz17p32d",
        "colab_type": "code",
        "colab": {
          "base_uri": "https://localhost:8080/",
          "height": 245
        },
        "outputId": "e48a9443-654f-4b11-b56e-15b34647c96d"
      },
      "source": [
        "label_index = trainset.classes.index('Sneaker')\n",
        "img, min_loss = model_inversion(\n",
        "    best_fashion_state['net'], label_index, alpha, beta, gamma, lam, image_size)"
      ],
      "execution_count": 28,
      "outputs": [
        {
          "output_type": "stream",
          "text": [
            "Loss: 0.9998809695243835\n"
          ],
          "name": "stdout"
        },
        {
          "output_type": "stream",
          "text": [
            "/usr/local/lib/python3.6/dist-packages/ipykernel_launcher.py:4: UserWarning: Implicit dimension choice for softmax has been deprecated. Change the call to include dim=X as an argument.\n",
            "  after removing the cwd from sys.path.\n"
          ],
          "name": "stderr"
        },
        {
          "output_type": "stream",
          "text": [
            "Loss: 0.9995118975639343\n",
            "Loss: 0.00441133975982666\n",
            "Loss: 0.0008298158645629883\n",
            "Loss: 0.00046181678771972656\n",
            "Loss: 0.00033020973205566406\n",
            "Loss: 0.00025409460067749023\n",
            "Loss: 0.00020450353622436523\n",
            "Loss: 0.00017154216766357422\n",
            "Loss: 0.00014781951904296875\n"
          ],
          "name": "stdout"
        }
      ]
    },
    {
      "cell_type": "code",
      "metadata": {
        "id": "CcrVMSIRqcmV",
        "colab_type": "code",
        "colab": {
          "base_uri": "https://localhost:8080/",
          "height": 234
        },
        "outputId": "d389f1ce-b2a6-4790-fad5-cd210240aed4"
      },
      "source": [
        "print('The minimum loss:', min_loss)\n",
        "img = img.squeeze()\n",
        "restore(img.cpu())"
      ],
      "execution_count": 29,
      "outputs": [
        {
          "output_type": "stream",
          "text": [
            "The minimum loss: 0.00013017654418945312\n"
          ],
          "name": "stdout"
        },
        {
          "output_type": "execute_result",
          "data": {
            "image/png": "[encoded data removed]",
            "text/plain": [
              "<PIL.Image.Image image mode=L size=200x200 at 0x7FC140B69860>"
            ]
          },
          "metadata": {
            "tags": []
          },
          "execution_count": 29
        }
      ]
    },
    {
      "cell_type": "code",
      "metadata": {
        "id": "ARRuHQHIqzpR",
        "colab_type": "code",
        "colab": {}
      },
      "source": [
        ""
      ],
      "execution_count": 29,
      "outputs": []
    }
  ]
}